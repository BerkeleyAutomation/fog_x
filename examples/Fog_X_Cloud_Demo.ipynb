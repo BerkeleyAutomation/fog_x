{
  "nbformat": 4,
  "nbformat_minor": 0,
  "metadata": {
    "colab": {
      "provenance": []
    },
    "kernelspec": {
      "name": "python3",
      "display_name": "Python 3"
    },
    "language_info": {
      "name": "python"
    }
  },
  "cells": [
    {
      "cell_type": "markdown",
      "source": [
        "# Fog-RTX Cloud Data Collection Demo\n",
        "\n",
        "FogRTX supports a wide range of cloud service providers. In this workbook, we show the support of AWS and google cloud.\n",
        "\n",
        "### AWS"
      ],
      "metadata": {
        "id": "upgVMgpfdSCk"
      }
    },
    {
      "cell_type": "code",
      "execution_count": null,
      "metadata": {
        "id": "ex7qQ3klf2_y"
      },
      "outputs": [],
      "source": [
        "! git clone https://github.com/KeplerC/fog_x.git\n",
        "! cd fog_x && git checkout cloud-demo-dev && pip install ."
      ]
    },
    {
      "cell_type": "markdown",
      "source": [
        "Install required AWS dependency and configure with your aws credential"
      ],
      "metadata": {
        "id": "TbCXBT0rdgR7"
      }
    },
    {
      "cell_type": "code",
      "source": [
        "! curl \"https://awscli.amazonaws.com/awscli-exe-linux-x86_64.zip\" -o \"awscliv2.zip\"\n",
        "! unzip -q awscliv2.zip\n",
        "! sudo ./aws/install\n",
        "! aws configure"
      ],
      "metadata": {
        "id": "k4Q0PXALS0Ol"
      },
      "execution_count": null,
      "outputs": []
    },
    {
      "cell_type": "code",
      "source": [
        "# create an AWS bucket named fog-rtx-test-east-1 (anything you want)\n",
        "!aws s3api create-bucket --bucket fog-rtx-test-east-2 --region us-east-1"
      ],
      "metadata": {
        "id": "r-VhhYFBdqit",
        "colab": {
          "base_uri": "https://localhost:8080/"
        },
        "outputId": "dc9c4b4e-baa9-4401-c4d6-eabed618d30d"
      },
      "execution_count": 3,
      "outputs": [
        {
          "output_type": "stream",
          "name": "stdout",
          "text": [
            "{\n",
            "    \"Location\": \"/fog-rtx-test-east-2\"\n",
            "}\n"
          ]
        }
      ]
    },
    {
      "cell_type": "code",
      "source": [
        "!pip3 install boto3"
      ],
      "metadata": {
        "id": "TlSvbrw8deO1"
      },
      "execution_count": null,
      "outputs": []
    },
    {
      "cell_type": "markdown",
      "source": [
        "### Creating or Loading from existing datasets\n",
        "\n",
        "\n",
        "Fog-RTX can load from the existing bucket, and add more to it!"
      ],
      "metadata": {
        "id": "ZesCYo2udsei"
      }
    },
    {
      "cell_type": "code",
      "source": [
        "import fog_x\n",
        "\n",
        "dataset = fog_x.dataset.Dataset(\n",
        "    name=\"demo_ds\",\n",
        "    path='s3://fog-rtx-test-east-2',\n",
        ")"
      ],
      "metadata": {
        "colab": {
          "base_uri": "https://localhost:8080/"
        },
        "id": "Il5tj-i1f8bG",
        "outputId": "73e922e2-a44d-4d2d-bda9-97c54b15c445"
      },
      "execution_count": 5,
      "outputs": [
        {
          "output_type": "stream",
          "name": "stderr",
          "text": [
            "INFO:fog_x.database.polars_connector:Prepare to load table demo_ds loaded from s3://fog-rtx-test-east-2/demo_ds.parquet.\n",
            "INFO:botocore.credentials:Found credentials in shared credentials file: ~/.aws/credentials\n",
            "INFO:fog_x.database.polars_connector:Table demo_ds loaded from s3://fog-rtx-test-east-2/demo_ds.parquet.\n"
          ]
        }
      ]
    },
    {
      "cell_type": "markdown",
      "source": [
        "read from exisitng AWS stored dataset"
      ],
      "metadata": {
        "id": "TArD9Frhd_U8"
      }
    },
    {
      "cell_type": "code",
      "source": [
        "dataset.get_episode_info()"
      ],
      "metadata": {
        "colab": {
          "base_uri": "https://localhost:8080/",
          "height": 129
        },
        "id": "oLMT8ioUd6Km",
        "outputId": "c7510513-96b8-4942-abc6-84c0541c6759"
      },
      "execution_count": 6,
      "outputs": [
        {
          "output_type": "execute_result",
          "data": {
            "text/plain": [
              "shape: (1, 8)\n",
              "┌────────────┬──────────┬────────────┬────────────┬────────────┬───────────┬───────────┬───────────┐\n",
              "│ episode_id ┆ Finished ┆ feature_ar ┆ feature_ar ┆ arm_camera ┆ feature_g ┆ feature_g ┆ gripper_a │\n",
              "│ ---        ┆ ---      ┆ m_camera_v ┆ m_camera_v ┆ _view_coun ┆ ripper_ac ┆ ripper_ac ┆ cton_coun │\n",
              "│ i64        ┆ bool     ┆ iew_type   ┆ iew_shape  ┆ t          ┆ ton_type  ┆ ton_shape ┆ t         │\n",
              "│            ┆          ┆ ---        ┆ ---        ┆ ---        ┆ ---       ┆ ---       ┆ ---       │\n",
              "│            ┆          ┆ str        ┆ str        ┆ f64        ┆ str       ┆ str       ┆ f64       │\n",
              "╞════════════╪══════════╪════════════╪════════════╪════════════╪═══════════╪═══════════╪═══════════╡\n",
              "│ 0          ┆ true     ┆ float64    ┆ (480, 640, ┆ 0.0        ┆ float64   ┆ (7,)      ┆ 0.0       │\n",
              "│            ┆          ┆            ┆ 3)         ┆            ┆           ┆           ┆           │\n",
              "└────────────┴──────────┴────────────┴────────────┴────────────┴───────────┴───────────┴───────────┘"
            ],
            "text/html": [
              "<div><style>\n",
              ".dataframe > thead > tr,\n",
              ".dataframe > tbody > tr {\n",
              "  text-align: right;\n",
              "  white-space: pre-wrap;\n",
              "}\n",
              "</style>\n",
              "<small>shape: (1, 8)</small><table border=\"1\" class=\"dataframe\"><thead><tr><th>episode_id</th><th>Finished</th><th>feature_arm_camera_view_type</th><th>feature_arm_camera_view_shape</th><th>arm_camera_view_count</th><th>feature_gripper_acton_type</th><th>feature_gripper_acton_shape</th><th>gripper_acton_count</th></tr><tr><td>i64</td><td>bool</td><td>str</td><td>str</td><td>f64</td><td>str</td><td>str</td><td>f64</td></tr></thead><tbody><tr><td>0</td><td>true</td><td>&quot;float64&quot;</td><td>&quot;(480, 640, 3)&quot;</td><td>0.0</td><td>&quot;float64&quot;</td><td>&quot;(7,)&quot;</td><td>0.0</td></tr></tbody></table></div>"
            ]
          },
          "metadata": {},
          "execution_count": 6
        }
      ]
    },
    {
      "cell_type": "markdown",
      "source": [
        "### Adding new data to the dataset"
      ],
      "metadata": {
        "id": "lcij8xiWui0P"
      }
    },
    {
      "cell_type": "code",
      "source": [
        "import numpy as np\n",
        "\n",
        "# create a new trajectory\n",
        "episode = dataset.new_episode()\n",
        "# collect step data for the episode\n",
        "episode.add(feature = \"arm_camera_view\", value = np.random.rand(480, 640, 3))\n",
        "episode.add(feature = \"gripper_acton\", value = np.random.rand(7))\n",
        "# Automatically time-aligns and saves the trajectory\n",
        "episode.close()"
      ],
      "metadata": {
        "colab": {
          "base_uri": "https://localhost:8080/"
        },
        "id": "akiVQqstdnWR",
        "outputId": "a71f273a-025e-4102-cab5-6ecc398140ff"
      },
      "execution_count": 7,
      "outputs": [
        {
          "output_type": "stream",
          "name": "stderr",
          "text": [
            "INFO:fog_x.database.db_manager:Closing the episode with metadata {}\n"
          ]
        }
      ]
    },
    {
      "cell_type": "code",
      "source": [
        "dataset.get_episode_info()"
      ],
      "metadata": {
        "colab": {
          "base_uri": "https://localhost:8080/",
          "height": 161
        },
        "id": "uHZZnvAmeqqx",
        "outputId": "a827585e-d5d0-4fd7-ce9c-51350e50de71"
      },
      "execution_count": 8,
      "outputs": [
        {
          "output_type": "execute_result",
          "data": {
            "text/plain": [
              "shape: (2, 8)\n",
              "┌────────────┬──────────┬────────────┬────────────┬────────────┬───────────┬───────────┬───────────┐\n",
              "│ episode_id ┆ Finished ┆ feature_ar ┆ feature_ar ┆ arm_camera ┆ feature_g ┆ feature_g ┆ gripper_a │\n",
              "│ ---        ┆ ---      ┆ m_camera_v ┆ m_camera_v ┆ _view_coun ┆ ripper_ac ┆ ripper_ac ┆ cton_coun │\n",
              "│ i64        ┆ bool     ┆ iew_type   ┆ iew_shape  ┆ t          ┆ ton_type  ┆ ton_shape ┆ t         │\n",
              "│            ┆          ┆ ---        ┆ ---        ┆ ---        ┆ ---       ┆ ---       ┆ ---       │\n",
              "│            ┆          ┆ str        ┆ str        ┆ f64        ┆ str       ┆ str       ┆ f64       │\n",
              "╞════════════╪══════════╪════════════╪════════════╪════════════╪═══════════╪═══════════╪═══════════╡\n",
              "│ 0          ┆ true     ┆ float64    ┆ (480, 640, ┆ 0.0        ┆ float64   ┆ (7,)      ┆ 0.0       │\n",
              "│            ┆          ┆            ┆ 3)         ┆            ┆           ┆           ┆           │\n",
              "│ 1          ┆ true     ┆ float64    ┆ (480, 640, ┆ 0.0        ┆ float64   ┆ (7,)      ┆ 0.0       │\n",
              "│            ┆          ┆            ┆ 3)         ┆            ┆           ┆           ┆           │\n",
              "└────────────┴──────────┴────────────┴────────────┴────────────┴───────────┴───────────┴───────────┘"
            ],
            "text/html": [
              "<div><style>\n",
              ".dataframe > thead > tr,\n",
              ".dataframe > tbody > tr {\n",
              "  text-align: right;\n",
              "  white-space: pre-wrap;\n",
              "}\n",
              "</style>\n",
              "<small>shape: (2, 8)</small><table border=\"1\" class=\"dataframe\"><thead><tr><th>episode_id</th><th>Finished</th><th>feature_arm_camera_view_type</th><th>feature_arm_camera_view_shape</th><th>arm_camera_view_count</th><th>feature_gripper_acton_type</th><th>feature_gripper_acton_shape</th><th>gripper_acton_count</th></tr><tr><td>i64</td><td>bool</td><td>str</td><td>str</td><td>f64</td><td>str</td><td>str</td><td>f64</td></tr></thead><tbody><tr><td>0</td><td>true</td><td>&quot;float64&quot;</td><td>&quot;(480, 640, 3)&quot;</td><td>0.0</td><td>&quot;float64&quot;</td><td>&quot;(7,)&quot;</td><td>0.0</td></tr><tr><td>1</td><td>true</td><td>&quot;float64&quot;</td><td>&quot;(480, 640, 3)&quot;</td><td>0.0</td><td>&quot;float64&quot;</td><td>&quot;(7,)&quot;</td><td>0.0</td></tr></tbody></table></div>"
            ]
          },
          "metadata": {},
          "execution_count": 8
        }
      ]
    },
    {
      "cell_type": "markdown",
      "source": [
        "### Load Cloud Dataset at different place!\n",
        "The data is automatically uploaded to the cloud!\n",
        "We can create a different reader (you can run this on a different machine).\n",
        "The data is automatically loaded and read!"
      ],
      "metadata": {
        "id": "mUneci9XeHsE"
      }
    },
    {
      "cell_type": "code",
      "source": [
        "dataset2 = fog_x.dataset.Dataset(\n",
        "    name=\"demo_ds\",\n",
        "    path='s3://fog-rtx-test-east-2',\n",
        ")"
      ],
      "metadata": {
        "colab": {
          "base_uri": "https://localhost:8080/"
        },
        "id": "cQHIKeNAeSrY",
        "outputId": "421fb7d5-9839-4ab7-c935-26025ba783d3"
      },
      "execution_count": 9,
      "outputs": [
        {
          "output_type": "stream",
          "name": "stderr",
          "text": [
            "INFO:fog_x.database.polars_connector:Prepare to load table demo_ds loaded from s3://fog-rtx-test-east-2/demo_ds.parquet.\n",
            "INFO:fog_x.database.polars_connector:Table demo_ds loaded from s3://fog-rtx-test-east-2/demo_ds.parquet.\n"
          ]
        }
      ]
    },
    {
      "cell_type": "code",
      "source": [
        "# metadata\n",
        "trajectory_metadata = dataset2.get_episode_info()\n",
        "trajectory_metadata"
      ],
      "metadata": {
        "colab": {
          "base_uri": "https://localhost:8080/",
          "height": 161
        },
        "id": "E4slMiSzf-se",
        "outputId": "79b9813c-beac-4ad2-8c06-625e3d388754"
      },
      "execution_count": 10,
      "outputs": [
        {
          "output_type": "execute_result",
          "data": {
            "text/plain": [
              "shape: (2, 8)\n",
              "┌────────────┬──────────┬────────────┬────────────┬────────────┬───────────┬───────────┬───────────┐\n",
              "│ episode_id ┆ Finished ┆ feature_ar ┆ feature_ar ┆ arm_camera ┆ feature_g ┆ feature_g ┆ gripper_a │\n",
              "│ ---        ┆ ---      ┆ m_camera_v ┆ m_camera_v ┆ _view_coun ┆ ripper_ac ┆ ripper_ac ┆ cton_coun │\n",
              "│ i64        ┆ bool     ┆ iew_type   ┆ iew_shape  ┆ t          ┆ ton_type  ┆ ton_shape ┆ t         │\n",
              "│            ┆          ┆ ---        ┆ ---        ┆ ---        ┆ ---       ┆ ---       ┆ ---       │\n",
              "│            ┆          ┆ str        ┆ str        ┆ f64        ┆ str       ┆ str       ┆ f64       │\n",
              "╞════════════╪══════════╪════════════╪════════════╪════════════╪═══════════╪═══════════╪═══════════╡\n",
              "│ 0          ┆ true     ┆ float64    ┆ (480, 640, ┆ 0.0        ┆ float64   ┆ (7,)      ┆ 0.0       │\n",
              "│            ┆          ┆            ┆ 3)         ┆            ┆           ┆           ┆           │\n",
              "│ 1          ┆ true     ┆ float64    ┆ (480, 640, ┆ 0.0        ┆ float64   ┆ (7,)      ┆ 0.0       │\n",
              "│            ┆          ┆            ┆ 3)         ┆            ┆           ┆           ┆           │\n",
              "└────────────┴──────────┴────────────┴────────────┴────────────┴───────────┴───────────┴───────────┘"
            ],
            "text/html": [
              "<div><style>\n",
              ".dataframe > thead > tr,\n",
              ".dataframe > tbody > tr {\n",
              "  text-align: right;\n",
              "  white-space: pre-wrap;\n",
              "}\n",
              "</style>\n",
              "<small>shape: (2, 8)</small><table border=\"1\" class=\"dataframe\"><thead><tr><th>episode_id</th><th>Finished</th><th>feature_arm_camera_view_type</th><th>feature_arm_camera_view_shape</th><th>arm_camera_view_count</th><th>feature_gripper_acton_type</th><th>feature_gripper_acton_shape</th><th>gripper_acton_count</th></tr><tr><td>i64</td><td>bool</td><td>str</td><td>str</td><td>f64</td><td>str</td><td>str</td><td>f64</td></tr></thead><tbody><tr><td>0</td><td>true</td><td>&quot;float64&quot;</td><td>&quot;(480, 640, 3)&quot;</td><td>0.0</td><td>&quot;float64&quot;</td><td>&quot;(7,)&quot;</td><td>0.0</td></tr><tr><td>1</td><td>true</td><td>&quot;float64&quot;</td><td>&quot;(480, 640, 3)&quot;</td><td>0.0</td><td>&quot;float64&quot;</td><td>&quot;(7,)&quot;</td><td>0.0</td></tr></tbody></table></div>"
            ]
          },
          "metadata": {},
          "execution_count": 10
        }
      ]
    },
    {
      "cell_type": "markdown",
      "source": [
        "# Google Cloud Platform"
      ],
      "metadata": {
        "id": "cB7QVbp6i-Mx"
      }
    },
    {
      "cell_type": "markdown",
      "source": [
        "This can also be done on GCP!\n",
        "\n",
        "Register google cloud credentials\n",
        "\n",
        "Alternative in non-colab environment, run following command instead:\n",
        "```\n",
        "gcloud auth application-default login   --quiet --no-launch-browser\n",
        "```\n"
      ],
      "metadata": {
        "id": "8MIV3MZUjNta"
      }
    },
    {
      "cell_type": "code",
      "source": [
        "from google.colab import auth\n",
        "PROJECT_ID = \"canvas-rampart-342500\"\n",
        "auth.authenticate_user(project_id=PROJECT_ID)"
      ],
      "metadata": {
        "colab": {
          "base_uri": "https://localhost:8080/"
        },
        "id": "ryd_To6LL3nX",
        "outputId": "714ea38c-11d9-44fd-b8c4-5cb4ebd8b242"
      },
      "execution_count": 11,
      "outputs": [
        {
          "output_type": "stream",
          "name": "stderr",
          "text": [
            "INFO:google.colab.auth:Failure refreshing credentials: (\"Failed to retrieve http://metadata.google.internal/computeMetadata/v1/instance/service-accounts/default/?recursive=true from the Google Compute Engine metadata service. Status: 404 Response:\\nb''\", <google.auth.transport.requests._Response object at 0x7e1292cdaad0>)\n",
            "INFO:google.colab.auth:Failure refreshing credentials: (\"Failed to retrieve http://metadata.google.internal/computeMetadata/v1/instance/service-accounts/default/?recursive=true from the Google Compute Engine metadata service. Status: 404 Response:\\nb''\", <google.auth.transport.requests._Response object at 0x7e1292dbbf70>)\n"
          ]
        }
      ]
    },
    {
      "cell_type": "code",
      "source": [
        "! gcloud storage buckets create gs://fog_rtx_test  --location=us-east1"
      ],
      "metadata": {
        "colab": {
          "base_uri": "https://localhost:8080/"
        },
        "id": "fYM3ExvGL3z7",
        "outputId": "31c6bc57-4c3a-4b6f-b7ef-4132af7a926c"
      },
      "execution_count": 12,
      "outputs": [
        {
          "output_type": "stream",
          "name": "stdout",
          "text": [
            "Creating gs://fog_rtx_test/...\n",
            "\u001b[1;31mERROR:\u001b[0m (gcloud.storage.buckets.create) HTTPError 409: Your previous request to create the named bucket succeeded and you already own it.\n"
          ]
        }
      ]
    },
    {
      "cell_type": "code",
      "source": [
        "dataset = fog_x.dataset.Dataset(\n",
        "    name=\"demo_ds\",\n",
        "    path='gs://fog_rtx_test/',\n",
        ")"
      ],
      "metadata": {
        "id": "pd94S4VlL32u",
        "colab": {
          "base_uri": "https://localhost:8080/"
        },
        "outputId": "840c1668-983d-4320-f052-34ab77bb5930"
      },
      "execution_count": 13,
      "outputs": [
        {
          "output_type": "stream",
          "name": "stderr",
          "text": [
            "INFO:fog_x.database.polars_connector:Prepare to load table demo_ds loaded from gs://fog_rtx_test/demo_ds.parquet.\n",
            "WARNING:fog_x.database.polars_connector:Failed to load table demo_ds from gs://fog_rtx_test/demo_ds.parquet.\n",
            "ERROR:fog_x.database.polars_connector:Table demo_ds does not exist, available tables are dict_keys([]).\n"
          ]
        }
      ]
    },
    {
      "cell_type": "code",
      "source": [
        "import numpy as np\n",
        "\n",
        "# create a new trajectory\n",
        "episode = dataset.new_episode()\n",
        "# collect step data for the episode\n",
        "episode.add(feature = \"arm_camera_view\", value = np.random.rand(480, 640, 3))\n",
        "episode.add(feature = \"gripper_acton\", value = np.random.rand(7))\n",
        "# Automatically time-aligns and saves the trajectory\n",
        "episode.close()"
      ],
      "metadata": {
        "colab": {
          "base_uri": "https://localhost:8080/"
        },
        "id": "Boc13CkhmQEs",
        "outputId": "7aa83acf-ce3e-437b-975c-00df0cb999b0"
      },
      "execution_count": 14,
      "outputs": [
        {
          "output_type": "stream",
          "name": "stderr",
          "text": [
            "INFO:fog_x.database.db_manager:Closing the episode with metadata {'Finished': True, 'arm_camera_view_count': 0, 'gripper_acton_count': 0}\n"
          ]
        }
      ]
    },
    {
      "cell_type": "code",
      "source": [
        "dataset2 = fog_x.dataset.Dataset(\n",
        "    name=\"demo_ds\",\n",
        "    path='gs://fog_rtx_test/',\n",
        ")"
      ],
      "metadata": {
        "colab": {
          "base_uri": "https://localhost:8080/"
        },
        "id": "LtzsrO_BtvHB",
        "outputId": "5c5c2bec-f769-4bc2-e185-638a42127af6"
      },
      "execution_count": 17,
      "outputs": [
        {
          "output_type": "stream",
          "name": "stderr",
          "text": [
            "INFO:fog_x.database.polars_connector:Prepare to load table demo_ds loaded from gs://fog_rtx_test/demo_ds.parquet.\n",
            "INFO:fog_x.database.polars_connector:Table demo_ds loaded from gs://fog_rtx_test/demo_ds.parquet.\n"
          ]
        }
      ]
    },
    {
      "cell_type": "code",
      "source": [
        "dataset2.get_episode_info()"
      ],
      "metadata": {
        "colab": {
          "base_uri": "https://localhost:8080/",
          "height": 129
        },
        "id": "95utD8pRtxws",
        "outputId": "0871ad47-d812-41fe-8cc6-67bbb77fe10e"
      },
      "execution_count": 18,
      "outputs": [
        {
          "output_type": "execute_result",
          "data": {
            "text/plain": [
              "shape: (1, 8)\n",
              "┌────────────┬──────────┬────────────┬────────────┬────────────┬───────────┬───────────┬───────────┐\n",
              "│ episode_id ┆ Finished ┆ feature_ar ┆ feature_ar ┆ arm_camera ┆ feature_g ┆ feature_g ┆ gripper_a │\n",
              "│ ---        ┆ ---      ┆ m_camera_v ┆ m_camera_v ┆ _view_coun ┆ ripper_ac ┆ ripper_ac ┆ cton_coun │\n",
              "│ i64        ┆ bool     ┆ iew_type   ┆ iew_shape  ┆ t          ┆ ton_type  ┆ ton_shape ┆ t         │\n",
              "│            ┆          ┆ ---        ┆ ---        ┆ ---        ┆ ---       ┆ ---       ┆ ---       │\n",
              "│            ┆          ┆ str        ┆ str        ┆ f64        ┆ str       ┆ str       ┆ f64       │\n",
              "╞════════════╪══════════╪════════════╪════════════╪════════════╪═══════════╪═══════════╪═══════════╡\n",
              "│ 0          ┆ true     ┆ float64    ┆ (480, 640, ┆ 0.0        ┆ float64   ┆ (7,)      ┆ 0.0       │\n",
              "│            ┆          ┆            ┆ 3)         ┆            ┆           ┆           ┆           │\n",
              "└────────────┴──────────┴────────────┴────────────┴────────────┴───────────┴───────────┴───────────┘"
            ],
            "text/html": [
              "<div><style>\n",
              ".dataframe > thead > tr,\n",
              ".dataframe > tbody > tr {\n",
              "  text-align: right;\n",
              "  white-space: pre-wrap;\n",
              "}\n",
              "</style>\n",
              "<small>shape: (1, 8)</small><table border=\"1\" class=\"dataframe\"><thead><tr><th>episode_id</th><th>Finished</th><th>feature_arm_camera_view_type</th><th>feature_arm_camera_view_shape</th><th>arm_camera_view_count</th><th>feature_gripper_acton_type</th><th>feature_gripper_acton_shape</th><th>gripper_acton_count</th></tr><tr><td>i64</td><td>bool</td><td>str</td><td>str</td><td>f64</td><td>str</td><td>str</td><td>f64</td></tr></thead><tbody><tr><td>0</td><td>true</td><td>&quot;float64&quot;</td><td>&quot;(480, 640, 3)&quot;</td><td>0.0</td><td>&quot;float64&quot;</td><td>&quot;(7,)&quot;</td><td>0.0</td></tr></tbody></table></div>"
            ]
          },
          "metadata": {},
          "execution_count": 18
        }
      ]
    },
    {
      "cell_type": "markdown",
      "source": [
        "### Known issues\n",
        "\n",
        "1. `export` as rlds format to the cloud directly does not work yet for S3 (known issue for tensorflow Gfile)\n",
        "2. (will fix) automatically check the existence"
      ],
      "metadata": {
        "id": "P2RCUMs6knNc"
      }
    },
    {
      "cell_type": "code",
      "source": [],
      "metadata": {
        "id": "QKS5jK-Qk9fN"
      },
      "execution_count": 14,
      "outputs": []
    }
  ]
}