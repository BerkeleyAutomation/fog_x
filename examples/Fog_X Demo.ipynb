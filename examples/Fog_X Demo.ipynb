{
 "cells": [
  {
   "cell_type": "markdown",
   "id": "99458164",
   "metadata": {},
   "source": [
    "# Fog-X Demo\n",
    "\n",
    "In this demo, we show how to use Fog-X to collect and manage your robotics learning dataset. "
   ]
  },
  {
   "cell_type": "code",
   "execution_count": 1,
   "id": "36ed049c",
   "metadata": {
    "scrolled": true
   },
   "outputs": [],
   "source": [
    "import fog_x \n",
    "\n",
    "dataset = fog_x.dataset.Dataset(\n",
    "    name=\"demo_ds\",\n",
    "    path=\"~/test_dataset\",\n",
    ")"
   ]
  },
  {
   "cell_type": "markdown",
   "id": "b636dea1",
   "metadata": {},
   "source": []
  },
  {
   "cell_type": "markdown",
   "id": "6ca883c1",
   "metadata": {},
   "source": [
    "## Loading From Existing Open-X/RT-X datasets"
   ]
  },
  {
   "cell_type": "code",
   "execution_count": 2,
   "id": "f52d6801",
   "metadata": {},
   "outputs": [
    {
     "name": "stderr",
     "output_type": "stream",
     "text": [
      "2024-04-10 04:06:01.675729: I external/local_tsl/tsl/cuda/cudart_stub.cc:31] Could not find cuda drivers on your machine, GPU will not be used.\n",
      "2024-04-10 04:06:02.506547: E external/local_xla/xla/stream_executor/cuda/cuda_dnn.cc:9261] Unable to register cuDNN factory: Attempting to register factory for plugin cuDNN when one has already been registered\n",
      "2024-04-10 04:06:02.506679: E external/local_xla/xla/stream_executor/cuda/cuda_fft.cc:607] Unable to register cuFFT factory: Attempting to register factory for plugin cuFFT when one has already been registered\n",
      "2024-04-10 04:06:02.683658: E external/local_xla/xla/stream_executor/cuda/cuda_blas.cc:1515] Unable to register cuBLAS factory: Attempting to register factory for plugin cuBLAS when one has already been registered\n",
      "2024-04-10 04:06:03.039133: I external/local_tsl/tsl/cuda/cudart_stub.cc:31] Could not find cuda drivers on your machine, GPU will not be used.\n",
      "2024-04-10 04:06:03.044046: I tensorflow/core/platform/cpu_feature_guard.cc:182] This TensorFlow binary is optimized to use available CPU instructions in performance-critical operations.\n",
      "To enable the following instructions: AVX2 AVX512F FMA, in other operations, rebuild TensorFlow with the appropriate compiler flags.\n",
      "2024-04-10 04:06:05.453001: W tensorflow/compiler/tf2tensorrt/utils/py_utils.cc:38] TF-TRT Warning: Could not find TensorRT\n",
      "I 2024-04-10 04:06:09,328 dataset_info.py:610] Load dataset info from gs://gresearch/robotics/berkeley_autolab_ur5/0.1.0\n",
      "I 2024-04-10 04:06:09,984 reader.py:261] Creating a tf.data.Dataset reading 1 files located in folders: gs://gresearch/robotics/berkeley_autolab_ur5/0.1.0.\n",
      "I 2024-04-10 04:06:10,149 logging_logger.py:49] Constructing tf.data.Dataset berkeley_autolab_ur5 for split train[:3], from gs://gresearch/robotics/berkeley_autolab_ur5/0.1.0\n",
      "I 2024-04-10 04:06:10,915 dataset.py:289] {'steps': <_VariantDataset element_spec={'action': {'gripper_closedness_action': TensorSpec(shape=(), dtype=tf.float32, name=None), 'rotation_delta': TensorSpec(shape=(3,), dtype=tf.float32, name=None), 'terminate_episode': TensorSpec(shape=(), dtype=tf.float32, name=None), 'world_vector': TensorSpec(shape=(3,), dtype=tf.float32, name=None)}, 'is_first': TensorSpec(shape=(), dtype=tf.bool, name=None), 'is_last': TensorSpec(shape=(), dtype=tf.bool, name=None), 'is_terminal': TensorSpec(shape=(), dtype=tf.bool, name=None), 'observation': {'hand_image': TensorSpec(shape=(480, 640, 3), dtype=tf.uint8, name=None), 'image': TensorSpec(shape=(480, 640, 3), dtype=tf.uint8, name=None), 'image_with_depth': TensorSpec(shape=(480, 640, 1), dtype=tf.float32, name=None), 'natural_language_embedding': TensorSpec(shape=(512,), dtype=tf.float32, name=None), 'natural_language_instruction': TensorSpec(shape=(), dtype=tf.string, name=None), 'robot_state': TensorSpec(shape=(15,), dtype=tf.float32, name=None)}, 'reward': TensorSpec(shape=(), dtype=tf.float32, name=None)}>}\n",
      "W 2024-04-10 04:06:11,121 feature.py:68] `FeatureConnector.dtype` is deprecated. Please change your code to use NumPy with the field `FeatureConnector.np_dtype` or use TensorFlow with the field `FeatureConnector.tf_dtype`.\n",
      "W 2024-04-10 04:06:11,129 feature.py:68] `FeatureConnector.dtype` is deprecated. Please change your code to use NumPy with the field `FeatureConnector.np_dtype` or use TensorFlow with the field `FeatureConnector.tf_dtype`.\n",
      "W 2024-04-10 04:06:11,134 feature.py:68] `FeatureConnector.dtype` is deprecated. Please change your code to use NumPy with the field `FeatureConnector.np_dtype` or use TensorFlow with the field `FeatureConnector.tf_dtype`.\n",
      "W 2024-04-10 04:06:11,138 feature.py:68] `FeatureConnector.dtype` is deprecated. Please change your code to use NumPy with the field `FeatureConnector.np_dtype` or use TensorFlow with the field `FeatureConnector.tf_dtype`.\n",
      "W 2024-04-10 04:06:11,142 feature.py:68] `FeatureConnector.dtype` is deprecated. Please change your code to use NumPy with the field `FeatureConnector.np_dtype` or use TensorFlow with the field `FeatureConnector.tf_dtype`.\n",
      "W 2024-04-10 04:06:11,145 feature.py:68] `FeatureConnector.dtype` is deprecated. Please change your code to use NumPy with the field `FeatureConnector.np_dtype` or use TensorFlow with the field `FeatureConnector.tf_dtype`.\n",
      "W 2024-04-10 04:06:11,150 feature.py:68] `FeatureConnector.dtype` is deprecated. Please change your code to use NumPy with the field `FeatureConnector.np_dtype` or use TensorFlow with the field `FeatureConnector.tf_dtype`.\n",
      "W 2024-04-10 04:06:11,258 feature.py:68] `FeatureConnector.dtype` is deprecated. Please change your code to use NumPy with the field `FeatureConnector.np_dtype` or use TensorFlow with the field `FeatureConnector.tf_dtype`.\n",
      "W 2024-04-10 04:06:11,261 feature.py:68] `FeatureConnector.dtype` is deprecated. Please change your code to use NumPy with the field `FeatureConnector.np_dtype` or use TensorFlow with the field `FeatureConnector.tf_dtype`.\n",
      "W 2024-04-10 04:06:11,266 feature.py:68] `FeatureConnector.dtype` is deprecated. Please change your code to use NumPy with the field `FeatureConnector.np_dtype` or use TensorFlow with the field `FeatureConnector.tf_dtype`.\n",
      "I 2024-04-10 04:06:21,246 dataset.py:289] {'steps': <_VariantDataset element_spec={'action': {'gripper_closedness_action': TensorSpec(shape=(), dtype=tf.float32, name=None), 'rotation_delta': TensorSpec(shape=(3,), dtype=tf.float32, name=None), 'terminate_episode': TensorSpec(shape=(), dtype=tf.float32, name=None), 'world_vector': TensorSpec(shape=(3,), dtype=tf.float32, name=None)}, 'is_first': TensorSpec(shape=(), dtype=tf.bool, name=None), 'is_last': TensorSpec(shape=(), dtype=tf.bool, name=None), 'is_terminal': TensorSpec(shape=(), dtype=tf.bool, name=None), 'observation': {'hand_image': TensorSpec(shape=(480, 640, 3), dtype=tf.uint8, name=None), 'image': TensorSpec(shape=(480, 640, 3), dtype=tf.uint8, name=None), 'image_with_depth': TensorSpec(shape=(480, 640, 1), dtype=tf.float32, name=None), 'natural_language_embedding': TensorSpec(shape=(512,), dtype=tf.float32, name=None), 'natural_language_instruction': TensorSpec(shape=(), dtype=tf.string, name=None), 'robot_state': TensorSpec(shape=(15,), dtype=tf.float32, name=None)}, 'reward': TensorSpec(shape=(), dtype=tf.float32, name=None)}>}\n",
      "I 2024-04-10 04:06:31,009 dataset.py:289] {'steps': <_VariantDataset element_spec={'action': {'gripper_closedness_action': TensorSpec(shape=(), dtype=tf.float32, name=None), 'rotation_delta': TensorSpec(shape=(3,), dtype=tf.float32, name=None), 'terminate_episode': TensorSpec(shape=(), dtype=tf.float32, name=None), 'world_vector': TensorSpec(shape=(3,), dtype=tf.float32, name=None)}, 'is_first': TensorSpec(shape=(), dtype=tf.bool, name=None), 'is_last': TensorSpec(shape=(), dtype=tf.bool, name=None), 'is_terminal': TensorSpec(shape=(), dtype=tf.bool, name=None), 'observation': {'hand_image': TensorSpec(shape=(480, 640, 3), dtype=tf.uint8, name=None), 'image': TensorSpec(shape=(480, 640, 3), dtype=tf.uint8, name=None), 'image_with_depth': TensorSpec(shape=(480, 640, 1), dtype=tf.float32, name=None), 'natural_language_embedding': TensorSpec(shape=(512,), dtype=tf.float32, name=None), 'natural_language_instruction': TensorSpec(shape=(), dtype=tf.string, name=None), 'robot_state': TensorSpec(shape=(15,), dtype=tf.float32, name=None)}, 'reward': TensorSpec(shape=(), dtype=tf.float32, name=None)}>}\n"
     ]
    }
   ],
   "source": [
    "dataset.load_rtx_episodes(\n",
    "    name=\"berkeley_autolab_ur5\",\n",
    "    split=\"train[:3]\",\n",
    ")"
   ]
  },
  {
   "cell_type": "markdown",
   "id": "ff7c5aa1",
   "metadata": {},
   "source": [
    "### Trajectory Metadata and Data\n",
    "\n",
    "Fog-X makes a distinction between trajectory metadata and the actual data. \n",
    "* **Metadata**: information that is consistent across a certain trajectory, such as language command, tags\n",
    "* **Data**: data for individual steps within a trajectory"
   ]
  },
  {
   "cell_type": "code",
   "execution_count": 3,
   "id": "5f3c6241",
   "metadata": {},
   "outputs": [
    {
     "data": {
      "text/html": [
       "<div><style>\n",
       ".dataframe > thead > tr,\n",
       ".dataframe > tbody > tr {\n",
       "  text-align: right;\n",
       "  white-space: pre-wrap;\n",
       "}\n",
       "</style>\n",
       "<small>shape: (51, 44)</small><table border=\"1\" class=\"dataframe\"><thead><tr><th>episode_id</th><th>Finished</th><th>feature_gripper_closedness_action_type</th><th>feature_gripper_closedness_action_shape</th><th>gripper_closedness_action_count</th><th>feature_rotation_delta_type</th><th>feature_rotation_delta_shape</th><th>rotation_delta_count</th><th>feature_terminate_episode_type</th><th>feature_terminate_episode_shape</th><th>terminate_episode_count</th><th>feature_world_vector_type</th><th>feature_world_vector_shape</th><th>world_vector_count</th><th>feature_is_first_type</th><th>feature_is_first_shape</th><th>is_first_count</th><th>feature_is_last_type</th><th>feature_is_last_shape</th><th>is_last_count</th><th>feature_is_terminal_type</th><th>feature_is_terminal_shape</th><th>is_terminal_count</th><th>feature_hand_image_type</th><th>feature_hand_image_shape</th><th>hand_image_count</th><th>feature_image_type</th><th>feature_image_shape</th><th>image_count</th><th>feature_image_with_depth_type</th><th>feature_image_with_depth_shape</th><th>image_with_depth_count</th><th>feature_natural_language_embedding_type</th><th>feature_natural_language_embedding_shape</th><th>natural_language_embedding_count</th><th>feature_natural_language_instruction_type</th><th>feature_natural_language_instruction_shape</th><th>natural_language_instruction_count</th><th>feature_robot_state_type</th><th>feature_robot_state_shape</th><th>robot_state_count</th><th>feature_reward_type</th><th>feature_reward_shape</th><th>reward_count</th></tr><tr><td>i64</td><td>bool</td><td>str</td><td>str</td><td>f64</td><td>str</td><td>str</td><td>f64</td><td>str</td><td>str</td><td>f64</td><td>str</td><td>str</td><td>f64</td><td>str</td><td>str</td><td>f64</td><td>str</td><td>str</td><td>f64</td><td>str</td><td>str</td><td>f64</td><td>str</td><td>str</td><td>f64</td><td>str</td><td>str</td><td>f64</td><td>str</td><td>str</td><td>f64</td><td>str</td><td>str</td><td>f64</td><td>str</td><td>str</td><td>f64</td><td>str</td><td>str</td><td>f64</td><td>str</td><td>str</td><td>f64</td></tr></thead><tbody><tr><td>0</td><td>true</td><td>&quot;float32&quot;</td><td>&quot;()&quot;</td><td>71.0</td><td>&quot;float32&quot;</td><td>&quot;(3,)&quot;</td><td>71.0</td><td>&quot;float32&quot;</td><td>&quot;()&quot;</td><td>71.0</td><td>&quot;float32&quot;</td><td>&quot;(3,)&quot;</td><td>71.0</td><td>&quot;bool&quot;</td><td>&quot;()&quot;</td><td>71.0</td><td>&quot;bool&quot;</td><td>&quot;()&quot;</td><td>71.0</td><td>&quot;bool&quot;</td><td>&quot;()&quot;</td><td>71.0</td><td>&quot;uint8&quot;</td><td>&quot;(480, 640, 3)&quot;</td><td>71.0</td><td>&quot;uint8&quot;</td><td>&quot;(480, 640, 3)&quot;</td><td>71.0</td><td>&quot;float32&quot;</td><td>&quot;(480, 640, 1)&quot;</td><td>71.0</td><td>&quot;float32&quot;</td><td>&quot;(512,)&quot;</td><td>71.0</td><td>&quot;string&quot;</td><td>&quot;()&quot;</td><td>71.0</td><td>&quot;float32&quot;</td><td>&quot;(15,)&quot;</td><td>71.0</td><td>&quot;float32&quot;</td><td>&quot;()&quot;</td><td>71.0</td></tr><tr><td>1</td><td>true</td><td>&quot;float32&quot;</td><td>&quot;()&quot;</td><td>76.0</td><td>&quot;float32&quot;</td><td>&quot;(3,)&quot;</td><td>76.0</td><td>&quot;float32&quot;</td><td>&quot;()&quot;</td><td>76.0</td><td>&quot;float32&quot;</td><td>&quot;(3,)&quot;</td><td>76.0</td><td>&quot;bool&quot;</td><td>&quot;()&quot;</td><td>76.0</td><td>&quot;bool&quot;</td><td>&quot;()&quot;</td><td>76.0</td><td>&quot;bool&quot;</td><td>&quot;()&quot;</td><td>76.0</td><td>&quot;uint8&quot;</td><td>&quot;(480, 640, 3)&quot;</td><td>76.0</td><td>&quot;uint8&quot;</td><td>&quot;(480, 640, 3)&quot;</td><td>76.0</td><td>&quot;float32&quot;</td><td>&quot;(480, 640, 1)&quot;</td><td>76.0</td><td>&quot;float32&quot;</td><td>&quot;(512,)&quot;</td><td>76.0</td><td>&quot;string&quot;</td><td>&quot;()&quot;</td><td>76.0</td><td>&quot;float32&quot;</td><td>&quot;(15,)&quot;</td><td>76.0</td><td>&quot;float32&quot;</td><td>&quot;()&quot;</td><td>76.0</td></tr><tr><td>2</td><td>true</td><td>&quot;float32&quot;</td><td>&quot;()&quot;</td><td>81.0</td><td>&quot;float32&quot;</td><td>&quot;(3,)&quot;</td><td>81.0</td><td>&quot;float32&quot;</td><td>&quot;()&quot;</td><td>81.0</td><td>&quot;float32&quot;</td><td>&quot;(3,)&quot;</td><td>81.0</td><td>&quot;bool&quot;</td><td>&quot;()&quot;</td><td>81.0</td><td>&quot;bool&quot;</td><td>&quot;()&quot;</td><td>81.0</td><td>&quot;bool&quot;</td><td>&quot;()&quot;</td><td>81.0</td><td>&quot;uint8&quot;</td><td>&quot;(480, 640, 3)&quot;</td><td>81.0</td><td>&quot;uint8&quot;</td><td>&quot;(480, 640, 3)&quot;</td><td>81.0</td><td>&quot;float32&quot;</td><td>&quot;(480, 640, 1)&quot;</td><td>81.0</td><td>&quot;float32&quot;</td><td>&quot;(512,)&quot;</td><td>81.0</td><td>&quot;string&quot;</td><td>&quot;()&quot;</td><td>81.0</td><td>&quot;float32&quot;</td><td>&quot;(15,)&quot;</td><td>81.0</td><td>&quot;float32&quot;</td><td>&quot;()&quot;</td><td>81.0</td></tr><tr><td>3</td><td>true</td><td>&quot;float32&quot;</td><td>&quot;()&quot;</td><td>71.0</td><td>&quot;float32&quot;</td><td>&quot;(3,)&quot;</td><td>71.0</td><td>&quot;float32&quot;</td><td>&quot;()&quot;</td><td>71.0</td><td>&quot;float32&quot;</td><td>&quot;(3,)&quot;</td><td>71.0</td><td>&quot;bool&quot;</td><td>&quot;()&quot;</td><td>71.0</td><td>&quot;bool&quot;</td><td>&quot;()&quot;</td><td>71.0</td><td>&quot;bool&quot;</td><td>&quot;()&quot;</td><td>71.0</td><td>&quot;uint8&quot;</td><td>&quot;(480, 640, 3)&quot;</td><td>71.0</td><td>&quot;uint8&quot;</td><td>&quot;(480, 640, 3)&quot;</td><td>71.0</td><td>&quot;float32&quot;</td><td>&quot;(480, 640, 1)&quot;</td><td>71.0</td><td>&quot;float32&quot;</td><td>&quot;(512,)&quot;</td><td>71.0</td><td>&quot;string&quot;</td><td>&quot;()&quot;</td><td>71.0</td><td>&quot;float32&quot;</td><td>&quot;(15,)&quot;</td><td>71.0</td><td>&quot;float32&quot;</td><td>&quot;()&quot;</td><td>71.0</td></tr><tr><td>4</td><td>true</td><td>&quot;float32&quot;</td><td>&quot;()&quot;</td><td>76.0</td><td>&quot;float32&quot;</td><td>&quot;(3,)&quot;</td><td>76.0</td><td>&quot;float32&quot;</td><td>&quot;()&quot;</td><td>76.0</td><td>&quot;float32&quot;</td><td>&quot;(3,)&quot;</td><td>76.0</td><td>&quot;bool&quot;</td><td>&quot;()&quot;</td><td>76.0</td><td>&quot;bool&quot;</td><td>&quot;()&quot;</td><td>76.0</td><td>&quot;bool&quot;</td><td>&quot;()&quot;</td><td>76.0</td><td>&quot;uint8&quot;</td><td>&quot;(480, 640, 3)&quot;</td><td>76.0</td><td>&quot;uint8&quot;</td><td>&quot;(480, 640, 3)&quot;</td><td>76.0</td><td>&quot;float32&quot;</td><td>&quot;(480, 640, 1)&quot;</td><td>76.0</td><td>&quot;float32&quot;</td><td>&quot;(512,)&quot;</td><td>76.0</td><td>&quot;string&quot;</td><td>&quot;()&quot;</td><td>76.0</td><td>&quot;float32&quot;</td><td>&quot;(15,)&quot;</td><td>76.0</td><td>&quot;float32&quot;</td><td>&quot;()&quot;</td><td>76.0</td></tr><tr><td>&hellip;</td><td>&hellip;</td><td>&hellip;</td><td>&hellip;</td><td>&hellip;</td><td>&hellip;</td><td>&hellip;</td><td>&hellip;</td><td>&hellip;</td><td>&hellip;</td><td>&hellip;</td><td>&hellip;</td><td>&hellip;</td><td>&hellip;</td><td>&hellip;</td><td>&hellip;</td><td>&hellip;</td><td>&hellip;</td><td>&hellip;</td><td>&hellip;</td><td>&hellip;</td><td>&hellip;</td><td>&hellip;</td><td>&hellip;</td><td>&hellip;</td><td>&hellip;</td><td>&hellip;</td><td>&hellip;</td><td>&hellip;</td><td>&hellip;</td><td>&hellip;</td><td>&hellip;</td><td>&hellip;</td><td>&hellip;</td><td>&hellip;</td><td>&hellip;</td><td>&hellip;</td><td>&hellip;</td><td>&hellip;</td><td>&hellip;</td><td>&hellip;</td><td>&hellip;</td><td>&hellip;</td><td>&hellip;</td></tr><tr><td>46</td><td>true</td><td>&quot;float32&quot;</td><td>&quot;()&quot;</td><td>76.0</td><td>&quot;float32&quot;</td><td>&quot;(3,)&quot;</td><td>76.0</td><td>&quot;float32&quot;</td><td>&quot;()&quot;</td><td>76.0</td><td>&quot;float32&quot;</td><td>&quot;(3,)&quot;</td><td>76.0</td><td>&quot;bool&quot;</td><td>&quot;()&quot;</td><td>76.0</td><td>&quot;bool&quot;</td><td>&quot;()&quot;</td><td>76.0</td><td>&quot;bool&quot;</td><td>&quot;()&quot;</td><td>76.0</td><td>&quot;uint8&quot;</td><td>&quot;(480, 640, 3)&quot;</td><td>76.0</td><td>&quot;uint8&quot;</td><td>&quot;(480, 640, 3)&quot;</td><td>76.0</td><td>&quot;float32&quot;</td><td>&quot;(480, 640, 1)&quot;</td><td>76.0</td><td>&quot;float32&quot;</td><td>&quot;(512,)&quot;</td><td>76.0</td><td>&quot;string&quot;</td><td>&quot;()&quot;</td><td>76.0</td><td>&quot;float32&quot;</td><td>&quot;(15,)&quot;</td><td>76.0</td><td>&quot;float32&quot;</td><td>&quot;()&quot;</td><td>76.0</td></tr><tr><td>47</td><td>true</td><td>&quot;float32&quot;</td><td>&quot;()&quot;</td><td>81.0</td><td>&quot;float32&quot;</td><td>&quot;(3,)&quot;</td><td>81.0</td><td>&quot;float32&quot;</td><td>&quot;()&quot;</td><td>81.0</td><td>&quot;float32&quot;</td><td>&quot;(3,)&quot;</td><td>81.0</td><td>&quot;bool&quot;</td><td>&quot;()&quot;</td><td>81.0</td><td>&quot;bool&quot;</td><td>&quot;()&quot;</td><td>81.0</td><td>&quot;bool&quot;</td><td>&quot;()&quot;</td><td>81.0</td><td>&quot;uint8&quot;</td><td>&quot;(480, 640, 3)&quot;</td><td>81.0</td><td>&quot;uint8&quot;</td><td>&quot;(480, 640, 3)&quot;</td><td>81.0</td><td>&quot;float32&quot;</td><td>&quot;(480, 640, 1)&quot;</td><td>81.0</td><td>&quot;float32&quot;</td><td>&quot;(512,)&quot;</td><td>81.0</td><td>&quot;string&quot;</td><td>&quot;()&quot;</td><td>81.0</td><td>&quot;float32&quot;</td><td>&quot;(15,)&quot;</td><td>81.0</td><td>&quot;float32&quot;</td><td>&quot;()&quot;</td><td>81.0</td></tr><tr><td>48</td><td>true</td><td>&quot;float32&quot;</td><td>&quot;()&quot;</td><td>71.0</td><td>&quot;float32&quot;</td><td>&quot;(3,)&quot;</td><td>71.0</td><td>&quot;float32&quot;</td><td>&quot;()&quot;</td><td>71.0</td><td>&quot;float32&quot;</td><td>&quot;(3,)&quot;</td><td>71.0</td><td>&quot;bool&quot;</td><td>&quot;()&quot;</td><td>71.0</td><td>&quot;bool&quot;</td><td>&quot;()&quot;</td><td>71.0</td><td>&quot;bool&quot;</td><td>&quot;()&quot;</td><td>71.0</td><td>&quot;uint8&quot;</td><td>&quot;(480, 640, 3)&quot;</td><td>71.0</td><td>&quot;uint8&quot;</td><td>&quot;(480, 640, 3)&quot;</td><td>71.0</td><td>&quot;float32&quot;</td><td>&quot;(480, 640, 1)&quot;</td><td>71.0</td><td>&quot;float32&quot;</td><td>&quot;(512,)&quot;</td><td>71.0</td><td>&quot;string&quot;</td><td>&quot;()&quot;</td><td>71.0</td><td>&quot;float32&quot;</td><td>&quot;(15,)&quot;</td><td>71.0</td><td>&quot;float32&quot;</td><td>&quot;()&quot;</td><td>71.0</td></tr><tr><td>49</td><td>true</td><td>&quot;float32&quot;</td><td>&quot;()&quot;</td><td>76.0</td><td>&quot;float32&quot;</td><td>&quot;(3,)&quot;</td><td>76.0</td><td>&quot;float32&quot;</td><td>&quot;()&quot;</td><td>76.0</td><td>&quot;float32&quot;</td><td>&quot;(3,)&quot;</td><td>76.0</td><td>&quot;bool&quot;</td><td>&quot;()&quot;</td><td>76.0</td><td>&quot;bool&quot;</td><td>&quot;()&quot;</td><td>76.0</td><td>&quot;bool&quot;</td><td>&quot;()&quot;</td><td>76.0</td><td>&quot;uint8&quot;</td><td>&quot;(480, 640, 3)&quot;</td><td>76.0</td><td>&quot;uint8&quot;</td><td>&quot;(480, 640, 3)&quot;</td><td>76.0</td><td>&quot;float32&quot;</td><td>&quot;(480, 640, 1)&quot;</td><td>76.0</td><td>&quot;float32&quot;</td><td>&quot;(512,)&quot;</td><td>76.0</td><td>&quot;string&quot;</td><td>&quot;()&quot;</td><td>76.0</td><td>&quot;float32&quot;</td><td>&quot;(15,)&quot;</td><td>76.0</td><td>&quot;float32&quot;</td><td>&quot;()&quot;</td><td>76.0</td></tr><tr><td>50</td><td>true</td><td>&quot;float32&quot;</td><td>&quot;()&quot;</td><td>81.0</td><td>&quot;float32&quot;</td><td>&quot;(3,)&quot;</td><td>81.0</td><td>&quot;float32&quot;</td><td>&quot;()&quot;</td><td>81.0</td><td>&quot;float32&quot;</td><td>&quot;(3,)&quot;</td><td>81.0</td><td>&quot;bool&quot;</td><td>&quot;()&quot;</td><td>81.0</td><td>&quot;bool&quot;</td><td>&quot;()&quot;</td><td>81.0</td><td>&quot;bool&quot;</td><td>&quot;()&quot;</td><td>81.0</td><td>&quot;uint8&quot;</td><td>&quot;(480, 640, 3)&quot;</td><td>81.0</td><td>&quot;uint8&quot;</td><td>&quot;(480, 640, 3)&quot;</td><td>81.0</td><td>&quot;float32&quot;</td><td>&quot;(480, 640, 1)&quot;</td><td>81.0</td><td>&quot;float32&quot;</td><td>&quot;(512,)&quot;</td><td>81.0</td><td>&quot;string&quot;</td><td>&quot;()&quot;</td><td>81.0</td><td>&quot;float32&quot;</td><td>&quot;(15,)&quot;</td><td>81.0</td><td>&quot;float32&quot;</td><td>&quot;()&quot;</td><td>81.0</td></tr></tbody></table></div>"
      ],
      "text/plain": [
       "shape: (51, 44)\n",
       "┌───────────┬──────────┬───────────┬───────────┬───┬───────────┬───────────┬───────────┬───────────┐\n",
       "│ episode_i ┆ Finished ┆ feature_g ┆ feature_g ┆ … ┆ robot_sta ┆ feature_r ┆ feature_r ┆ reward_co │\n",
       "│ d         ┆ ---      ┆ ripper_cl ┆ ripper_cl ┆   ┆ te_count  ┆ eward_typ ┆ eward_sha ┆ unt       │\n",
       "│ ---       ┆ bool     ┆ osedness_ ┆ osedness_ ┆   ┆ ---       ┆ e         ┆ pe        ┆ ---       │\n",
       "│ i64       ┆          ┆ actio…    ┆ actio…    ┆   ┆ f64       ┆ ---       ┆ ---       ┆ f64       │\n",
       "│           ┆          ┆ ---       ┆ ---       ┆   ┆           ┆ str       ┆ str       ┆           │\n",
       "│           ┆          ┆ str       ┆ str       ┆   ┆           ┆           ┆           ┆           │\n",
       "╞═══════════╪══════════╪═══════════╪═══════════╪═══╪═══════════╪═══════════╪═══════════╪═══════════╡\n",
       "│ 0         ┆ true     ┆ float32   ┆ ()        ┆ … ┆ 71.0      ┆ float32   ┆ ()        ┆ 71.0      │\n",
       "│ 1         ┆ true     ┆ float32   ┆ ()        ┆ … ┆ 76.0      ┆ float32   ┆ ()        ┆ 76.0      │\n",
       "│ 2         ┆ true     ┆ float32   ┆ ()        ┆ … ┆ 81.0      ┆ float32   ┆ ()        ┆ 81.0      │\n",
       "│ 3         ┆ true     ┆ float32   ┆ ()        ┆ … ┆ 71.0      ┆ float32   ┆ ()        ┆ 71.0      │\n",
       "│ 4         ┆ true     ┆ float32   ┆ ()        ┆ … ┆ 76.0      ┆ float32   ┆ ()        ┆ 76.0      │\n",
       "│ …         ┆ …        ┆ …         ┆ …         ┆ … ┆ …         ┆ …         ┆ …         ┆ …         │\n",
       "│ 46        ┆ true     ┆ float32   ┆ ()        ┆ … ┆ 76.0      ┆ float32   ┆ ()        ┆ 76.0      │\n",
       "│ 47        ┆ true     ┆ float32   ┆ ()        ┆ … ┆ 81.0      ┆ float32   ┆ ()        ┆ 81.0      │\n",
       "│ 48        ┆ true     ┆ float32   ┆ ()        ┆ … ┆ 71.0      ┆ float32   ┆ ()        ┆ 71.0      │\n",
       "│ 49        ┆ true     ┆ float32   ┆ ()        ┆ … ┆ 76.0      ┆ float32   ┆ ()        ┆ 76.0      │\n",
       "│ 50        ┆ true     ┆ float32   ┆ ()        ┆ … ┆ 81.0      ┆ float32   ┆ ()        ┆ 81.0      │\n",
       "└───────────┴──────────┴───────────┴───────────┴───┴───────────┴───────────┴───────────┴───────────┘"
      ]
     },
     "execution_count": 3,
     "metadata": {},
     "output_type": "execute_result"
    }
   ],
   "source": [
    "# metadata\n",
    "trajectory_metadata = dataset.get_episode_info()\n",
    "trajectory_metadata"
   ]
  },
  {
   "cell_type": "code",
   "execution_count": 4,
   "id": "d965ed5a",
   "metadata": {},
   "outputs": [
    {
     "ename": "",
     "evalue": "",
     "output_type": "error",
     "traceback": [
      "\u001b[1;31mThe Kernel crashed while executing code in the current cell or a previous cell. \n",
      "\u001b[1;31mPlease review the code in the cell(s) to identify a possible cause of the failure. \n",
      "\u001b[1;31mClick <a href='https://aka.ms/vscodeJupyterKernelCrash'>here</a> for more info. \n",
      "\u001b[1;31mView Jupyter <a href='command:jupyter.viewOutput'>log</a> for further details."
     ]
    }
   ],
   "source": [
    "# data for ALL trajectories \n",
    "# these data are loaded lazily that only actively used data is loaded to memory\n",
    "all_step_data = dataset.get_step_data()\n",
    "# use .describe to get the summary of the information\n",
    "all_step_data.describe() "
   ]
  },
  {
   "cell_type": "markdown",
   "id": "e065eeda",
   "metadata": {},
   "source": [
    "### Lazy Loading Step Data\n",
    "Al the step data are loaded on demand to save space in memory. You can see the loading time difference between the lazy loading and loading all the data from disk. "
   ]
  },
  {
   "cell_type": "code",
   "execution_count": null,
   "id": "46dfe5a9",
   "metadata": {},
   "outputs": [],
   "source": [
    "# data for individual episode \n",
    "%timeit dataset.get_step_data_by_episode_ids([1,2,3])"
   ]
  },
  {
   "cell_type": "code",
   "execution_count": null,
   "id": "d5d265ff",
   "metadata": {},
   "outputs": [],
   "source": [
    "%timeit dataset.get_step_data_by_episode_ids([1,2,3], as_lazy_frame=False)"
   ]
  },
  {
   "cell_type": "markdown",
   "id": "443a9043",
   "metadata": {},
   "source": [
    "## Data Analytics and Management\n"
   ]
  },
  {
   "cell_type": "markdown",
   "id": "c771c5e9",
   "metadata": {},
   "source": [
    "### Example 1: Add new Episode information metadata and Filter\n",
    "\n",
    "Suppose another person collects another set of the data and you want to distinguish who collects what.  \n"
   ]
  },
  {
   "cell_type": "code",
   "execution_count": null,
   "id": "a7b97900",
   "metadata": {},
   "outputs": [],
   "source": [
    "# this loads another 2 episodes \n",
    "dataset.load_rtx_episodes(\n",
    "    name=\"berkeley_autolab_ur5\",\n",
    "    split=\"train[3:5]\",\n",
    "    additional_metadata={\"collector\": \"User 2\", \"custom_tag\": \"Partition_2\"},\n",
    ")"
   ]
  },
  {
   "cell_type": "markdown",
   "id": "31157fa6",
   "metadata": {},
   "source": [
    "now the metadata table looks like"
   ]
  },
  {
   "cell_type": "code",
   "execution_count": null,
   "id": "87177338",
   "metadata": {},
   "outputs": [],
   "source": [
    "dataset.get_episode_info().select([\"episode_id\", \"collector\", \"custom_tag\"])"
   ]
  },
  {
   "cell_type": "code",
   "execution_count": null,
   "id": "857f3c87",
   "metadata": {},
   "outputs": [],
   "source": [
    "episode_info = dataset.get_episode_info()\n",
    "# querying non-existent metadata \n",
    "metadata = episode_info.filter(episode_info[\"collector\"] == \"User_Do_No_Exist\")\n",
    "episodes = dataset.read_by(metadata)"
   ]
  },
  {
   "cell_type": "code",
   "execution_count": null,
   "id": "d713a974",
   "metadata": {},
   "outputs": [],
   "source": [
    "metadata = episode_info.filter(episode_info[\"custom_tag\"] == \"Partition_2\")\n",
    "episodes = dataset.read_by(metadata)\n",
    "episodes, episodes[0].describe()"
   ]
  },
  {
   "cell_type": "markdown",
   "id": "b575fec7",
   "metadata": {},
   "source": [
    "### Example 2: Extracts and Searches natural language instructions from step data \n",
    "\n",
    "Existing Open-X datasets store natural language instructions for every step, which costs inefficiency and manage complexity. This example shows \n",
    "1. how to extracts natural language instruction from existing Open-X datasets\n",
    "2. search for keywords or **regex** "
   ]
  },
  {
   "cell_type": "code",
   "execution_count": null,
   "id": "23a47f3e",
   "metadata": {},
   "outputs": [],
   "source": [
    "id_to_language_instruction = (\n",
    "    dataset.get_step_data()\n",
    "    .select(\"episode_id\", \"natural_language_instruction\")# only interested in episode id and language column\n",
    "    .collect() # the frame is lazily evaluated at memory when we call collect() \n",
    ")\n",
    "\n",
    "# print out unique natural_language_instructions \n",
    "# https://docs.pola.rs/py-polars/html/reference/dataframe/api/polars.DataFrame.unique.html \n",
    "id_to_language_instruction.unique(subset=[\"natural_language_instruction\"], maintain_order=True)"
   ]
  },
  {
   "cell_type": "code",
   "execution_count": null,
   "id": "c248af4f",
   "metadata": {},
   "outputs": [],
   "source": [
    "all_step_data = dataset.get_step_data() # get lazy frame of the entire step-level dataset\n",
    "id_to_language_instruction = (\n",
    "    all_step_data\n",
    "    .select(\"episode_id\", \"natural_language_instruction\") \n",
    "    .group_by(\"episode_id\") # group by unqiue language ids, since language instruction is stored for every step\n",
    "    .last()  # since instruction is same for all steps in an episode, we can just take the last one\n",
    "    .collect() # the frame is lazily evaluated until we call collect() \n",
    ")\n",
    "\n",
    "# join with the metadata \n",
    "episode_metadata = dataset.get_episode_info().join(id_to_language_instruction, on=\"episode_id\")"
   ]
  },
  {
   "cell_type": "code",
   "execution_count": null,
   "id": "4978f740",
   "metadata": {},
   "outputs": [],
   "source": [
    "import polars as pl \n",
    "# Decode byte strings to strings\n",
    "episode_metadata = episode_metadata.with_columns(episode_metadata['natural_language_instruction'].map_elements(lambda x: x.decode('utf-8')).alias('decoded'))\n",
    "\n",
    "# Filter rows where 'string_col' contains \"example\"\n",
    "result = episode_metadata.filter(\n",
    "    pl.col(\"decoded\").str.contains(\"green|red\").alias(\"cloth\") # supports regex!\n",
    ")\n",
    "print(result.select([\"episode_id\", \"decoded\"]))"
   ]
  },
  {
   "cell_type": "markdown",
   "id": "dc16dd8d",
   "metadata": {},
   "source": [
    "We use polars as backend for data processing and management. This example demonstrates its capabaility and flexiblitiy. Please refer to https://docs.pola.rs/py-polars/html/reference/lazyframe/index.html all the available interfaces "
   ]
  },
  {
   "cell_type": "markdown",
   "id": "851a95a5",
   "metadata": {},
   "source": [
    "## Use, Export and Share"
   ]
  },
  {
   "cell_type": "markdown",
   "id": "cd797c72",
   "metadata": {},
   "source": [
    "### As Open-X dataset \n",
    "In tensorflow rlds dataset format"
   ]
  },
  {
   "cell_type": "code",
   "execution_count": null,
   "id": "2f3872a3",
   "metadata": {},
   "outputs": [],
   "source": [
    "dataset.export(format=\"rtx\")"
   ]
  },
  {
   "cell_type": "markdown",
   "id": "8e4ed6a6",
   "metadata": {},
   "source": [
    "### Huggingface dataset "
   ]
  },
  {
   "cell_type": "code",
   "execution_count": null,
   "id": "c7bb9c0d",
   "metadata": {},
   "outputs": [],
   "source": [
    "import datasets\n",
    "\n",
    "huggingface_ds = dataset.get_as_huggingface_dataset()\n",
    "\n",
    "print(f\"Hugging face dataset: {huggingface_ds}\")"
   ]
  },
  {
   "cell_type": "markdown",
   "id": "fd38e642",
   "metadata": {},
   "source": [
    "### Pytorch Dataset"
   ]
  },
  {
   "cell_type": "code",
   "execution_count": null,
   "id": "3c54437b",
   "metadata": {},
   "outputs": [],
   "source": [
    "import torch \n",
    "\n",
    "pytorch_ds = dataset.pytorch_dataset_builder(\n",
    "    metadata=dataset.get_metadata_as_pandas_df()\n",
    ")\n",
    "\n",
    "\n",
    "for data in torch.utils.data.DataLoader(\n",
    "    pytorch_ds,\n",
    "    batch_size=2,\n",
    "    collate_fn=lambda x: x,\n",
    "    sampler=torch.utils.data.RandomSampler(pytorch_ds),\n",
    "):\n",
    "    print(data)\n"
   ]
  },
  {
   "cell_type": "code",
   "execution_count": null,
   "id": "6884ff9c",
   "metadata": {},
   "outputs": [],
   "source": [
    "%load_ext autoreload\n",
    "%autoreload 2"
   ]
  },
  {
   "cell_type": "code",
   "execution_count": null,
   "id": "e4cf0b65",
   "metadata": {},
   "outputs": [],
   "source": []
  }
 ],
 "metadata": {
  "kernelspec": {
   "display_name": "Python 3 (ipykernel)",
   "language": "python",
   "name": "python3"
  },
  "language_info": {
   "codemirror_mode": {
    "name": "ipython",
    "version": 3
   },
   "file_extension": ".py",
   "mimetype": "text/x-python",
   "name": "python",
   "nbconvert_exporter": "python",
   "pygments_lexer": "ipython3",
   "version": "3.10.12"
  }
 },
 "nbformat": 4,
 "nbformat_minor": 5
}
