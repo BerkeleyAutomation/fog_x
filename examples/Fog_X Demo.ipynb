{
 "cells": [
  {
   "cell_type": "markdown",
   "id": "99458164",
   "metadata": {},
   "source": [
    "# Fog-X Demo\n",
    "\n",
    "In this demo, we show how to use Fog-X to collect and manage your robotics learning dataset. We show the following aspects of the Fog-X: \n",
    "* Support for existing Open-X datasets\n",
    "* Data Analytics and Management \n",
    "* Use for Pytorch Learning\n",
    "* Export and Share with Open-X (Tensorflow rlds) and HuggingFace\n",
    "\n",
    "We also compare the disk saving (43\\%!) of Fog-X at the end."
   ]
  },
  {
   "cell_type": "code",
   "execution_count": 2,
   "id": "36ed049c",
   "metadata": {
    "scrolled": true
   },
   "outputs": [],
   "source": [
    "import fog_x \n",
    "\n",
    "dataset = fog_x.dataset.Dataset(\n",
    "    name=\"demo_ds\",\n",
    "    path=\"~/test_dataset\",\n",
    ")"
   ]
  },
  {
   "cell_type": "markdown",
   "id": "b636dea1",
   "metadata": {},
   "source": []
  },
  {
   "cell_type": "markdown",
   "id": "6ca883c1",
   "metadata": {},
   "source": [
    "## Loading From Existing Open-X/RT-X datasets"
   ]
  },
  {
   "cell_type": "code",
   "execution_count": null,
   "id": "f52d6801",
   "metadata": {},
   "outputs": [],
   "source": [
    "dataset.load_rtx_episodes(\n",
    "    name=\"berkeley_autolab_ur5\",\n",
    "    split=\"train[:10]\",\n",
    ")"
   ]
  },
  {
   "cell_type": "markdown",
   "id": "ff7c5aa1",
   "metadata": {},
   "source": [
    "### Trajectory Metadata and Data\n",
    "\n",
    "Fog-X makes a distinction between trajectory metadata and the actual data. \n",
    "* **Metadata**: information that is consistent across a certain trajectory, such as language command, tags\n",
    "* **Data**: data for individual steps within a trajectory"
   ]
  },
  {
   "cell_type": "code",
   "execution_count": 4,
   "id": "5f3c6241",
   "metadata": {},
   "outputs": [
    {
     "data": {
      "text/html": [
       "<div><style>\n",
       ".dataframe > thead > tr,\n",
       ".dataframe > tbody > tr {\n",
       "  text-align: right;\n",
       "  white-space: pre-wrap;\n",
       "}\n",
       "</style>\n",
       "<small>shape: (11, 44)</small><table border=\"1\" class=\"dataframe\"><thead><tr><th>episode_id</th><th>Finished</th><th>feature_gripper_closedness_action_type</th><th>feature_gripper_closedness_action_shape</th><th>gripper_closedness_action_count</th><th>feature_rotation_delta_type</th><th>feature_rotation_delta_shape</th><th>rotation_delta_count</th><th>feature_terminate_episode_type</th><th>feature_terminate_episode_shape</th><th>terminate_episode_count</th><th>feature_world_vector_type</th><th>feature_world_vector_shape</th><th>world_vector_count</th><th>feature_is_first_type</th><th>feature_is_first_shape</th><th>is_first_count</th><th>feature_is_last_type</th><th>feature_is_last_shape</th><th>is_last_count</th><th>feature_is_terminal_type</th><th>feature_is_terminal_shape</th><th>is_terminal_count</th><th>feature_hand_image_type</th><th>feature_hand_image_shape</th><th>hand_image_count</th><th>feature_image_type</th><th>feature_image_shape</th><th>image_count</th><th>feature_image_with_depth_type</th><th>feature_image_with_depth_shape</th><th>image_with_depth_count</th><th>feature_natural_language_embedding_type</th><th>feature_natural_language_embedding_shape</th><th>natural_language_embedding_count</th><th>feature_natural_language_instruction_type</th><th>feature_natural_language_instruction_shape</th><th>natural_language_instruction_count</th><th>feature_robot_state_type</th><th>feature_robot_state_shape</th><th>robot_state_count</th><th>feature_reward_type</th><th>feature_reward_shape</th><th>reward_count</th></tr><tr><td>i64</td><td>bool</td><td>str</td><td>str</td><td>f64</td><td>str</td><td>str</td><td>f64</td><td>str</td><td>str</td><td>f64</td><td>str</td><td>str</td><td>f64</td><td>str</td><td>str</td><td>f64</td><td>str</td><td>str</td><td>f64</td><td>str</td><td>str</td><td>f64</td><td>str</td><td>str</td><td>f64</td><td>str</td><td>str</td><td>f64</td><td>str</td><td>str</td><td>f64</td><td>str</td><td>str</td><td>f64</td><td>str</td><td>str</td><td>f64</td><td>str</td><td>str</td><td>f64</td><td>str</td><td>str</td><td>f64</td></tr></thead><tbody><tr><td>0</td><td>true</td><td>&quot;float32&quot;</td><td>&quot;()&quot;</td><td>71.0</td><td>&quot;float32&quot;</td><td>&quot;(3,)&quot;</td><td>71.0</td><td>&quot;float32&quot;</td><td>&quot;()&quot;</td><td>71.0</td><td>&quot;float32&quot;</td><td>&quot;(3,)&quot;</td><td>71.0</td><td>&quot;bool&quot;</td><td>&quot;()&quot;</td><td>71.0</td><td>&quot;bool&quot;</td><td>&quot;()&quot;</td><td>71.0</td><td>&quot;bool&quot;</td><td>&quot;()&quot;</td><td>71.0</td><td>&quot;uint8&quot;</td><td>&quot;(480, 640, 3)&quot;</td><td>71.0</td><td>&quot;uint8&quot;</td><td>&quot;(480, 640, 3)&quot;</td><td>71.0</td><td>&quot;float32&quot;</td><td>&quot;(480, 640, 1)&quot;</td><td>71.0</td><td>&quot;float32&quot;</td><td>&quot;(512,)&quot;</td><td>71.0</td><td>&quot;string&quot;</td><td>&quot;()&quot;</td><td>71.0</td><td>&quot;float32&quot;</td><td>&quot;(15,)&quot;</td><td>71.0</td><td>&quot;float32&quot;</td><td>&quot;()&quot;</td><td>71.0</td></tr><tr><td>1</td><td>true</td><td>&quot;float32&quot;</td><td>&quot;()&quot;</td><td>71.0</td><td>&quot;float32&quot;</td><td>&quot;(3,)&quot;</td><td>71.0</td><td>&quot;float32&quot;</td><td>&quot;()&quot;</td><td>71.0</td><td>&quot;float32&quot;</td><td>&quot;(3,)&quot;</td><td>71.0</td><td>&quot;bool&quot;</td><td>&quot;()&quot;</td><td>71.0</td><td>&quot;bool&quot;</td><td>&quot;()&quot;</td><td>71.0</td><td>&quot;bool&quot;</td><td>&quot;()&quot;</td><td>71.0</td><td>&quot;uint8&quot;</td><td>&quot;(480, 640, 3)&quot;</td><td>71.0</td><td>&quot;uint8&quot;</td><td>&quot;(480, 640, 3)&quot;</td><td>71.0</td><td>&quot;float32&quot;</td><td>&quot;(480, 640, 1)&quot;</td><td>71.0</td><td>&quot;float32&quot;</td><td>&quot;(512,)&quot;</td><td>71.0</td><td>&quot;string&quot;</td><td>&quot;()&quot;</td><td>71.0</td><td>&quot;float32&quot;</td><td>&quot;(15,)&quot;</td><td>71.0</td><td>&quot;float32&quot;</td><td>&quot;()&quot;</td><td>71.0</td></tr><tr><td>2</td><td>true</td><td>&quot;float32&quot;</td><td>&quot;()&quot;</td><td>76.0</td><td>&quot;float32&quot;</td><td>&quot;(3,)&quot;</td><td>76.0</td><td>&quot;float32&quot;</td><td>&quot;()&quot;</td><td>76.0</td><td>&quot;float32&quot;</td><td>&quot;(3,)&quot;</td><td>76.0</td><td>&quot;bool&quot;</td><td>&quot;()&quot;</td><td>76.0</td><td>&quot;bool&quot;</td><td>&quot;()&quot;</td><td>76.0</td><td>&quot;bool&quot;</td><td>&quot;()&quot;</td><td>76.0</td><td>&quot;uint8&quot;</td><td>&quot;(480, 640, 3)&quot;</td><td>76.0</td><td>&quot;uint8&quot;</td><td>&quot;(480, 640, 3)&quot;</td><td>76.0</td><td>&quot;float32&quot;</td><td>&quot;(480, 640, 1)&quot;</td><td>76.0</td><td>&quot;float32&quot;</td><td>&quot;(512,)&quot;</td><td>76.0</td><td>&quot;string&quot;</td><td>&quot;()&quot;</td><td>76.0</td><td>&quot;float32&quot;</td><td>&quot;(15,)&quot;</td><td>76.0</td><td>&quot;float32&quot;</td><td>&quot;()&quot;</td><td>76.0</td></tr><tr><td>3</td><td>true</td><td>&quot;float32&quot;</td><td>&quot;()&quot;</td><td>81.0</td><td>&quot;float32&quot;</td><td>&quot;(3,)&quot;</td><td>81.0</td><td>&quot;float32&quot;</td><td>&quot;()&quot;</td><td>81.0</td><td>&quot;float32&quot;</td><td>&quot;(3,)&quot;</td><td>81.0</td><td>&quot;bool&quot;</td><td>&quot;()&quot;</td><td>81.0</td><td>&quot;bool&quot;</td><td>&quot;()&quot;</td><td>81.0</td><td>&quot;bool&quot;</td><td>&quot;()&quot;</td><td>81.0</td><td>&quot;uint8&quot;</td><td>&quot;(480, 640, 3)&quot;</td><td>81.0</td><td>&quot;uint8&quot;</td><td>&quot;(480, 640, 3)&quot;</td><td>81.0</td><td>&quot;float32&quot;</td><td>&quot;(480, 640, 1)&quot;</td><td>81.0</td><td>&quot;float32&quot;</td><td>&quot;(512,)&quot;</td><td>81.0</td><td>&quot;string&quot;</td><td>&quot;()&quot;</td><td>81.0</td><td>&quot;float32&quot;</td><td>&quot;(15,)&quot;</td><td>81.0</td><td>&quot;float32&quot;</td><td>&quot;()&quot;</td><td>81.0</td></tr><tr><td>4</td><td>true</td><td>&quot;float32&quot;</td><td>&quot;()&quot;</td><td>80.0</td><td>&quot;float32&quot;</td><td>&quot;(3,)&quot;</td><td>80.0</td><td>&quot;float32&quot;</td><td>&quot;()&quot;</td><td>80.0</td><td>&quot;float32&quot;</td><td>&quot;(3,)&quot;</td><td>80.0</td><td>&quot;bool&quot;</td><td>&quot;()&quot;</td><td>80.0</td><td>&quot;bool&quot;</td><td>&quot;()&quot;</td><td>80.0</td><td>&quot;bool&quot;</td><td>&quot;()&quot;</td><td>80.0</td><td>&quot;uint8&quot;</td><td>&quot;(480, 640, 3)&quot;</td><td>80.0</td><td>&quot;uint8&quot;</td><td>&quot;(480, 640, 3)&quot;</td><td>80.0</td><td>&quot;float32&quot;</td><td>&quot;(480, 640, 1)&quot;</td><td>80.0</td><td>&quot;float32&quot;</td><td>&quot;(512,)&quot;</td><td>80.0</td><td>&quot;string&quot;</td><td>&quot;()&quot;</td><td>80.0</td><td>&quot;float32&quot;</td><td>&quot;(15,)&quot;</td><td>80.0</td><td>&quot;float32&quot;</td><td>&quot;()&quot;</td><td>80.0</td></tr><tr><td>&hellip;</td><td>&hellip;</td><td>&hellip;</td><td>&hellip;</td><td>&hellip;</td><td>&hellip;</td><td>&hellip;</td><td>&hellip;</td><td>&hellip;</td><td>&hellip;</td><td>&hellip;</td><td>&hellip;</td><td>&hellip;</td><td>&hellip;</td><td>&hellip;</td><td>&hellip;</td><td>&hellip;</td><td>&hellip;</td><td>&hellip;</td><td>&hellip;</td><td>&hellip;</td><td>&hellip;</td><td>&hellip;</td><td>&hellip;</td><td>&hellip;</td><td>&hellip;</td><td>&hellip;</td><td>&hellip;</td><td>&hellip;</td><td>&hellip;</td><td>&hellip;</td><td>&hellip;</td><td>&hellip;</td><td>&hellip;</td><td>&hellip;</td><td>&hellip;</td><td>&hellip;</td><td>&hellip;</td><td>&hellip;</td><td>&hellip;</td><td>&hellip;</td><td>&hellip;</td><td>&hellip;</td><td>&hellip;</td></tr><tr><td>6</td><td>true</td><td>&quot;float32&quot;</td><td>&quot;()&quot;</td><td>103.0</td><td>&quot;float32&quot;</td><td>&quot;(3,)&quot;</td><td>103.0</td><td>&quot;float32&quot;</td><td>&quot;()&quot;</td><td>103.0</td><td>&quot;float32&quot;</td><td>&quot;(3,)&quot;</td><td>103.0</td><td>&quot;bool&quot;</td><td>&quot;()&quot;</td><td>103.0</td><td>&quot;bool&quot;</td><td>&quot;()&quot;</td><td>103.0</td><td>&quot;bool&quot;</td><td>&quot;()&quot;</td><td>103.0</td><td>&quot;uint8&quot;</td><td>&quot;(480, 640, 3)&quot;</td><td>103.0</td><td>&quot;uint8&quot;</td><td>&quot;(480, 640, 3)&quot;</td><td>103.0</td><td>&quot;float32&quot;</td><td>&quot;(480, 640, 1)&quot;</td><td>103.0</td><td>&quot;float32&quot;</td><td>&quot;(512,)&quot;</td><td>103.0</td><td>&quot;string&quot;</td><td>&quot;()&quot;</td><td>103.0</td><td>&quot;float32&quot;</td><td>&quot;(15,)&quot;</td><td>103.0</td><td>&quot;float32&quot;</td><td>&quot;()&quot;</td><td>103.0</td></tr><tr><td>7</td><td>true</td><td>&quot;float32&quot;</td><td>&quot;()&quot;</td><td>110.0</td><td>&quot;float32&quot;</td><td>&quot;(3,)&quot;</td><td>110.0</td><td>&quot;float32&quot;</td><td>&quot;()&quot;</td><td>110.0</td><td>&quot;float32&quot;</td><td>&quot;(3,)&quot;</td><td>110.0</td><td>&quot;bool&quot;</td><td>&quot;()&quot;</td><td>110.0</td><td>&quot;bool&quot;</td><td>&quot;()&quot;</td><td>110.0</td><td>&quot;bool&quot;</td><td>&quot;()&quot;</td><td>110.0</td><td>&quot;uint8&quot;</td><td>&quot;(480, 640, 3)&quot;</td><td>110.0</td><td>&quot;uint8&quot;</td><td>&quot;(480, 640, 3)&quot;</td><td>110.0</td><td>&quot;float32&quot;</td><td>&quot;(480, 640, 1)&quot;</td><td>110.0</td><td>&quot;float32&quot;</td><td>&quot;(512,)&quot;</td><td>110.0</td><td>&quot;string&quot;</td><td>&quot;()&quot;</td><td>110.0</td><td>&quot;float32&quot;</td><td>&quot;(15,)&quot;</td><td>110.0</td><td>&quot;float32&quot;</td><td>&quot;()&quot;</td><td>110.0</td></tr><tr><td>8</td><td>true</td><td>&quot;float32&quot;</td><td>&quot;()&quot;</td><td>118.0</td><td>&quot;float32&quot;</td><td>&quot;(3,)&quot;</td><td>118.0</td><td>&quot;float32&quot;</td><td>&quot;()&quot;</td><td>118.0</td><td>&quot;float32&quot;</td><td>&quot;(3,)&quot;</td><td>118.0</td><td>&quot;bool&quot;</td><td>&quot;()&quot;</td><td>118.0</td><td>&quot;bool&quot;</td><td>&quot;()&quot;</td><td>118.0</td><td>&quot;bool&quot;</td><td>&quot;()&quot;</td><td>118.0</td><td>&quot;uint8&quot;</td><td>&quot;(480, 640, 3)&quot;</td><td>118.0</td><td>&quot;uint8&quot;</td><td>&quot;(480, 640, 3)&quot;</td><td>118.0</td><td>&quot;float32&quot;</td><td>&quot;(480, 640, 1)&quot;</td><td>118.0</td><td>&quot;float32&quot;</td><td>&quot;(512,)&quot;</td><td>118.0</td><td>&quot;string&quot;</td><td>&quot;()&quot;</td><td>118.0</td><td>&quot;float32&quot;</td><td>&quot;(15,)&quot;</td><td>118.0</td><td>&quot;float32&quot;</td><td>&quot;()&quot;</td><td>118.0</td></tr><tr><td>9</td><td>true</td><td>&quot;float32&quot;</td><td>&quot;()&quot;</td><td>84.0</td><td>&quot;float32&quot;</td><td>&quot;(3,)&quot;</td><td>84.0</td><td>&quot;float32&quot;</td><td>&quot;()&quot;</td><td>84.0</td><td>&quot;float32&quot;</td><td>&quot;(3,)&quot;</td><td>84.0</td><td>&quot;bool&quot;</td><td>&quot;()&quot;</td><td>84.0</td><td>&quot;bool&quot;</td><td>&quot;()&quot;</td><td>84.0</td><td>&quot;bool&quot;</td><td>&quot;()&quot;</td><td>84.0</td><td>&quot;uint8&quot;</td><td>&quot;(480, 640, 3)&quot;</td><td>84.0</td><td>&quot;uint8&quot;</td><td>&quot;(480, 640, 3)&quot;</td><td>84.0</td><td>&quot;float32&quot;</td><td>&quot;(480, 640, 1)&quot;</td><td>84.0</td><td>&quot;float32&quot;</td><td>&quot;(512,)&quot;</td><td>84.0</td><td>&quot;string&quot;</td><td>&quot;()&quot;</td><td>84.0</td><td>&quot;float32&quot;</td><td>&quot;(15,)&quot;</td><td>84.0</td><td>&quot;float32&quot;</td><td>&quot;()&quot;</td><td>84.0</td></tr><tr><td>10</td><td>true</td><td>&quot;float32&quot;</td><td>&quot;()&quot;</td><td>97.0</td><td>&quot;float32&quot;</td><td>&quot;(3,)&quot;</td><td>97.0</td><td>&quot;float32&quot;</td><td>&quot;()&quot;</td><td>97.0</td><td>&quot;float32&quot;</td><td>&quot;(3,)&quot;</td><td>97.0</td><td>&quot;bool&quot;</td><td>&quot;()&quot;</td><td>97.0</td><td>&quot;bool&quot;</td><td>&quot;()&quot;</td><td>97.0</td><td>&quot;bool&quot;</td><td>&quot;()&quot;</td><td>97.0</td><td>&quot;uint8&quot;</td><td>&quot;(480, 640, 3)&quot;</td><td>97.0</td><td>&quot;uint8&quot;</td><td>&quot;(480, 640, 3)&quot;</td><td>97.0</td><td>&quot;float32&quot;</td><td>&quot;(480, 640, 1)&quot;</td><td>97.0</td><td>&quot;float32&quot;</td><td>&quot;(512,)&quot;</td><td>97.0</td><td>&quot;string&quot;</td><td>&quot;()&quot;</td><td>97.0</td><td>&quot;float32&quot;</td><td>&quot;(15,)&quot;</td><td>97.0</td><td>&quot;float32&quot;</td><td>&quot;()&quot;</td><td>97.0</td></tr></tbody></table></div>"
      ],
      "text/plain": [
       "shape: (11, 44)\n",
       "┌───────────┬──────────┬───────────┬───────────┬───┬───────────┬───────────┬───────────┬───────────┐\n",
       "│ episode_i ┆ Finished ┆ feature_g ┆ feature_g ┆ … ┆ robot_sta ┆ feature_r ┆ feature_r ┆ reward_co │\n",
       "│ d         ┆ ---      ┆ ripper_cl ┆ ripper_cl ┆   ┆ te_count  ┆ eward_typ ┆ eward_sha ┆ unt       │\n",
       "│ ---       ┆ bool     ┆ osedness_ ┆ osedness_ ┆   ┆ ---       ┆ e         ┆ pe        ┆ ---       │\n",
       "│ i64       ┆          ┆ actio…    ┆ actio…    ┆   ┆ f64       ┆ ---       ┆ ---       ┆ f64       │\n",
       "│           ┆          ┆ ---       ┆ ---       ┆   ┆           ┆ str       ┆ str       ┆           │\n",
       "│           ┆          ┆ str       ┆ str       ┆   ┆           ┆           ┆           ┆           │\n",
       "╞═══════════╪══════════╪═══════════╪═══════════╪═══╪═══════════╪═══════════╪═══════════╪═══════════╡\n",
       "│ 0         ┆ true     ┆ float32   ┆ ()        ┆ … ┆ 71.0      ┆ float32   ┆ ()        ┆ 71.0      │\n",
       "│ 1         ┆ true     ┆ float32   ┆ ()        ┆ … ┆ 71.0      ┆ float32   ┆ ()        ┆ 71.0      │\n",
       "│ 2         ┆ true     ┆ float32   ┆ ()        ┆ … ┆ 76.0      ┆ float32   ┆ ()        ┆ 76.0      │\n",
       "│ 3         ┆ true     ┆ float32   ┆ ()        ┆ … ┆ 81.0      ┆ float32   ┆ ()        ┆ 81.0      │\n",
       "│ 4         ┆ true     ┆ float32   ┆ ()        ┆ … ┆ 80.0      ┆ float32   ┆ ()        ┆ 80.0      │\n",
       "│ …         ┆ …        ┆ …         ┆ …         ┆ … ┆ …         ┆ …         ┆ …         ┆ …         │\n",
       "│ 6         ┆ true     ┆ float32   ┆ ()        ┆ … ┆ 103.0     ┆ float32   ┆ ()        ┆ 103.0     │\n",
       "│ 7         ┆ true     ┆ float32   ┆ ()        ┆ … ┆ 110.0     ┆ float32   ┆ ()        ┆ 110.0     │\n",
       "│ 8         ┆ true     ┆ float32   ┆ ()        ┆ … ┆ 118.0     ┆ float32   ┆ ()        ┆ 118.0     │\n",
       "│ 9         ┆ true     ┆ float32   ┆ ()        ┆ … ┆ 84.0      ┆ float32   ┆ ()        ┆ 84.0      │\n",
       "│ 10        ┆ true     ┆ float32   ┆ ()        ┆ … ┆ 97.0      ┆ float32   ┆ ()        ┆ 97.0      │\n",
       "└───────────┴──────────┴───────────┴───────────┴───┴───────────┴───────────┴───────────┴───────────┘"
      ]
     },
     "execution_count": 4,
     "metadata": {},
     "output_type": "execute_result"
    }
   ],
   "source": [
    "# metadata\n",
    "trajectory_metadata = dataset.get_episode_info()\n",
    "trajectory_metadata"
   ]
  },
  {
   "cell_type": "code",
   "execution_count": 5,
   "id": "d965ed5a",
   "metadata": {},
   "outputs": [
    {
     "data": {
      "text/html": [
       "<div><style>\n",
       ".dataframe > thead > tr,\n",
       ".dataframe > tbody > tr {\n",
       "  text-align: right;\n",
       "  white-space: pre-wrap;\n",
       "}\n",
       "</style>\n",
       "<small>shape: (9, 17)</small><table border=\"1\" class=\"dataframe\"><thead><tr><th>statistic</th><th>episode_id</th><th>Timestamp</th><th>gripper_closedness_action</th><th>rotation_delta</th><th>terminate_episode</th><th>world_vector</th><th>is_first</th><th>is_last</th><th>is_terminal</th><th>hand_image</th><th>image</th><th>image_with_depth</th><th>natural_language_embedding</th><th>natural_language_instruction</th><th>robot_state</th><th>reward</th></tr><tr><td>str</td><td>f64</td><td>f64</td><td>f64</td><td>str</td><td>f64</td><td>str</td><td>f64</td><td>f64</td><td>f64</td><td>str</td><td>str</td><td>str</td><td>str</td><td>str</td><td>str</td><td>f64</td></tr></thead><tbody><tr><td>&quot;count&quot;</td><td>1014.0</td><td>1014.0</td><td>1014.0</td><td>&quot;1014&quot;</td><td>1014.0</td><td>&quot;1014&quot;</td><td>1014.0</td><td>1014.0</td><td>1014.0</td><td>&quot;1014&quot;</td><td>&quot;1014&quot;</td><td>&quot;1014&quot;</td><td>&quot;1014&quot;</td><td>&quot;1014&quot;</td><td>&quot;1014&quot;</td><td>1014.0</td></tr><tr><td>&quot;null_count&quot;</td><td>0.0</td><td>0.0</td><td>0.0</td><td>&quot;0&quot;</td><td>0.0</td><td>&quot;0&quot;</td><td>0.0</td><td>0.0</td><td>0.0</td><td>&quot;0&quot;</td><td>&quot;0&quot;</td><td>&quot;0&quot;</td><td>&quot;0&quot;</td><td>&quot;0&quot;</td><td>&quot;0&quot;</td><td>0.0</td></tr><tr><td>&quot;mean&quot;</td><td>5.383629</td><td>1.7127e18</td><td>0.0</td><td>null</td><td>0.021696</td><td>null</td><td>0.010848</td><td>0.021696</td><td>0.021696</td><td>null</td><td>null</td><td>null</td><td>null</td><td>null</td><td>null</td><td>0.010848</td></tr><tr><td>&quot;std&quot;</td><td>3.017515</td><td>1.3023e11</td><td>0.108839</td><td>null</td><td>0.145762</td><td>null</td><td>null</td><td>null</td><td>null</td><td>null</td><td>null</td><td>null</td><td>null</td><td>null</td><td>null</td><td>0.103639</td></tr><tr><td>&quot;min&quot;</td><td>0.0</td><td>1.7127e18</td><td>-1.0</td><td>&quot;b&quot;\\x93NUMPY\\x0…</td><td>0.0</td><td>&quot;b&quot;\\x93NUMPY\\x0…</td><td>0.0</td><td>0.0</td><td>0.0</td><td>&quot;b&#x27;\\x93NUMPY\\x0…</td><td>&quot;b&#x27;\\x93NUMPY\\x0…</td><td>&quot;b&#x27;\\x93NUMPY\\x0…</td><td>&quot;b&#x27;\\x93NUMPY\\x0…</td><td>&quot;b&#x27;pick up the …</td><td>&quot;b&quot;\\x93NUMPY\\x0…</td><td>0.0</td></tr><tr><td>&quot;25%&quot;</td><td>3.0</td><td>1.7127e18</td><td>0.0</td><td>null</td><td>0.0</td><td>null</td><td>null</td><td>null</td><td>null</td><td>null</td><td>null</td><td>null</td><td>null</td><td>null</td><td>null</td><td>0.0</td></tr><tr><td>&quot;50%&quot;</td><td>6.0</td><td>1.7127e18</td><td>0.0</td><td>null</td><td>0.0</td><td>null</td><td>null</td><td>null</td><td>null</td><td>null</td><td>null</td><td>null</td><td>null</td><td>null</td><td>null</td><td>0.0</td></tr><tr><td>&quot;75%&quot;</td><td>8.0</td><td>1.7127e18</td><td>0.0</td><td>null</td><td>0.0</td><td>null</td><td>null</td><td>null</td><td>null</td><td>null</td><td>null</td><td>null</td><td>null</td><td>null</td><td>null</td><td>0.0</td></tr><tr><td>&quot;max&quot;</td><td>10.0</td><td>1.7127e18</td><td>1.0</td><td>&quot;b&quot;\\x93NUMPY\\x0…</td><td>1.0</td><td>&quot;b&quot;\\x93NUMPY\\x0…</td><td>1.0</td><td>1.0</td><td>1.0</td><td>&quot;b&#x27;\\x93NUMPY\\x0…</td><td>&quot;b&#x27;\\x93NUMPY\\x0…</td><td>&quot;b&#x27;\\x93NUMPY\\x0…</td><td>&quot;b&#x27;\\x93NUMPY\\x0…</td><td>&quot;b&#x27;sweep the gr…</td><td>&quot;b&quot;\\x93NUMPY\\x0…</td><td>1.0</td></tr></tbody></table></div>"
      ],
      "text/plain": [
       "shape: (9, 17)\n",
       "┌───────────┬───────────┬───────────┬───────────┬───┬───────────┬───────────┬───────────┬──────────┐\n",
       "│ statistic ┆ episode_i ┆ Timestamp ┆ gripper_c ┆ … ┆ natural_l ┆ natural_l ┆ robot_sta ┆ reward   │\n",
       "│ ---       ┆ d         ┆ ---       ┆ losedness ┆   ┆ anguage_e ┆ anguage_i ┆ te        ┆ ---      │\n",
       "│ str       ┆ ---       ┆ f64       ┆ _action   ┆   ┆ mbedding  ┆ nstructio ┆ ---       ┆ f64      │\n",
       "│           ┆ f64       ┆           ┆ ---       ┆   ┆ ---       ┆ n         ┆ str       ┆          │\n",
       "│           ┆           ┆           ┆ f64       ┆   ┆ str       ┆ ---       ┆           ┆          │\n",
       "│           ┆           ┆           ┆           ┆   ┆           ┆ str       ┆           ┆          │\n",
       "╞═══════════╪═══════════╪═══════════╪═══════════╪═══╪═══════════╪═══════════╪═══════════╪══════════╡\n",
       "│ count     ┆ 1014.0    ┆ 1014.0    ┆ 1014.0    ┆ … ┆ 1014      ┆ 1014      ┆ 1014      ┆ 1014.0   │\n",
       "│ null_coun ┆ 0.0       ┆ 0.0       ┆ 0.0       ┆ … ┆ 0         ┆ 0         ┆ 0         ┆ 0.0      │\n",
       "│ t         ┆           ┆           ┆           ┆   ┆           ┆           ┆           ┆          │\n",
       "│ mean      ┆ 5.383629  ┆ 1.7127e18 ┆ 0.0       ┆ … ┆ null      ┆ null      ┆ null      ┆ 0.010848 │\n",
       "│ std       ┆ 3.017515  ┆ 1.3023e11 ┆ 0.108839  ┆ … ┆ null      ┆ null      ┆ null      ┆ 0.103639 │\n",
       "│ min       ┆ 0.0       ┆ 1.7127e18 ┆ -1.0      ┆ … ┆ b'\\x93NUM ┆ b'pick up ┆ b\"\\x93NUM ┆ 0.0      │\n",
       "│           ┆           ┆           ┆           ┆   ┆ PY\\x01\\x0 ┆ the blue  ┆ PY\\x01\\x0 ┆          │\n",
       "│           ┆           ┆           ┆           ┆   ┆ 0v\\x00{\\' ┆ cup and   ┆ 0v\\x00{'d ┆          │\n",
       "│           ┆           ┆           ┆           ┆   ┆ descr…    ┆ put i…    ┆ escr'…    ┆          │\n",
       "│ 25%       ┆ 3.0       ┆ 1.7127e18 ┆ 0.0       ┆ … ┆ null      ┆ null      ┆ null      ┆ 0.0      │\n",
       "│ 50%       ┆ 6.0       ┆ 1.7127e18 ┆ 0.0       ┆ … ┆ null      ┆ null      ┆ null      ┆ 0.0      │\n",
       "│ 75%       ┆ 8.0       ┆ 1.7127e18 ┆ 0.0       ┆ … ┆ null      ┆ null      ┆ null      ┆ 0.0      │\n",
       "│ max       ┆ 10.0      ┆ 1.7127e18 ┆ 1.0       ┆ … ┆ b'\\x93NUM ┆ b'sweep   ┆ b\"\\x93NUM ┆ 1.0      │\n",
       "│           ┆           ┆           ┆           ┆   ┆ PY\\x01\\x0 ┆ the green ┆ PY\\x01\\x0 ┆          │\n",
       "│           ┆           ┆           ┆           ┆   ┆ 0v\\x00{\\' ┆ cloth to  ┆ 0v\\x00{'d ┆          │\n",
       "│           ┆           ┆           ┆           ┆   ┆ descr…    ┆ the l…    ┆ escr'…    ┆          │\n",
       "└───────────┴───────────┴───────────┴───────────┴───┴───────────┴───────────┴───────────┴──────────┘"
      ]
     },
     "execution_count": 5,
     "metadata": {},
     "output_type": "execute_result"
    }
   ],
   "source": [
    "# data for ALL trajectories \n",
    "# these data are loaded lazily that only actively used data is loaded to memory\n",
    "all_step_data = dataset.get_step_data()\n",
    "# use .describe to get the summary of the information\n",
    "all_step_data.describe() "
   ]
  },
  {
   "cell_type": "markdown",
   "id": "e065eeda",
   "metadata": {},
   "source": [
    "### Lazy Loading Step Data\n",
    "Al the step data are loaded on demand to save space in memory. You can see the loading time difference between the lazy loading and loading all the data from disk. "
   ]
  },
  {
   "cell_type": "code",
   "execution_count": 6,
   "id": "46dfe5a9",
   "metadata": {},
   "outputs": [
    {
     "name": "stdout",
     "output_type": "stream",
     "text": [
      "3.2 µs ± 368 ns per loop (mean ± std. dev. of 7 runs, 100,000 loops each)\n"
     ]
    }
   ],
   "source": [
    "# data for individual episode \n",
    "%timeit dataset.get_step_data_by_episode_ids([1,2,3])"
   ]
  },
  {
   "cell_type": "code",
   "execution_count": 7,
   "id": "d5d265ff",
   "metadata": {},
   "outputs": [
    {
     "name": "stdout",
     "output_type": "stream",
     "text": [
      "2.48 s ± 291 ms per loop (mean ± std. dev. of 7 runs, 1 loop each)\n"
     ]
    }
   ],
   "source": [
    "%timeit dataset.get_step_data_by_episode_ids([1,2,3], as_lazy_frame=False)"
   ]
  },
  {
   "cell_type": "markdown",
   "id": "443a9043",
   "metadata": {},
   "source": [
    "## Data Analytics and Management\n"
   ]
  },
  {
   "cell_type": "markdown",
   "id": "c771c5e9",
   "metadata": {},
   "source": [
    "### Example 1: Add new Episode information metadata and Filter\n",
    "\n",
    "Suppose another person collects another set of the data and you want to distinguish who collects what.  \n"
   ]
  },
  {
   "cell_type": "code",
   "execution_count": 8,
   "id": "a7b97900",
   "metadata": {},
   "outputs": [
    {
     "name": "stderr",
     "output_type": "stream",
     "text": [
      "2024-04-10 05:59:42.147783: W tensorflow/core/framework/local_rendezvous.cc:404] Local rendezvous is aborting with status: OUT_OF_RANGE: End of sequence\n",
      "2024-04-10 06:00:06.033397: W tensorflow/core/framework/local_rendezvous.cc:404] Local rendezvous is aborting with status: OUT_OF_RANGE: End of sequence\n",
      "2024-04-10 06:00:08.650303: W tensorflow/core/framework/local_rendezvous.cc:404] Local rendezvous is aborting with status: OUT_OF_RANGE: End of sequence\n"
     ]
    }
   ],
   "source": [
    "# this loads another 2 episodes \n",
    "dataset.load_rtx_episodes(\n",
    "    name=\"berkeley_autolab_ur5\",\n",
    "    split=\"train[3:5]\",\n",
    "    additional_metadata={\"collector\": \"User 2\", \"custom_tag\": \"Partition_2\"},\n",
    ")"
   ]
  },
  {
   "cell_type": "markdown",
   "id": "31157fa6",
   "metadata": {},
   "source": [
    "now the metadata table looks like"
   ]
  },
  {
   "cell_type": "code",
   "execution_count": 9,
   "id": "87177338",
   "metadata": {},
   "outputs": [
    {
     "data": {
      "text/html": [
       "<div><style>\n",
       ".dataframe > thead > tr,\n",
       ".dataframe > tbody > tr {\n",
       "  text-align: right;\n",
       "  white-space: pre-wrap;\n",
       "}\n",
       "</style>\n",
       "<small>shape: (13, 3)</small><table border=\"1\" class=\"dataframe\"><thead><tr><th>episode_id</th><th>collector</th><th>custom_tag</th></tr><tr><td>i64</td><td>str</td><td>str</td></tr></thead><tbody><tr><td>0</td><td>null</td><td>null</td></tr><tr><td>1</td><td>null</td><td>null</td></tr><tr><td>2</td><td>null</td><td>null</td></tr><tr><td>3</td><td>null</td><td>null</td></tr><tr><td>4</td><td>null</td><td>null</td></tr><tr><td>&hellip;</td><td>&hellip;</td><td>&hellip;</td></tr><tr><td>8</td><td>null</td><td>null</td></tr><tr><td>9</td><td>null</td><td>null</td></tr><tr><td>10</td><td>null</td><td>null</td></tr><tr><td>11</td><td>&quot;User 2&quot;</td><td>&quot;Partition_2&quot;</td></tr><tr><td>12</td><td>&quot;User 2&quot;</td><td>&quot;Partition_2&quot;</td></tr></tbody></table></div>"
      ],
      "text/plain": [
       "shape: (13, 3)\n",
       "┌────────────┬───────────┬─────────────┐\n",
       "│ episode_id ┆ collector ┆ custom_tag  │\n",
       "│ ---        ┆ ---       ┆ ---         │\n",
       "│ i64        ┆ str       ┆ str         │\n",
       "╞════════════╪═══════════╪═════════════╡\n",
       "│ 0          ┆ null      ┆ null        │\n",
       "│ 1          ┆ null      ┆ null        │\n",
       "│ 2          ┆ null      ┆ null        │\n",
       "│ 3          ┆ null      ┆ null        │\n",
       "│ 4          ┆ null      ┆ null        │\n",
       "│ …          ┆ …         ┆ …           │\n",
       "│ 8          ┆ null      ┆ null        │\n",
       "│ 9          ┆ null      ┆ null        │\n",
       "│ 10         ┆ null      ┆ null        │\n",
       "│ 11         ┆ User 2    ┆ Partition_2 │\n",
       "│ 12         ┆ User 2    ┆ Partition_2 │\n",
       "└────────────┴───────────┴─────────────┘"
      ]
     },
     "execution_count": 9,
     "metadata": {},
     "output_type": "execute_result"
    }
   ],
   "source": [
    "dataset.get_episode_info().select([\"episode_id\", \"collector\", \"custom_tag\"])"
   ]
  },
  {
   "cell_type": "code",
   "execution_count": 10,
   "id": "857f3c87",
   "metadata": {},
   "outputs": [],
   "source": [
    "episode_info = dataset.get_episode_info()\n",
    "# querying non-existent metadata \n",
    "metadata = episode_info.filter(episode_info[\"collector\"] == \"User_Do_No_Exist\")\n",
    "episodes = dataset.read_by(metadata)"
   ]
  },
  {
   "cell_type": "code",
   "execution_count": 11,
   "id": "d713a974",
   "metadata": {},
   "outputs": [
    {
     "data": {
      "text/plain": [
       "([<LazyFrame [16 cols, {\"episode_id\": Int64 … \"reward\": Float32}] at 0x7F9D34D62350>,\n",
       "  <LazyFrame [16 cols, {\"episode_id\": Int64 … \"reward\": Float32}] at 0x7F9CA2F0CC70>],\n",
       " shape: (9, 17)\n",
       " ┌───────────┬───────────┬───────────┬───────────┬───┬───────────┬───────────┬───────────┬──────────┐\n",
       " │ statistic ┆ episode_i ┆ Timestamp ┆ gripper_c ┆ … ┆ natural_l ┆ natural_l ┆ robot_sta ┆ reward   │\n",
       " │ ---       ┆ d         ┆ ---       ┆ losedness ┆   ┆ anguage_e ┆ anguage_i ┆ te        ┆ ---      │\n",
       " │ str       ┆ ---       ┆ f64       ┆ _action   ┆   ┆ mbedding  ┆ nstructio ┆ ---       ┆ f64      │\n",
       " │           ┆ f64       ┆           ┆ ---       ┆   ┆ ---       ┆ n         ┆ str       ┆          │\n",
       " │           ┆           ┆           ┆ f64       ┆   ┆ str       ┆ ---       ┆           ┆          │\n",
       " │           ┆           ┆           ┆           ┆   ┆           ┆ str       ┆           ┆          │\n",
       " ╞═══════════╪═══════════╪═══════════╪═══════════╪═══╪═══════════╪═══════════╪═══════════╪══════════╡\n",
       " │ count     ┆ 80.0      ┆ 80.0      ┆ 80.0      ┆ … ┆ 80        ┆ 80        ┆ 80        ┆ 80.0     │\n",
       " │ null_coun ┆ 0.0       ┆ 0.0       ┆ 0.0       ┆ … ┆ 0         ┆ 0         ┆ 0         ┆ 0.0      │\n",
       " │ t         ┆           ┆           ┆           ┆   ┆           ┆           ┆           ┆          │\n",
       " │ mean      ┆ 11.0      ┆ 1.7127e18 ┆ 0.0       ┆ … ┆ null      ┆ null      ┆ null      ┆ 0.0125   │\n",
       " │ std       ┆ 0.0       ┆ 3.8792e9  ┆ 0.0       ┆ … ┆ null      ┆ null      ┆ null      ┆ 0.111803 │\n",
       " │ min       ┆ 11.0      ┆ 1.7127e18 ┆ 0.0       ┆ … ┆ b'\\x93NUM ┆ b'sweep   ┆ b\"\\x93NUM ┆ 0.0      │\n",
       " │           ┆           ┆           ┆           ┆   ┆ PY\\x01\\x0 ┆ the green ┆ PY\\x01\\x0 ┆          │\n",
       " │           ┆           ┆           ┆           ┆   ┆ 0v\\x00{\\' ┆ cloth to  ┆ 0v\\x00{'d ┆          │\n",
       " │           ┆           ┆           ┆           ┆   ┆ descr…    ┆ the l…    ┆ escr'…    ┆          │\n",
       " │ 25%       ┆ 11.0      ┆ 1.7127e18 ┆ 0.0       ┆ … ┆ null      ┆ null      ┆ null      ┆ 0.0      │\n",
       " │ 50%       ┆ 11.0      ┆ 1.7127e18 ┆ 0.0       ┆ … ┆ null      ┆ null      ┆ null      ┆ 0.0      │\n",
       " │ 75%       ┆ 11.0      ┆ 1.7127e18 ┆ 0.0       ┆ … ┆ null      ┆ null      ┆ null      ┆ 0.0      │\n",
       " │ max       ┆ 11.0      ┆ 1.7127e18 ┆ 0.0       ┆ … ┆ b'\\x93NUM ┆ b'sweep   ┆ b\"\\x93NUM ┆ 1.0      │\n",
       " │           ┆           ┆           ┆           ┆   ┆ PY\\x01\\x0 ┆ the green ┆ PY\\x01\\x0 ┆          │\n",
       " │           ┆           ┆           ┆           ┆   ┆ 0v\\x00{\\' ┆ cloth to  ┆ 0v\\x00{'d ┆          │\n",
       " │           ┆           ┆           ┆           ┆   ┆ descr…    ┆ the l…    ┆ escr'…    ┆          │\n",
       " └───────────┴───────────┴───────────┴───────────┴───┴───────────┴───────────┴───────────┴──────────┘)"
      ]
     },
     "execution_count": 11,
     "metadata": {},
     "output_type": "execute_result"
    }
   ],
   "source": [
    "metadata = episode_info.filter(episode_info[\"custom_tag\"] == \"Partition_2\")\n",
    "episodes = dataset.read_by(metadata)\n",
    "episodes, episodes[0].describe()"
   ]
  },
  {
   "cell_type": "markdown",
   "id": "b575fec7",
   "metadata": {},
   "source": [
    "### Example 2: Extracts and Searches natural language instructions from step data \n",
    "\n",
    "Existing Open-X datasets store natural language instructions for every step, which costs inefficiency and manage complexity. This example shows \n",
    "1. how to extracts natural language instruction from existing Open-X datasets\n",
    "2. search for keywords or **regex** "
   ]
  },
  {
   "cell_type": "code",
   "execution_count": 12,
   "id": "23a47f3e",
   "metadata": {},
   "outputs": [
    {
     "data": {
      "text/html": [
       "<div><style>\n",
       ".dataframe > thead > tr,\n",
       ".dataframe > tbody > tr {\n",
       "  text-align: right;\n",
       "  white-space: pre-wrap;\n",
       "}\n",
       "</style>\n",
       "<small>shape: (3, 2)</small><table border=\"1\" class=\"dataframe\"><thead><tr><th>episode_id</th><th>natural_language_instruction</th></tr><tr><td>i64</td><td>binary</td></tr></thead><tbody><tr><td>0</td><td>b&quot;sweep\\x20the\\x20green\\x20cloth\\x20to\\x20the\\x20left\\x20side\\x20of\\x20the\\x20table&quot;</td></tr><tr><td>10</td><td>b&quot;put\\x20the\\x20ranch\\x20bottle\\x20into\\x20the\\x20pot&quot;</td></tr><tr><td>12</td><td>b&quot;pick\\x20up\\x20the\\x20blue\\x20cup\\x20and\\x20put\\x20it\\x20into\\x20the\\x20brown\\x20cup.\\x20&quot;</td></tr></tbody></table></div>"
      ],
      "text/plain": [
       "shape: (3, 2)\n",
       "┌────────────┬───────────────────────────────────┐\n",
       "│ episode_id ┆ natural_language_instruction      │\n",
       "│ ---        ┆ ---                               │\n",
       "│ i64        ┆ binary                            │\n",
       "╞════════════╪═══════════════════════════════════╡\n",
       "│ 0          ┆ b\"sweep\\x20the\\x20green\\x20cloth… │\n",
       "│ 10         ┆ b\"put\\x20the\\x20ranch\\x20bottle\\… │\n",
       "│ 12         ┆ b\"pick\\x20up\\x20the\\x20blue\\x20c… │\n",
       "└────────────┴───────────────────────────────────┘"
      ]
     },
     "execution_count": 12,
     "metadata": {},
     "output_type": "execute_result"
    }
   ],
   "source": [
    "id_to_language_instruction = (\n",
    "    dataset.get_step_data()\n",
    "    .select(\"episode_id\", \"natural_language_instruction\")# only interested in episode id and language column\n",
    "    .collect() # the frame is lazily evaluated at memory when we call collect() \n",
    ")\n",
    "\n",
    "# print out unique natural_language_instructions \n",
    "# https://docs.pola.rs/py-polars/html/reference/dataframe/api/polars.DataFrame.unique.html \n",
    "id_to_language_instruction.unique(subset=[\"natural_language_instruction\"], maintain_order=True)"
   ]
  },
  {
   "cell_type": "code",
   "execution_count": 13,
   "id": "c248af4f",
   "metadata": {},
   "outputs": [],
   "source": [
    "all_step_data = dataset.get_step_data() # get lazy frame of the entire step-level dataset\n",
    "id_to_language_instruction = (\n",
    "    all_step_data\n",
    "    .select(\"episode_id\", \"natural_language_instruction\") \n",
    "    .group_by(\"episode_id\") # group by unqiue language ids, since language instruction is stored for every step\n",
    "    .last()  # since instruction is same for all steps in an episode, we can just take the last one\n",
    "    .collect() # the frame is lazily evaluated until we call collect() \n",
    ")\n",
    "\n",
    "# join with the metadata \n",
    "episode_metadata = dataset.get_episode_info().join(id_to_language_instruction, on=\"episode_id\")"
   ]
  },
  {
   "cell_type": "code",
   "execution_count": 14,
   "id": "4978f740",
   "metadata": {},
   "outputs": [
    {
     "name": "stdout",
     "output_type": "stream",
     "text": [
      "shape: (6, 2)\n",
      "┌────────────┬───────────────────────────────────┐\n",
      "│ episode_id ┆ decoded                           │\n",
      "│ ---        ┆ ---                               │\n",
      "│ i64        ┆ str                               │\n",
      "╞════════════╪═══════════════════════════════════╡\n",
      "│ 9          ┆ sweep the green cloth to the lef… │\n",
      "│ 4          ┆ sweep the green cloth to the lef… │\n",
      "│ 1          ┆ sweep the green cloth to the lef… │\n",
      "│ 2          ┆ sweep the green cloth to the lef… │\n",
      "│ 0          ┆ sweep the green cloth to the lef… │\n",
      "│ 11         ┆ sweep the green cloth to the lef… │\n",
      "└────────────┴───────────────────────────────────┘\n"
     ]
    },
    {
     "name": "stderr",
     "output_type": "stream",
     "text": [
      "/tmp/ipykernel_6756/232788706.py:3: MapWithoutReturnDtypeWarning: Calling `map_elements` without specifying `return_dtype` can lead to unpredictable results. Specify `return_dtype` to silence this warning.\n",
      "  episode_metadata = episode_metadata.with_columns(episode_metadata['natural_language_instruction'].map_elements(lambda x: x.decode('utf-8')).alias('decoded'))\n"
     ]
    }
   ],
   "source": [
    "import polars as pl \n",
    "# Decode byte strings to strings\n",
    "episode_metadata = episode_metadata.with_columns(episode_metadata['natural_language_instruction'].map_elements(lambda x: x.decode('utf-8')).alias('decoded'))\n",
    "\n",
    "# Filter rows where 'string_col' contains \"example\"\n",
    "result = episode_metadata.filter(\n",
    "    pl.col(\"decoded\").str.contains(\"green|red\").alias(\"cloth\") # supports regex!\n",
    ")\n",
    "print(result.select([\"episode_id\", \"decoded\"]))"
   ]
  },
  {
   "cell_type": "markdown",
   "id": "dc16dd8d",
   "metadata": {},
   "source": [
    "We use polars as backend for data processing and management. This example demonstrates its capabaility and flexiblitiy. Please refer to https://docs.pola.rs/py-polars/html/reference/lazyframe/index.html all the available interfaces "
   ]
  },
  {
   "cell_type": "markdown",
   "id": "851a95a5",
   "metadata": {},
   "source": [
    "## Use, Export and Share"
   ]
  },
  {
   "cell_type": "markdown",
   "id": "8e4ed6a6",
   "metadata": {},
   "source": [
    "### Huggingface dataset "
   ]
  },
  {
   "cell_type": "code",
   "execution_count": 15,
   "id": "c7bb9c0d",
   "metadata": {},
   "outputs": [
    {
     "data": {
      "application/vnd.jupyter.widget-view+json": {
       "model_id": "e422d249b5c441bd9e85e7b128465982",
       "version_major": 2,
       "version_minor": 0
      },
      "text/plain": [
       "Generating train split: 0 examples [00:00, ? examples/s]"
      ]
     },
     "metadata": {},
     "output_type": "display_data"
    },
    {
     "name": "stdout",
     "output_type": "stream",
     "text": [
      "Hugging face dataset: DatasetDict({\n",
      "    train: Dataset({\n",
      "        features: ['episode_id', 'Timestamp', 'gripper_closedness_action', 'rotation_delta', 'terminate_episode', 'world_vector', 'is_first', 'is_last', 'is_terminal', 'hand_image', 'image', 'image_with_depth', 'natural_language_embedding', 'natural_language_instruction', 'robot_state', 'reward'],\n",
      "        num_rows: 1217\n",
      "    })\n",
      "})\n"
     ]
    }
   ],
   "source": [
    "import datasets\n",
    "\n",
    "huggingface_ds = dataset.get_as_huggingface_dataset()\n",
    "\n",
    "print(f\"Hugging face dataset: {huggingface_ds}\")"
   ]
  },
  {
   "cell_type": "markdown",
   "id": "fd38e642",
   "metadata": {},
   "source": [
    "### Pytorch Dataset"
   ]
  },
  {
   "cell_type": "code",
   "execution_count": 16,
   "id": "3c54437b",
   "metadata": {},
   "outputs": [
    {
     "name": "stdout",
     "output_type": "stream",
     "text": [
      "Retrieving episode at index 0\n",
      "Retrieving episode at index 1\n",
      "[    episode_id            Timestamp  gripper_closedness_action  \\\n",
      "0           11  1712728768601166160                        0.0   \n",
      "1           11  1712728768839768104                        0.0   \n",
      "2           11  1712728768983350023                        0.0   \n",
      "3           11  1712728769119575319                        0.0   \n",
      "4           11  1712728769256151909                        0.0   \n",
      "..         ...                  ...                        ...   \n",
      "75          11  1712728781218967667                        0.0   \n",
      "76          11  1712728781437725750                        0.0   \n",
      "77          11  1712728781613065131                        0.0   \n",
      "78          11  1712728781822132558                        0.0   \n",
      "79          11  1712728781969148910                        0.0   \n",
      "\n",
      "                                       rotation_delta  terminate_episode  \\\n",
      "0   b\"\\x93NUMPY\\x01\\x00v\\x00{'descr': '<f4', 'fort...                0.0   \n",
      "1   b\"\\x93NUMPY\\x01\\x00v\\x00{'descr': '<f4', 'fort...                0.0   \n",
      "2   b'\\x93NUMPY\\x01\\x00v\\x00{\\'descr\\': \\'<f4\\', \\...                0.0   \n",
      "3   b\"\\x93NUMPY\\x01\\x00v\\x00{'descr': '<f4', 'fort...                0.0   \n",
      "4   b\"\\x93NUMPY\\x01\\x00v\\x00{'descr': '<f4', 'fort...                0.0   \n",
      "..                                                ...                ...   \n",
      "75  b\"\\x93NUMPY\\x01\\x00v\\x00{'descr': '<f4', 'fort...                0.0   \n",
      "76  b\"\\x93NUMPY\\x01\\x00v\\x00{'descr': '<f4', 'fort...                0.0   \n",
      "77  b\"\\x93NUMPY\\x01\\x00v\\x00{'descr': '<f4', 'fort...                0.0   \n",
      "78  b\"\\x93NUMPY\\x01\\x00v\\x00{'descr': '<f4', 'fort...                1.0   \n",
      "79  b\"\\x93NUMPY\\x01\\x00v\\x00{'descr': '<f4', 'fort...                1.0   \n",
      "\n",
      "                                         world_vector  is_first  is_last  \\\n",
      "0   b\"\\x93NUMPY\\x01\\x00v\\x00{'descr': '<f4', 'fort...      True    False   \n",
      "1   b\"\\x93NUMPY\\x01\\x00v\\x00{'descr': '<f4', 'fort...     False    False   \n",
      "2   b\"\\x93NUMPY\\x01\\x00v\\x00{'descr': '<f4', 'fort...     False    False   \n",
      "3   b\"\\x93NUMPY\\x01\\x00v\\x00{'descr': '<f4', 'fort...     False    False   \n",
      "4   b\"\\x93NUMPY\\x01\\x00v\\x00{'descr': '<f4', 'fort...     False    False   \n",
      "..                                                ...       ...      ...   \n",
      "75  b\"\\x93NUMPY\\x01\\x00v\\x00{'descr': '<f4', 'fort...     False    False   \n",
      "76  b\"\\x93NUMPY\\x01\\x00v\\x00{'descr': '<f4', 'fort...     False    False   \n",
      "77  b\"\\x93NUMPY\\x01\\x00v\\x00{'descr': '<f4', 'fort...     False    False   \n",
      "78  b\"\\x93NUMPY\\x01\\x00v\\x00{'descr': '<f4', 'fort...     False     True   \n",
      "79  b\"\\x93NUMPY\\x01\\x00v\\x00{'descr': '<f4', 'fort...     False     True   \n",
      "\n",
      "    is_terminal                                         hand_image  \\\n",
      "0         False  b'\\x93NUMPY\\x01\\x00v\\x00{\\'descr\\': \\'|u1\\', \\...   \n",
      "1         False  b'\\x93NUMPY\\x01\\x00v\\x00{\\'descr\\': \\'|u1\\', \\...   \n",
      "2         False  b'\\x93NUMPY\\x01\\x00v\\x00{\\'descr\\': \\'|u1\\', \\...   \n",
      "3         False  b'\\x93NUMPY\\x01\\x00v\\x00{\\'descr\\': \\'|u1\\', \\...   \n",
      "4         False  b'\\x93NUMPY\\x01\\x00v\\x00{\\'descr\\': \\'|u1\\', \\...   \n",
      "..          ...                                                ...   \n",
      "75        False  b'\\x93NUMPY\\x01\\x00v\\x00{\\'descr\\': \\'|u1\\', \\...   \n",
      "76        False  b'\\x93NUMPY\\x01\\x00v\\x00{\\'descr\\': \\'|u1\\', \\...   \n",
      "77        False  b'\\x93NUMPY\\x01\\x00v\\x00{\\'descr\\': \\'|u1\\', \\...   \n",
      "78         True  b'\\x93NUMPY\\x01\\x00v\\x00{\\'descr\\': \\'|u1\\', \\...   \n",
      "79         True  b'\\x93NUMPY\\x01\\x00v\\x00{\\'descr\\': \\'|u1\\', \\...   \n",
      "\n",
      "                                                image  \\\n",
      "0   b'\\x93NUMPY\\x01\\x00v\\x00{\\'descr\\': \\'|u1\\', \\...   \n",
      "1   b'\\x93NUMPY\\x01\\x00v\\x00{\\'descr\\': \\'|u1\\', \\...   \n",
      "2   b'\\x93NUMPY\\x01\\x00v\\x00{\\'descr\\': \\'|u1\\', \\...   \n",
      "3   b'\\x93NUMPY\\x01\\x00v\\x00{\\'descr\\': \\'|u1\\', \\...   \n",
      "4   b'\\x93NUMPY\\x01\\x00v\\x00{\\'descr\\': \\'|u1\\', \\...   \n",
      "..                                                ...   \n",
      "75  b'\\x93NUMPY\\x01\\x00v\\x00{\\'descr\\': \\'|u1\\', \\...   \n",
      "76  b'\\x93NUMPY\\x01\\x00v\\x00{\\'descr\\': \\'|u1\\', \\...   \n",
      "77  b'\\x93NUMPY\\x01\\x00v\\x00{\\'descr\\': \\'|u1\\', \\...   \n",
      "78  b'\\x93NUMPY\\x01\\x00v\\x00{\\'descr\\': \\'|u1\\', \\...   \n",
      "79  b'\\x93NUMPY\\x01\\x00v\\x00{\\'descr\\': \\'|u1\\', \\...   \n",
      "\n",
      "                                     image_with_depth  \\\n",
      "0   b'\\x93NUMPY\\x01\\x00v\\x00{\\'descr\\': \\'<f4\\', \\...   \n",
      "1   b'\\x93NUMPY\\x01\\x00v\\x00{\\'descr\\': \\'<f4\\', \\...   \n",
      "2   b'\\x93NUMPY\\x01\\x00v\\x00{\\'descr\\': \\'<f4\\', \\...   \n",
      "3   b'\\x93NUMPY\\x01\\x00v\\x00{\\'descr\\': \\'<f4\\', \\...   \n",
      "4   b'\\x93NUMPY\\x01\\x00v\\x00{\\'descr\\': \\'<f4\\', \\...   \n",
      "..                                                ...   \n",
      "75  b'\\x93NUMPY\\x01\\x00v\\x00{\\'descr\\': \\'<f4\\', \\...   \n",
      "76  b'\\x93NUMPY\\x01\\x00v\\x00{\\'descr\\': \\'<f4\\', \\...   \n",
      "77  b'\\x93NUMPY\\x01\\x00v\\x00{\\'descr\\': \\'<f4\\', \\...   \n",
      "78  b'\\x93NUMPY\\x01\\x00v\\x00{\\'descr\\': \\'<f4\\', \\...   \n",
      "79  b'\\x93NUMPY\\x01\\x00v\\x00{\\'descr\\': \\'<f4\\', \\...   \n",
      "\n",
      "                           natural_language_embedding  \\\n",
      "0   b'\\x93NUMPY\\x01\\x00v\\x00{\\'descr\\': \\'<f4\\', \\...   \n",
      "1   b'\\x93NUMPY\\x01\\x00v\\x00{\\'descr\\': \\'<f4\\', \\...   \n",
      "2   b'\\x93NUMPY\\x01\\x00v\\x00{\\'descr\\': \\'<f4\\', \\...   \n",
      "3   b'\\x93NUMPY\\x01\\x00v\\x00{\\'descr\\': \\'<f4\\', \\...   \n",
      "4   b'\\x93NUMPY\\x01\\x00v\\x00{\\'descr\\': \\'<f4\\', \\...   \n",
      "..                                                ...   \n",
      "75  b'\\x93NUMPY\\x01\\x00v\\x00{\\'descr\\': \\'<f4\\', \\...   \n",
      "76  b'\\x93NUMPY\\x01\\x00v\\x00{\\'descr\\': \\'<f4\\', \\...   \n",
      "77  b'\\x93NUMPY\\x01\\x00v\\x00{\\'descr\\': \\'<f4\\', \\...   \n",
      "78  b'\\x93NUMPY\\x01\\x00v\\x00{\\'descr\\': \\'<f4\\', \\...   \n",
      "79  b'\\x93NUMPY\\x01\\x00v\\x00{\\'descr\\': \\'<f4\\', \\...   \n",
      "\n",
      "                         natural_language_instruction  \\\n",
      "0   b'sweep the green cloth to the left side of th...   \n",
      "1   b'sweep the green cloth to the left side of th...   \n",
      "2   b'sweep the green cloth to the left side of th...   \n",
      "3   b'sweep the green cloth to the left side of th...   \n",
      "4   b'sweep the green cloth to the left side of th...   \n",
      "..                                                ...   \n",
      "75  b'sweep the green cloth to the left side of th...   \n",
      "76  b'sweep the green cloth to the left side of th...   \n",
      "77  b'sweep the green cloth to the left side of th...   \n",
      "78  b'sweep the green cloth to the left side of th...   \n",
      "79  b'sweep the green cloth to the left side of th...   \n",
      "\n",
      "                                          robot_state  reward  \n",
      "0   b'\\x93NUMPY\\x01\\x00v\\x00{\\'descr\\': \\'<f4\\', \\...     0.0  \n",
      "1   b'\\x93NUMPY\\x01\\x00v\\x00{\\'descr\\': \\'<f4\\', \\...     0.0  \n",
      "2   b'\\x93NUMPY\\x01\\x00v\\x00{\\'descr\\': \\'<f4\\', \\...     0.0  \n",
      "3   b'\\x93NUMPY\\x01\\x00v\\x00{\\'descr\\': \\'<f4\\', \\...     0.0  \n",
      "4   b'\\x93NUMPY\\x01\\x00v\\x00{\\'descr\\': \\'<f4\\', \\...     0.0  \n",
      "..                                                ...     ...  \n",
      "75  b\"\\x93NUMPY\\x01\\x00v\\x00{'descr': '<f4', 'fort...     0.0  \n",
      "76  b\"\\x93NUMPY\\x01\\x00v\\x00{'descr': '<f4', 'fort...     0.0  \n",
      "77  b\"\\x93NUMPY\\x01\\x00v\\x00{'descr': '<f4', 'fort...     0.0  \n",
      "78  b\"\\x93NUMPY\\x01\\x00v\\x00{'descr': '<f4', 'fort...     0.0  \n",
      "79  b\"\\x93NUMPY\\x01\\x00v\\x00{'descr': '<f4', 'fort...     1.0  \n",
      "\n",
      "[80 rows x 16 columns],      episode_id            Timestamp  gripper_closedness_action  \\\n",
      "0            12  1712728784013260746                        0.0   \n",
      "1            12  1712728784178409334                        0.0   \n",
      "2            12  1712728784364737770                        0.0   \n",
      "3            12  1712728784525771621                        0.0   \n",
      "4            12  1712728784712715579                        0.0   \n",
      "..          ...                  ...                        ...   \n",
      "118          12  1712728805038905965                        0.0   \n",
      "119          12  1712728805205202342                        0.0   \n",
      "120          12  1712728805373845588                        0.0   \n",
      "121          12  1712728805561803986                        0.0   \n",
      "122          12  1712728805787041023                        0.0   \n",
      "\n",
      "                                        rotation_delta  terminate_episode  \\\n",
      "0    b\"\\x93NUMPY\\x01\\x00v\\x00{'descr': '<f4', 'fort...                0.0   \n",
      "1    b\"\\x93NUMPY\\x01\\x00v\\x00{'descr': '<f4', 'fort...                0.0   \n",
      "2    b\"\\x93NUMPY\\x01\\x00v\\x00{'descr': '<f4', 'fort...                0.0   \n",
      "3    b\"\\x93NUMPY\\x01\\x00v\\x00{'descr': '<f4', 'fort...                0.0   \n",
      "4    b\"\\x93NUMPY\\x01\\x00v\\x00{'descr': '<f4', 'fort...                0.0   \n",
      "..                                                 ...                ...   \n",
      "118  b\"\\x93NUMPY\\x01\\x00v\\x00{'descr': '<f4', 'fort...                0.0   \n",
      "119  b\"\\x93NUMPY\\x01\\x00v\\x00{'descr': '<f4', 'fort...                0.0   \n",
      "120  b\"\\x93NUMPY\\x01\\x00v\\x00{'descr': '<f4', 'fort...                0.0   \n",
      "121  b\"\\x93NUMPY\\x01\\x00v\\x00{'descr': '<f4', 'fort...                1.0   \n",
      "122  b\"\\x93NUMPY\\x01\\x00v\\x00{'descr': '<f4', 'fort...                1.0   \n",
      "\n",
      "                                          world_vector  is_first  is_last  \\\n",
      "0    b\"\\x93NUMPY\\x01\\x00v\\x00{'descr': '<f4', 'fort...      True    False   \n",
      "1    b\"\\x93NUMPY\\x01\\x00v\\x00{'descr': '<f4', 'fort...     False    False   \n",
      "2    b\"\\x93NUMPY\\x01\\x00v\\x00{'descr': '<f4', 'fort...     False    False   \n",
      "3    b\"\\x93NUMPY\\x01\\x00v\\x00{'descr': '<f4', 'fort...     False    False   \n",
      "4    b\"\\x93NUMPY\\x01\\x00v\\x00{'descr': '<f4', 'fort...     False    False   \n",
      "..                                                 ...       ...      ...   \n",
      "118  b\"\\x93NUMPY\\x01\\x00v\\x00{'descr': '<f4', 'fort...     False    False   \n",
      "119  b\"\\x93NUMPY\\x01\\x00v\\x00{'descr': '<f4', 'fort...     False    False   \n",
      "120  b\"\\x93NUMPY\\x01\\x00v\\x00{'descr': '<f4', 'fort...     False    False   \n",
      "121  b\"\\x93NUMPY\\x01\\x00v\\x00{'descr': '<f4', 'fort...     False     True   \n",
      "122  b\"\\x93NUMPY\\x01\\x00v\\x00{'descr': '<f4', 'fort...     False     True   \n",
      "\n",
      "     is_terminal                                         hand_image  \\\n",
      "0          False  b'\\x93NUMPY\\x01\\x00v\\x00{\\'descr\\': \\'|u1\\', \\...   \n",
      "1          False  b'\\x93NUMPY\\x01\\x00v\\x00{\\'descr\\': \\'|u1\\', \\...   \n",
      "2          False  b'\\x93NUMPY\\x01\\x00v\\x00{\\'descr\\': \\'|u1\\', \\...   \n",
      "3          False  b'\\x93NUMPY\\x01\\x00v\\x00{\\'descr\\': \\'|u1\\', \\...   \n",
      "4          False  b'\\x93NUMPY\\x01\\x00v\\x00{\\'descr\\': \\'|u1\\', \\...   \n",
      "..           ...                                                ...   \n",
      "118        False  b'\\x93NUMPY\\x01\\x00v\\x00{\\'descr\\': \\'|u1\\', \\...   \n",
      "119        False  b'\\x93NUMPY\\x01\\x00v\\x00{\\'descr\\': \\'|u1\\', \\...   \n",
      "120        False  b'\\x93NUMPY\\x01\\x00v\\x00{\\'descr\\': \\'|u1\\', \\...   \n",
      "121         True  b'\\x93NUMPY\\x01\\x00v\\x00{\\'descr\\': \\'|u1\\', \\...   \n",
      "122         True  b'\\x93NUMPY\\x01\\x00v\\x00{\\'descr\\': \\'|u1\\', \\...   \n",
      "\n",
      "                                                 image  \\\n",
      "0    b'\\x93NUMPY\\x01\\x00v\\x00{\\'descr\\': \\'|u1\\', \\...   \n",
      "1    b'\\x93NUMPY\\x01\\x00v\\x00{\\'descr\\': \\'|u1\\', \\...   \n",
      "2    b'\\x93NUMPY\\x01\\x00v\\x00{\\'descr\\': \\'|u1\\', \\...   \n",
      "3    b'\\x93NUMPY\\x01\\x00v\\x00{\\'descr\\': \\'|u1\\', \\...   \n",
      "4    b'\\x93NUMPY\\x01\\x00v\\x00{\\'descr\\': \\'|u1\\', \\...   \n",
      "..                                                 ...   \n",
      "118  b'\\x93NUMPY\\x01\\x00v\\x00{\\'descr\\': \\'|u1\\', \\...   \n",
      "119  b'\\x93NUMPY\\x01\\x00v\\x00{\\'descr\\': \\'|u1\\', \\...   \n",
      "120  b'\\x93NUMPY\\x01\\x00v\\x00{\\'descr\\': \\'|u1\\', \\...   \n",
      "121  b'\\x93NUMPY\\x01\\x00v\\x00{\\'descr\\': \\'|u1\\', \\...   \n",
      "122  b'\\x93NUMPY\\x01\\x00v\\x00{\\'descr\\': \\'|u1\\', \\...   \n",
      "\n",
      "                                      image_with_depth  \\\n",
      "0    b'\\x93NUMPY\\x01\\x00v\\x00{\\'descr\\': \\'<f4\\', \\...   \n",
      "1    b'\\x93NUMPY\\x01\\x00v\\x00{\\'descr\\': \\'<f4\\', \\...   \n",
      "2    b'\\x93NUMPY\\x01\\x00v\\x00{\\'descr\\': \\'<f4\\', \\...   \n",
      "3    b'\\x93NUMPY\\x01\\x00v\\x00{\\'descr\\': \\'<f4\\', \\...   \n",
      "4    b'\\x93NUMPY\\x01\\x00v\\x00{\\'descr\\': \\'<f4\\', \\...   \n",
      "..                                                 ...   \n",
      "118  b'\\x93NUMPY\\x01\\x00v\\x00{\\'descr\\': \\'<f4\\', \\...   \n",
      "119  b'\\x93NUMPY\\x01\\x00v\\x00{\\'descr\\': \\'<f4\\', \\...   \n",
      "120  b'\\x93NUMPY\\x01\\x00v\\x00{\\'descr\\': \\'<f4\\', \\...   \n",
      "121  b'\\x93NUMPY\\x01\\x00v\\x00{\\'descr\\': \\'<f4\\', \\...   \n",
      "122  b'\\x93NUMPY\\x01\\x00v\\x00{\\'descr\\': \\'<f4\\', \\...   \n",
      "\n",
      "                            natural_language_embedding  \\\n",
      "0    b'\\x93NUMPY\\x01\\x00v\\x00{\\'descr\\': \\'<f4\\', \\...   \n",
      "1    b'\\x93NUMPY\\x01\\x00v\\x00{\\'descr\\': \\'<f4\\', \\...   \n",
      "2    b'\\x93NUMPY\\x01\\x00v\\x00{\\'descr\\': \\'<f4\\', \\...   \n",
      "3    b'\\x93NUMPY\\x01\\x00v\\x00{\\'descr\\': \\'<f4\\', \\...   \n",
      "4    b'\\x93NUMPY\\x01\\x00v\\x00{\\'descr\\': \\'<f4\\', \\...   \n",
      "..                                                 ...   \n",
      "118  b'\\x93NUMPY\\x01\\x00v\\x00{\\'descr\\': \\'<f4\\', \\...   \n",
      "119  b'\\x93NUMPY\\x01\\x00v\\x00{\\'descr\\': \\'<f4\\', \\...   \n",
      "120  b'\\x93NUMPY\\x01\\x00v\\x00{\\'descr\\': \\'<f4\\', \\...   \n",
      "121  b'\\x93NUMPY\\x01\\x00v\\x00{\\'descr\\': \\'<f4\\', \\...   \n",
      "122  b'\\x93NUMPY\\x01\\x00v\\x00{\\'descr\\': \\'<f4\\', \\...   \n",
      "\n",
      "                          natural_language_instruction  \\\n",
      "0    b'pick up the blue cup and put it into the bro...   \n",
      "1    b'pick up the blue cup and put it into the bro...   \n",
      "2    b'pick up the blue cup and put it into the bro...   \n",
      "3    b'pick up the blue cup and put it into the bro...   \n",
      "4    b'pick up the blue cup and put it into the bro...   \n",
      "..                                                 ...   \n",
      "118  b'pick up the blue cup and put it into the bro...   \n",
      "119  b'pick up the blue cup and put it into the bro...   \n",
      "120  b'pick up the blue cup and put it into the bro...   \n",
      "121  b'pick up the blue cup and put it into the bro...   \n",
      "122  b'pick up the blue cup and put it into the bro...   \n",
      "\n",
      "                                           robot_state  reward  \n",
      "0    b\"\\x93NUMPY\\x01\\x00v\\x00{'descr': '<f4', 'fort...     0.0  \n",
      "1    b\"\\x93NUMPY\\x01\\x00v\\x00{'descr': '<f4', 'fort...     0.0  \n",
      "2    b'\\x93NUMPY\\x01\\x00v\\x00{\\'descr\\': \\'<f4\\', \\...     0.0  \n",
      "3    b\"\\x93NUMPY\\x01\\x00v\\x00{'descr': '<f4', 'fort...     0.0  \n",
      "4    b\"\\x93NUMPY\\x01\\x00v\\x00{'descr': '<f4', 'fort...     0.0  \n",
      "..                                                 ...     ...  \n",
      "118  b'\\x93NUMPY\\x01\\x00v\\x00{\\'descr\\': \\'<f4\\', \\...     0.0  \n",
      "119  b\"\\x93NUMPY\\x01\\x00v\\x00{'descr': '<f4', 'fort...     0.0  \n",
      "120  b\"\\x93NUMPY\\x01\\x00v\\x00{'descr': '<f4', 'fort...     0.0  \n",
      "121  b\"\\x93NUMPY\\x01\\x00v\\x00{'descr': '<f4', 'fort...     0.0  \n",
      "122  b\"\\x93NUMPY\\x01\\x00v\\x00{'descr': '<f4', 'fort...     1.0  \n",
      "\n",
      "[123 rows x 16 columns]]\n"
     ]
    }
   ],
   "source": [
    "import torch \n",
    "\n",
    "metadata = dataset.get_episode_info()\n",
    "metadata = metadata.filter(metadata[\"collector\"] == \"User 2\")\n",
    "pytorch_ds = dataset.pytorch_dataset_builder(\n",
    "    metadata=metadata\n",
    ")\n",
    "\n",
    "# get samples from the dataset\n",
    "for data in torch.utils.data.DataLoader(\n",
    "    pytorch_ds,\n",
    "    batch_size=2,\n",
    "    collate_fn=lambda x: x,\n",
    "    sampler=torch.utils.data.RandomSampler(pytorch_ds),\n",
    "):\n",
    "    print(data)\n"
   ]
  },
  {
   "cell_type": "markdown",
   "id": "cd797c72",
   "metadata": {},
   "source": [
    "### As Open-X dataset \n",
    "In tensorflow rlds dataset format"
   ]
  },
  {
   "cell_type": "code",
   "execution_count": null,
   "id": "2f3872a3",
   "metadata": {},
   "outputs": [],
   "source": [
    "dataset.export(format=\"open-x\")"
   ]
  },
  {
   "cell_type": "code",
   "execution_count": 7,
   "id": "3ca5c448-076b-4eb9-9eb2-6ccf1fd03454",
   "metadata": {},
   "outputs": [
    {
     "name": "stdout",
     "output_type": "stream",
     "text": [
      "dataset_info.json\t      demo_ds-train.tfrecord-00004\n",
      "demo_ds-train.tfrecord-00000  demo_ds-train.tfrecord-00005\n",
      "demo_ds-train.tfrecord-00001  demo_ds-train.tfrecord-00006\n",
      "demo_ds-train.tfrecord-00002  features.json\n",
      "demo_ds-train.tfrecord-00003\n"
     ]
    }
   ],
   "source": [
    "!ls ~/test_dataset/export"
   ]
  },
  {
   "cell_type": "code",
   "execution_count": 6,
   "id": "e4cf0b65",
   "metadata": {},
   "outputs": [
    {
     "name": "stdout",
     "output_type": "stream",
     "text": [
      "{\n",
      "  \"fileFormat\": \"tfrecord\",\n",
      "  \"name\": \"demo_ds\",\n",
      "  \"splits\": [\n",
      "    {\n",
      "      \"filepathTemplate\": \"{DATASET}-{SPLIT}.{FILEFORMAT}-{SHARD_INDEX}\",\n",
      "      \"name\": \"train\",\n",
      "      \"numBytes\": \"2417903909\",\n",
      "      \"shardLengths\": [\n",
      "        \"1\",\n",
      "        \"1\",\n",
      "        \"1\",\n",
      "        \"1\",\n",
      "        \"1\",\n",
      "        \"1\",\n",
      "        \"1\"\n",
      "      ]\n",
      "    }\n",
      "  ],\n",
      "  \"version\": \"0.0.1\"\n",
      "}"
     ]
    }
   ],
   "source": [
    "!cat ~/test_dataset/export/dataset_info.json"
   ]
  },
  {
   "cell_type": "markdown",
   "id": "ff0d75fb-c4fc-49ed-ad45-76b703c699b9",
   "metadata": {},
   "source": [
    "## Disk Comparison"
   ]
  },
  {
   "cell_type": "code",
   "execution_count": 9,
   "id": "58f39c38-167a-469a-897e-0f1dd5fc21bd",
   "metadata": {},
   "outputs": [
    {
     "name": "stdout",
     "output_type": "stream",
     "text": [
      "2.3G\t/root/test_dataset/export/\n"
     ]
    }
   ],
   "source": [
    "# file size of generated rlds \n",
    "!du -sh ~/test_dataset/export/"
   ]
  },
  {
   "cell_type": "code",
   "execution_count": 11,
   "id": "800e0b5c-7dd1-454c-83ed-3830614a7990",
   "metadata": {},
   "outputs": [
    {
     "name": "stdout",
     "output_type": "stream",
     "text": [
      "1.6G\t/root/test_dataset/demo_ds/\n"
     ]
    }
   ],
   "source": [
    "# file size of Fog-X dataset\n",
    "!du -sh ~/test_dataset/demo_ds/"
   ]
  },
  {
   "cell_type": "code",
   "execution_count": null,
   "id": "41bd1973-f468-44f5-aeb3-ae41ee94353e",
   "metadata": {},
   "outputs": [],
   "source": []
  }
 ],
 "metadata": {
  "kernelspec": {
   "display_name": "Python 3 (ipykernel)",
   "language": "python",
   "name": "python3"
  },
  "language_info": {
   "codemirror_mode": {
    "name": "ipython",
    "version": 3
   },
   "file_extension": ".py",
   "mimetype": "text/x-python",
   "name": "python",
   "nbconvert_exporter": "python",
   "pygments_lexer": "ipython3",
   "version": "3.10.12"
  }
 },
 "nbformat": 4,
 "nbformat_minor": 5
}
