{
  "cells": [
    {
      "cell_type": "markdown",
      "metadata": {
        "id": "upgVMgpfdSCk"
      },
      "source": [
        "# Fog-RTX Work With Cloud\n",
        "FogRTX supports a wide range of cloud service providers.\n",
        "\n",
        "### AWS"
      ]
    },
    {
      "cell_type": "code",
      "execution_count": 1,
      "metadata": {
        "id": "ex7qQ3klf2_y"
      },
      "outputs": [
        {
          "name": "stdout",
          "output_type": "stream",
          "text": [
            "fatal: destination path 'fog_x' already exists and is not an empty directory.\n",
            "error: pathspec 'cloud' did not match any file(s) known to git\n"
          ]
        }
      ],
      "source": [
        "! git clone https://github.com/KeplerC/fog_x.git\n",
        "! cd fog_x && git checkout cloud && pip install ."
      ]
    },
    {
      "cell_type": "markdown",
      "metadata": {
        "id": "TbCXBT0rdgR7"
      },
      "source": [
        "Install required AWS dependency and configure with your aws credential"
      ]
    },
    {
      "cell_type": "code",
      "execution_count": null,
      "metadata": {
        "id": "k4Q0PXALS0Ol"
      },
      "outputs": [],
      "source": [
        "! curl \"https://awscli.amazonaws.com/awscli-exe-linux-x86_64.zip\" -o \"awscliv2.zip\"\n",
        "! unzip awscliv2.zip\n",
        "! sudo ./aws/install\n",
        "! aws configure"
      ]
    },
    {
      "cell_type": "code",
      "execution_count": null,
      "metadata": {
        "id": "r-VhhYFBdqit"
      },
      "outputs": [],
      "source": [
        "# create an AWS bucket named fog-rtx-test-east-1 (anything you want)\n",
        "!aws s3api create-bucket --bucket fog-rtx-test-east-1 --region us-east-1"
      ]
    },
    {
      "cell_type": "code",
      "execution_count": null,
      "metadata": {},
      "outputs": [],
      "source": [
        "# (Optional) set the AWS s3 bucket to be public\n",
        "! aws aws s3api put-public-access-block \\\n",
        "    --bucket fog-rtx-test-east-1 \\\n",
        "    --public-access-block-configuration \"BlockPublicAcls=false,IgnorePublicAcls=false,BlockPublicPolicy=false,RestrictPublicBuckets=false\""
      ]
    },
    {
      "cell_type": "markdown",
      "metadata": {
        "id": "ZesCYo2udsei"
      },
      "source": [
        "Fog-RTX can load from the existing bucket, and add more to it!"
      ]
    },
    {
      "cell_type": "code",
      "execution_count": 8,
      "metadata": {
        "colab": {
          "base_uri": "https://localhost:8080/"
        },
        "id": "Il5tj-i1f8bG",
        "outputId": "401bee3b-0807-4a01-e6e8-30a8f9756b48"
      },
      "outputs": [
        {
          "name": "stderr",
          "output_type": "stream",
          "text": [
            "I 2024-04-21 19:19:44,550 dataset.py:91] Path does not exist. (s3://fog-rtx-test-east-1/demo_dss)\n",
            "I 2024-04-21 19:19:44,553 dataset.py:94] Creating s3 bucket...\n",
            "I 2024-04-21 19:19:44,946 dataset.py:100] Bucket 'fog-rtx-test-east-1' created in AWS S3.\n",
            "I 2024-04-21 19:19:45,388 polars_connector.py:144] Prepare to load table demo_dss loaded from s3://fog-rtx-test-east-1/demo_dss.parquet.\n",
            "W 2024-04-21 19:19:45,768 polars_connector.py:154] Failed to load table demo_dss from s3://fog-rtx-test-east-1/demo_dss.parquet.\n",
            "E 2024-04-21 19:19:45,769 polars_connector.py:118] Table demo_dss does not exist, available tables are dict_keys([]).\n"
          ]
        }
      ],
      "source": [
        "import fog_x\n",
        "\n",
        "dataset = fog_x.dataset.Dataset(\n",
        "    name=\"demo_ds\",\n",
        "    path='s3://fog-rtx-test-east-1',\n",
        ")"
      ]
    },
    {
      "cell_type": "markdown",
      "metadata": {
        "id": "TArD9Frhd_U8"
      },
      "source": [
        "read from exisitng AWS stored dataset"
      ]
    },
    {
      "cell_type": "code",
      "execution_count": 3,
      "metadata": {
        "colab": {
          "base_uri": "https://localhost:8080/",
          "height": 244
        },
        "id": "oLMT8ioUd6Km",
        "outputId": "c821cf86-2b3e-4d6a-9b3b-71887e9a8b6f"
      },
      "outputs": [
        {
          "data": {
            "text/html": [
              "<div><style>\n",
              ".dataframe > thead > tr,\n",
              ".dataframe > tbody > tr {\n",
              "  text-align: right;\n",
              "  white-space: pre-wrap;\n",
              "}\n",
              "</style>\n",
              "<small>shape: (6, 44)</small><table border=\"1\" class=\"dataframe\"><thead><tr><th>episode_id</th><th>Finished</th><th>feature_gripper_closedness_action_type</th><th>feature_gripper_closedness_action_shape</th><th>gripper_closedness_action_count</th><th>feature_rotation_delta_type</th><th>feature_rotation_delta_shape</th><th>rotation_delta_count</th><th>feature_terminate_episode_type</th><th>feature_terminate_episode_shape</th><th>terminate_episode_count</th><th>feature_world_vector_type</th><th>feature_world_vector_shape</th><th>world_vector_count</th><th>feature_is_first_type</th><th>feature_is_first_shape</th><th>is_first_count</th><th>feature_is_last_type</th><th>feature_is_last_shape</th><th>is_last_count</th><th>feature_is_terminal_type</th><th>feature_is_terminal_shape</th><th>is_terminal_count</th><th>feature_hand_image_type</th><th>feature_hand_image_shape</th><th>hand_image_count</th><th>feature_image_type</th><th>feature_image_shape</th><th>image_count</th><th>feature_image_with_depth_type</th><th>feature_image_with_depth_shape</th><th>image_with_depth_count</th><th>feature_natural_language_embedding_type</th><th>feature_natural_language_embedding_shape</th><th>natural_language_embedding_count</th><th>feature_natural_language_instruction_type</th><th>feature_natural_language_instruction_shape</th><th>natural_language_instruction_count</th><th>feature_robot_state_type</th><th>feature_robot_state_shape</th><th>robot_state_count</th><th>feature_reward_type</th><th>feature_reward_shape</th><th>reward_count</th></tr><tr><td>i64</td><td>bool</td><td>str</td><td>str</td><td>f64</td><td>str</td><td>str</td><td>f64</td><td>str</td><td>str</td><td>f64</td><td>str</td><td>str</td><td>f64</td><td>str</td><td>str</td><td>f64</td><td>str</td><td>str</td><td>f64</td><td>str</td><td>str</td><td>f64</td><td>str</td><td>str</td><td>f64</td><td>str</td><td>str</td><td>f64</td><td>str</td><td>str</td><td>f64</td><td>str</td><td>str</td><td>f64</td><td>str</td><td>str</td><td>f64</td><td>str</td><td>str</td><td>f64</td><td>str</td><td>str</td><td>f64</td></tr></thead><tbody><tr><td>0</td><td>true</td><td>&quot;float32&quot;</td><td>&quot;()&quot;</td><td>123.0</td><td>&quot;float32&quot;</td><td>&quot;(3,)&quot;</td><td>123.0</td><td>&quot;float32&quot;</td><td>&quot;()&quot;</td><td>123.0</td><td>&quot;float32&quot;</td><td>&quot;(3,)&quot;</td><td>123.0</td><td>&quot;bool&quot;</td><td>&quot;()&quot;</td><td>123.0</td><td>&quot;bool&quot;</td><td>&quot;()&quot;</td><td>123.0</td><td>&quot;bool&quot;</td><td>&quot;()&quot;</td><td>123.0</td><td>&quot;uint8&quot;</td><td>&quot;(480, 640, 3)&quot;</td><td>123.0</td><td>&quot;uint8&quot;</td><td>&quot;(480, 640, 3)&quot;</td><td>123.0</td><td>&quot;float32&quot;</td><td>&quot;(480, 640, 1)&quot;</td><td>123.0</td><td>&quot;float32&quot;</td><td>&quot;(512,)&quot;</td><td>123.0</td><td>&quot;string&quot;</td><td>&quot;()&quot;</td><td>123.0</td><td>&quot;float32&quot;</td><td>&quot;(15,)&quot;</td><td>123.0</td><td>&quot;float32&quot;</td><td>&quot;()&quot;</td><td>123.0</td></tr><tr><td>1</td><td>true</td><td>&quot;float32&quot;</td><td>&quot;()&quot;</td><td>103.0</td><td>&quot;float32&quot;</td><td>&quot;(3,)&quot;</td><td>103.0</td><td>&quot;float32&quot;</td><td>&quot;()&quot;</td><td>103.0</td><td>&quot;float32&quot;</td><td>&quot;(3,)&quot;</td><td>103.0</td><td>&quot;bool&quot;</td><td>&quot;()&quot;</td><td>103.0</td><td>&quot;bool&quot;</td><td>&quot;()&quot;</td><td>103.0</td><td>&quot;bool&quot;</td><td>&quot;()&quot;</td><td>103.0</td><td>&quot;uint8&quot;</td><td>&quot;(480, 640, 3)&quot;</td><td>103.0</td><td>&quot;uint8&quot;</td><td>&quot;(480, 640, 3)&quot;</td><td>103.0</td><td>&quot;float32&quot;</td><td>&quot;(480, 640, 1)&quot;</td><td>103.0</td><td>&quot;float32&quot;</td><td>&quot;(512,)&quot;</td><td>103.0</td><td>&quot;string&quot;</td><td>&quot;()&quot;</td><td>103.0</td><td>&quot;float32&quot;</td><td>&quot;(15,)&quot;</td><td>103.0</td><td>&quot;float32&quot;</td><td>&quot;()&quot;</td><td>103.0</td></tr><tr><td>2</td><td>true</td><td>&quot;float32&quot;</td><td>&quot;()&quot;</td><td>110.0</td><td>&quot;float32&quot;</td><td>&quot;(3,)&quot;</td><td>110.0</td><td>&quot;float32&quot;</td><td>&quot;()&quot;</td><td>110.0</td><td>&quot;float32&quot;</td><td>&quot;(3,)&quot;</td><td>110.0</td><td>&quot;bool&quot;</td><td>&quot;()&quot;</td><td>110.0</td><td>&quot;bool&quot;</td><td>&quot;()&quot;</td><td>110.0</td><td>&quot;bool&quot;</td><td>&quot;()&quot;</td><td>110.0</td><td>&quot;uint8&quot;</td><td>&quot;(480, 640, 3)&quot;</td><td>110.0</td><td>&quot;uint8&quot;</td><td>&quot;(480, 640, 3)&quot;</td><td>110.0</td><td>&quot;float32&quot;</td><td>&quot;(480, 640, 1)&quot;</td><td>110.0</td><td>&quot;float32&quot;</td><td>&quot;(512,)&quot;</td><td>110.0</td><td>&quot;string&quot;</td><td>&quot;()&quot;</td><td>110.0</td><td>&quot;float32&quot;</td><td>&quot;(15,)&quot;</td><td>110.0</td><td>&quot;float32&quot;</td><td>&quot;()&quot;</td><td>110.0</td></tr><tr><td>3</td><td>true</td><td>&quot;float32&quot;</td><td>&quot;()&quot;</td><td>118.0</td><td>&quot;float32&quot;</td><td>&quot;(3,)&quot;</td><td>118.0</td><td>&quot;float32&quot;</td><td>&quot;()&quot;</td><td>118.0</td><td>&quot;float32&quot;</td><td>&quot;(3,)&quot;</td><td>118.0</td><td>&quot;bool&quot;</td><td>&quot;()&quot;</td><td>118.0</td><td>&quot;bool&quot;</td><td>&quot;()&quot;</td><td>118.0</td><td>&quot;bool&quot;</td><td>&quot;()&quot;</td><td>118.0</td><td>&quot;uint8&quot;</td><td>&quot;(480, 640, 3)&quot;</td><td>118.0</td><td>&quot;uint8&quot;</td><td>&quot;(480, 640, 3)&quot;</td><td>118.0</td><td>&quot;float32&quot;</td><td>&quot;(480, 640, 1)&quot;</td><td>118.0</td><td>&quot;float32&quot;</td><td>&quot;(512,)&quot;</td><td>118.0</td><td>&quot;string&quot;</td><td>&quot;()&quot;</td><td>118.0</td><td>&quot;float32&quot;</td><td>&quot;(15,)&quot;</td><td>118.0</td><td>&quot;float32&quot;</td><td>&quot;()&quot;</td><td>118.0</td></tr><tr><td>4</td><td>true</td><td>&quot;float32&quot;</td><td>&quot;()&quot;</td><td>84.0</td><td>&quot;float32&quot;</td><td>&quot;(3,)&quot;</td><td>84.0</td><td>&quot;float32&quot;</td><td>&quot;()&quot;</td><td>84.0</td><td>&quot;float32&quot;</td><td>&quot;(3,)&quot;</td><td>84.0</td><td>&quot;bool&quot;</td><td>&quot;()&quot;</td><td>84.0</td><td>&quot;bool&quot;</td><td>&quot;()&quot;</td><td>84.0</td><td>&quot;bool&quot;</td><td>&quot;()&quot;</td><td>84.0</td><td>&quot;uint8&quot;</td><td>&quot;(480, 640, 3)&quot;</td><td>84.0</td><td>&quot;uint8&quot;</td><td>&quot;(480, 640, 3)&quot;</td><td>84.0</td><td>&quot;float32&quot;</td><td>&quot;(480, 640, 1)&quot;</td><td>84.0</td><td>&quot;float32&quot;</td><td>&quot;(512,)&quot;</td><td>84.0</td><td>&quot;string&quot;</td><td>&quot;()&quot;</td><td>84.0</td><td>&quot;float32&quot;</td><td>&quot;(15,)&quot;</td><td>84.0</td><td>&quot;float32&quot;</td><td>&quot;()&quot;</td><td>84.0</td></tr><tr><td>5</td><td>true</td><td>&quot;float32&quot;</td><td>&quot;()&quot;</td><td>97.0</td><td>&quot;float32&quot;</td><td>&quot;(3,)&quot;</td><td>97.0</td><td>&quot;float32&quot;</td><td>&quot;()&quot;</td><td>97.0</td><td>&quot;float32&quot;</td><td>&quot;(3,)&quot;</td><td>97.0</td><td>&quot;bool&quot;</td><td>&quot;()&quot;</td><td>97.0</td><td>&quot;bool&quot;</td><td>&quot;()&quot;</td><td>97.0</td><td>&quot;bool&quot;</td><td>&quot;()&quot;</td><td>97.0</td><td>&quot;uint8&quot;</td><td>&quot;(480, 640, 3)&quot;</td><td>97.0</td><td>&quot;uint8&quot;</td><td>&quot;(480, 640, 3)&quot;</td><td>97.0</td><td>&quot;float32&quot;</td><td>&quot;(480, 640, 1)&quot;</td><td>97.0</td><td>&quot;float32&quot;</td><td>&quot;(512,)&quot;</td><td>97.0</td><td>&quot;string&quot;</td><td>&quot;()&quot;</td><td>97.0</td><td>&quot;float32&quot;</td><td>&quot;(15,)&quot;</td><td>97.0</td><td>&quot;float32&quot;</td><td>&quot;()&quot;</td><td>97.0</td></tr></tbody></table></div>"
            ],
            "text/plain": [
              "shape: (6, 44)\n",
              "┌───────────┬──────────┬───────────┬───────────┬───┬───────────┬───────────┬───────────┬───────────┐\n",
              "│ episode_i ┆ Finished ┆ feature_g ┆ feature_g ┆ … ┆ robot_sta ┆ feature_r ┆ feature_r ┆ reward_co │\n",
              "│ d         ┆ ---      ┆ ripper_cl ┆ ripper_cl ┆   ┆ te_count  ┆ eward_typ ┆ eward_sha ┆ unt       │\n",
              "│ ---       ┆ bool     ┆ osedness_ ┆ osedness_ ┆   ┆ ---       ┆ e         ┆ pe        ┆ ---       │\n",
              "│ i64       ┆          ┆ actio…    ┆ actio…    ┆   ┆ f64       ┆ ---       ┆ ---       ┆ f64       │\n",
              "│           ┆          ┆ ---       ┆ ---       ┆   ┆           ┆ str       ┆ str       ┆           │\n",
              "│           ┆          ┆ str       ┆ str       ┆   ┆           ┆           ┆           ┆           │\n",
              "╞═══════════╪══════════╪═══════════╪═══════════╪═══╪═══════════╪═══════════╪═══════════╪═══════════╡\n",
              "│ 0         ┆ true     ┆ float32   ┆ ()        ┆ … ┆ 123.0     ┆ float32   ┆ ()        ┆ 123.0     │\n",
              "│ 1         ┆ true     ┆ float32   ┆ ()        ┆ … ┆ 103.0     ┆ float32   ┆ ()        ┆ 103.0     │\n",
              "│ 2         ┆ true     ┆ float32   ┆ ()        ┆ … ┆ 110.0     ┆ float32   ┆ ()        ┆ 110.0     │\n",
              "│ 3         ┆ true     ┆ float32   ┆ ()        ┆ … ┆ 118.0     ┆ float32   ┆ ()        ┆ 118.0     │\n",
              "│ 4         ┆ true     ┆ float32   ┆ ()        ┆ … ┆ 84.0      ┆ float32   ┆ ()        ┆ 84.0      │\n",
              "│ 5         ┆ true     ┆ float32   ┆ ()        ┆ … ┆ 97.0      ┆ float32   ┆ ()        ┆ 97.0      │\n",
              "└───────────┴──────────┴───────────┴───────────┴───┴───────────┴───────────┴───────────┴───────────┘"
            ]
          },
          "execution_count": 3,
          "metadata": {},
          "output_type": "execute_result"
        }
      ],
      "source": [
        "dataset.get_episode_info()"
      ]
    },
    {
      "cell_type": "markdown",
      "metadata": {
        "id": "mul7xRzFeDRt"
      },
      "source": [
        "add more to the stored dataset"
      ]
    },
    {
      "cell_type": "code",
      "execution_count": 5,
      "metadata": {
        "colab": {
          "base_uri": "https://localhost:8080/"
        },
        "id": "ivIyifc4f9ih",
        "outputId": "daef546e-c378-45a1-87eb-562d0f92c8f0"
      },
      "outputs": [
        {
          "name": "stderr",
          "output_type": "stream",
          "text": [
            "I 2024-04-21 19:02:52,041 dataset_info.py:610] Load dataset info from gs://gresearch/robotics/berkeley_autolab_ur5/0.1.0\n",
            "I 2024-04-21 19:02:52,774 reader.py:261] Creating a tf.data.Dataset reading 4 files located in folders: gs://gresearch/robotics/berkeley_autolab_ur5/0.1.0.\n",
            "I 2024-04-21 19:02:52,902 logging_logger.py:49] Constructing tf.data.Dataset berkeley_autolab_ur5 for split train[4:10], from gs://gresearch/robotics/berkeley_autolab_ur5/0.1.0\n",
            "I 2024-04-21 19:02:54,578 dataset.py:359] {'steps': <_VariantDataset element_spec={'action': {'gripper_closedness_action': TensorSpec(shape=(), dtype=tf.float32, name=None), 'rotation_delta': TensorSpec(shape=(3,), dtype=tf.float32, name=None), 'terminate_episode': TensorSpec(shape=(), dtype=tf.float32, name=None), 'world_vector': TensorSpec(shape=(3,), dtype=tf.float32, name=None)}, 'is_first': TensorSpec(shape=(), dtype=tf.bool, name=None), 'is_last': TensorSpec(shape=(), dtype=tf.bool, name=None), 'is_terminal': TensorSpec(shape=(), dtype=tf.bool, name=None), 'observation': {'hand_image': TensorSpec(shape=(480, 640, 3), dtype=tf.uint8, name=None), 'image': TensorSpec(shape=(480, 640, 3), dtype=tf.uint8, name=None), 'image_with_depth': TensorSpec(shape=(480, 640, 1), dtype=tf.float32, name=None), 'natural_language_embedding': TensorSpec(shape=(512,), dtype=tf.float32, name=None), 'natural_language_instruction': TensorSpec(shape=(), dtype=tf.string, name=None), 'robot_state': TensorSpec(shape=(15,), dtype=tf.float32, name=None)}, 'reward': TensorSpec(shape=(), dtype=tf.float32, name=None)}>}\n",
            "W 2024-04-21 19:02:54,695 feature.py:68] `FeatureConnector.dtype` is deprecated. Please change your code to use NumPy with the field `FeatureConnector.np_dtype` or use TensorFlow with the field `FeatureConnector.tf_dtype`.\n",
            "W 2024-04-21 19:02:54,697 feature.py:68] `FeatureConnector.dtype` is deprecated. Please change your code to use NumPy with the field `FeatureConnector.np_dtype` or use TensorFlow with the field `FeatureConnector.tf_dtype`.\n",
            "W 2024-04-21 19:02:54,698 feature.py:68] `FeatureConnector.dtype` is deprecated. Please change your code to use NumPy with the field `FeatureConnector.np_dtype` or use TensorFlow with the field `FeatureConnector.tf_dtype`.\n",
            "W 2024-04-21 19:02:54,699 feature.py:68] `FeatureConnector.dtype` is deprecated. Please change your code to use NumPy with the field `FeatureConnector.np_dtype` or use TensorFlow with the field `FeatureConnector.tf_dtype`.\n",
            "W 2024-04-21 19:02:54,700 feature.py:68] `FeatureConnector.dtype` is deprecated. Please change your code to use NumPy with the field `FeatureConnector.np_dtype` or use TensorFlow with the field `FeatureConnector.tf_dtype`.\n",
            "W 2024-04-21 19:02:54,702 feature.py:68] `FeatureConnector.dtype` is deprecated. Please change your code to use NumPy with the field `FeatureConnector.np_dtype` or use TensorFlow with the field `FeatureConnector.tf_dtype`.\n",
            "W 2024-04-21 19:02:54,703 feature.py:68] `FeatureConnector.dtype` is deprecated. Please change your code to use NumPy with the field `FeatureConnector.np_dtype` or use TensorFlow with the field `FeatureConnector.tf_dtype`.\n",
            "W 2024-04-21 19:02:54,710 feature.py:68] `FeatureConnector.dtype` is deprecated. Please change your code to use NumPy with the field `FeatureConnector.np_dtype` or use TensorFlow with the field `FeatureConnector.tf_dtype`.\n",
            "W 2024-04-21 19:02:54,711 feature.py:68] `FeatureConnector.dtype` is deprecated. Please change your code to use NumPy with the field `FeatureConnector.np_dtype` or use TensorFlow with the field `FeatureConnector.tf_dtype`.\n",
            "W 2024-04-21 19:02:54,712 feature.py:68] `FeatureConnector.dtype` is deprecated. Please change your code to use NumPy with the field `FeatureConnector.np_dtype` or use TensorFlow with the field `FeatureConnector.tf_dtype`.\n",
            "I 2024-04-21 19:03:07,405 db_manager.py:287] Closing the episode with metadata {}\n",
            "I 2024-04-21 19:03:12,171 dataset.py:359] {'steps': <_VariantDataset element_spec={'action': {'gripper_closedness_action': TensorSpec(shape=(), dtype=tf.float32, name=None), 'rotation_delta': TensorSpec(shape=(3,), dtype=tf.float32, name=None), 'terminate_episode': TensorSpec(shape=(), dtype=tf.float32, name=None), 'world_vector': TensorSpec(shape=(3,), dtype=tf.float32, name=None)}, 'is_first': TensorSpec(shape=(), dtype=tf.bool, name=None), 'is_last': TensorSpec(shape=(), dtype=tf.bool, name=None), 'is_terminal': TensorSpec(shape=(), dtype=tf.bool, name=None), 'observation': {'hand_image': TensorSpec(shape=(480, 640, 3), dtype=tf.uint8, name=None), 'image': TensorSpec(shape=(480, 640, 3), dtype=tf.uint8, name=None), 'image_with_depth': TensorSpec(shape=(480, 640, 1), dtype=tf.float32, name=None), 'natural_language_embedding': TensorSpec(shape=(512,), dtype=tf.float32, name=None), 'natural_language_instruction': TensorSpec(shape=(), dtype=tf.string, name=None), 'robot_state': TensorSpec(shape=(15,), dtype=tf.float32, name=None)}, 'reward': TensorSpec(shape=(), dtype=tf.float32, name=None)}>}\n",
            "I 2024-04-21 19:03:22,428 db_manager.py:287] Closing the episode with metadata {'Finished': True, 'gripper_closedness_action_count': 123, 'rotation_delta_count': 123, 'terminate_episode_count': 123, 'world_vector_count': 123, 'is_first_count': 123, 'is_last_count': 123, 'is_terminal_count': 123, 'hand_image_count': 123, 'image_count': 123, 'image_with_depth_count': 123, 'natural_language_embedding_count': 123, 'natural_language_instruction_count': 123, 'robot_state_count': 123, 'reward_count': 123}\n",
            "I 2024-04-21 19:03:26,977 dataset.py:359] {'steps': <_VariantDataset element_spec={'action': {'gripper_closedness_action': TensorSpec(shape=(), dtype=tf.float32, name=None), 'rotation_delta': TensorSpec(shape=(3,), dtype=tf.float32, name=None), 'terminate_episode': TensorSpec(shape=(), dtype=tf.float32, name=None), 'world_vector': TensorSpec(shape=(3,), dtype=tf.float32, name=None)}, 'is_first': TensorSpec(shape=(), dtype=tf.bool, name=None), 'is_last': TensorSpec(shape=(), dtype=tf.bool, name=None), 'is_terminal': TensorSpec(shape=(), dtype=tf.bool, name=None), 'observation': {'hand_image': TensorSpec(shape=(480, 640, 3), dtype=tf.uint8, name=None), 'image': TensorSpec(shape=(480, 640, 3), dtype=tf.uint8, name=None), 'image_with_depth': TensorSpec(shape=(480, 640, 1), dtype=tf.float32, name=None), 'natural_language_embedding': TensorSpec(shape=(512,), dtype=tf.float32, name=None), 'natural_language_instruction': TensorSpec(shape=(), dtype=tf.string, name=None), 'robot_state': TensorSpec(shape=(15,), dtype=tf.float32, name=None)}, 'reward': TensorSpec(shape=(), dtype=tf.float32, name=None)}>}\n",
            "I 2024-04-21 19:03:38,444 db_manager.py:287] Closing the episode with metadata {'Finished': True, 'gripper_closedness_action_count': 103, 'rotation_delta_count': 103, 'terminate_episode_count': 103, 'world_vector_count': 103, 'is_first_count': 103, 'is_last_count': 103, 'is_terminal_count': 103, 'hand_image_count': 103, 'image_count': 103, 'image_with_depth_count': 103, 'natural_language_embedding_count': 103, 'natural_language_instruction_count': 103, 'robot_state_count': 103, 'reward_count': 103}\n",
            "I 2024-04-21 19:03:42,847 dataset.py:359] {'steps': <_VariantDataset element_spec={'action': {'gripper_closedness_action': TensorSpec(shape=(), dtype=tf.float32, name=None), 'rotation_delta': TensorSpec(shape=(3,), dtype=tf.float32, name=None), 'terminate_episode': TensorSpec(shape=(), dtype=tf.float32, name=None), 'world_vector': TensorSpec(shape=(3,), dtype=tf.float32, name=None)}, 'is_first': TensorSpec(shape=(), dtype=tf.bool, name=None), 'is_last': TensorSpec(shape=(), dtype=tf.bool, name=None), 'is_terminal': TensorSpec(shape=(), dtype=tf.bool, name=None), 'observation': {'hand_image': TensorSpec(shape=(480, 640, 3), dtype=tf.uint8, name=None), 'image': TensorSpec(shape=(480, 640, 3), dtype=tf.uint8, name=None), 'image_with_depth': TensorSpec(shape=(480, 640, 1), dtype=tf.float32, name=None), 'natural_language_embedding': TensorSpec(shape=(512,), dtype=tf.float32, name=None), 'natural_language_instruction': TensorSpec(shape=(), dtype=tf.string, name=None), 'robot_state': TensorSpec(shape=(15,), dtype=tf.float32, name=None)}, 'reward': TensorSpec(shape=(), dtype=tf.float32, name=None)}>}\n",
            "I 2024-04-21 19:03:54,763 db_manager.py:287] Closing the episode with metadata {'Finished': True, 'gripper_closedness_action_count': 110, 'rotation_delta_count': 110, 'terminate_episode_count': 110, 'world_vector_count': 110, 'is_first_count': 110, 'is_last_count': 110, 'is_terminal_count': 110, 'hand_image_count': 110, 'image_count': 110, 'image_with_depth_count': 110, 'natural_language_embedding_count': 110, 'natural_language_instruction_count': 110, 'robot_state_count': 110, 'reward_count': 110}\n",
            "I 2024-04-21 19:03:59,270 dataset.py:359] {'steps': <_VariantDataset element_spec={'action': {'gripper_closedness_action': TensorSpec(shape=(), dtype=tf.float32, name=None), 'rotation_delta': TensorSpec(shape=(3,), dtype=tf.float32, name=None), 'terminate_episode': TensorSpec(shape=(), dtype=tf.float32, name=None), 'world_vector': TensorSpec(shape=(3,), dtype=tf.float32, name=None)}, 'is_first': TensorSpec(shape=(), dtype=tf.bool, name=None), 'is_last': TensorSpec(shape=(), dtype=tf.bool, name=None), 'is_terminal': TensorSpec(shape=(), dtype=tf.bool, name=None), 'observation': {'hand_image': TensorSpec(shape=(480, 640, 3), dtype=tf.uint8, name=None), 'image': TensorSpec(shape=(480, 640, 3), dtype=tf.uint8, name=None), 'image_with_depth': TensorSpec(shape=(480, 640, 1), dtype=tf.float32, name=None), 'natural_language_embedding': TensorSpec(shape=(512,), dtype=tf.float32, name=None), 'natural_language_instruction': TensorSpec(shape=(), dtype=tf.string, name=None), 'robot_state': TensorSpec(shape=(15,), dtype=tf.float32, name=None)}, 'reward': TensorSpec(shape=(), dtype=tf.float32, name=None)}>}\n",
            "I 2024-04-21 19:04:07,600 db_manager.py:287] Closing the episode with metadata {'Finished': True, 'gripper_closedness_action_count': 118, 'rotation_delta_count': 118, 'terminate_episode_count': 118, 'world_vector_count': 118, 'is_first_count': 118, 'is_last_count': 118, 'is_terminal_count': 118, 'hand_image_count': 118, 'image_count': 118, 'image_with_depth_count': 118, 'natural_language_embedding_count': 118, 'natural_language_instruction_count': 118, 'robot_state_count': 118, 'reward_count': 118}\n",
            "I 2024-04-21 19:04:11,840 dataset.py:359] {'steps': <_VariantDataset element_spec={'action': {'gripper_closedness_action': TensorSpec(shape=(), dtype=tf.float32, name=None), 'rotation_delta': TensorSpec(shape=(3,), dtype=tf.float32, name=None), 'terminate_episode': TensorSpec(shape=(), dtype=tf.float32, name=None), 'world_vector': TensorSpec(shape=(3,), dtype=tf.float32, name=None)}, 'is_first': TensorSpec(shape=(), dtype=tf.bool, name=None), 'is_last': TensorSpec(shape=(), dtype=tf.bool, name=None), 'is_terminal': TensorSpec(shape=(), dtype=tf.bool, name=None), 'observation': {'hand_image': TensorSpec(shape=(480, 640, 3), dtype=tf.uint8, name=None), 'image': TensorSpec(shape=(480, 640, 3), dtype=tf.uint8, name=None), 'image_with_depth': TensorSpec(shape=(480, 640, 1), dtype=tf.float32, name=None), 'natural_language_embedding': TensorSpec(shape=(512,), dtype=tf.float32, name=None), 'natural_language_instruction': TensorSpec(shape=(), dtype=tf.string, name=None), 'robot_state': TensorSpec(shape=(15,), dtype=tf.float32, name=None)}, 'reward': TensorSpec(shape=(), dtype=tf.float32, name=None)}>}\n",
            "I 2024-04-21 19:04:21,838 db_manager.py:287] Closing the episode with metadata {'Finished': True, 'gripper_closedness_action_count': 84, 'rotation_delta_count': 84, 'terminate_episode_count': 84, 'world_vector_count': 84, 'is_first_count': 84, 'is_last_count': 84, 'is_terminal_count': 84, 'hand_image_count': 84, 'image_count': 84, 'image_with_depth_count': 84, 'natural_language_embedding_count': 84, 'natural_language_instruction_count': 84, 'robot_state_count': 84, 'reward_count': 84}\n"
          ]
        }
      ],
      "source": [
        "dataset.load_rtx_episodes(\n",
        "    name=\"berkeley_autolab_ur5\",\n",
        "    split=\"train[4:10]\",\n",
        ")"
      ]
    },
    {
      "cell_type": "markdown",
      "metadata": {
        "id": "mUneci9XeHsE"
      },
      "source": [
        "The data is automatically uploaded to the cloud!\n",
        "We can create a separate reader by"
      ]
    },
    {
      "cell_type": "code",
      "execution_count": 6,
      "metadata": {
        "colab": {
          "base_uri": "https://localhost:8080/"
        },
        "id": "cQHIKeNAeSrY",
        "outputId": "27379fd0-3a51-401c-e2b3-099bb7356ba6"
      },
      "outputs": [
        {
          "name": "stderr",
          "output_type": "stream",
          "text": [
            "I 2024-04-21 19:05:24,680 polars_connector.py:144] Prepare to load table demo_ds loaded from s3://fog-rtx-test-east-1/demo_ds.parquet.\n",
            "I 2024-04-21 19:05:25,837 polars_connector.py:152] Table demo_ds loaded from s3://fog-rtx-test-east-1/demo_ds.parquet.\n"
          ]
        }
      ],
      "source": [
        "dataset2 = fog_x.dataset.Dataset(\n",
        "    name=\"demo_ds\",\n",
        "    path='s3://fog-rtx-test-east-1',\n",
        ")"
      ]
    },
    {
      "cell_type": "code",
      "execution_count": 7,
      "metadata": {
        "colab": {
          "base_uri": "https://localhost:8080/",
          "height": 432
        },
        "id": "E4slMiSzf-se",
        "outputId": "9053cc4e-c8e2-4a16-c799-84a08712edd9"
      },
      "outputs": [
        {
          "data": {
            "text/html": [
              "<div><style>\n",
              ".dataframe > thead > tr,\n",
              ".dataframe > tbody > tr {\n",
              "  text-align: right;\n",
              "  white-space: pre-wrap;\n",
              "}\n",
              "</style>\n",
              "<small>shape: (12, 44)</small><table border=\"1\" class=\"dataframe\"><thead><tr><th>episode_id</th><th>Finished</th><th>feature_gripper_closedness_action_type</th><th>feature_gripper_closedness_action_shape</th><th>gripper_closedness_action_count</th><th>feature_rotation_delta_type</th><th>feature_rotation_delta_shape</th><th>rotation_delta_count</th><th>feature_terminate_episode_type</th><th>feature_terminate_episode_shape</th><th>terminate_episode_count</th><th>feature_world_vector_type</th><th>feature_world_vector_shape</th><th>world_vector_count</th><th>feature_is_first_type</th><th>feature_is_first_shape</th><th>is_first_count</th><th>feature_is_last_type</th><th>feature_is_last_shape</th><th>is_last_count</th><th>feature_is_terminal_type</th><th>feature_is_terminal_shape</th><th>is_terminal_count</th><th>feature_hand_image_type</th><th>feature_hand_image_shape</th><th>hand_image_count</th><th>feature_image_type</th><th>feature_image_shape</th><th>image_count</th><th>feature_image_with_depth_type</th><th>feature_image_with_depth_shape</th><th>image_with_depth_count</th><th>feature_natural_language_embedding_type</th><th>feature_natural_language_embedding_shape</th><th>natural_language_embedding_count</th><th>feature_natural_language_instruction_type</th><th>feature_natural_language_instruction_shape</th><th>natural_language_instruction_count</th><th>feature_robot_state_type</th><th>feature_robot_state_shape</th><th>robot_state_count</th><th>feature_reward_type</th><th>feature_reward_shape</th><th>reward_count</th></tr><tr><td>i64</td><td>bool</td><td>str</td><td>str</td><td>f64</td><td>str</td><td>str</td><td>f64</td><td>str</td><td>str</td><td>f64</td><td>str</td><td>str</td><td>f64</td><td>str</td><td>str</td><td>f64</td><td>str</td><td>str</td><td>f64</td><td>str</td><td>str</td><td>f64</td><td>str</td><td>str</td><td>f64</td><td>str</td><td>str</td><td>f64</td><td>str</td><td>str</td><td>f64</td><td>str</td><td>str</td><td>f64</td><td>str</td><td>str</td><td>f64</td><td>str</td><td>str</td><td>f64</td><td>str</td><td>str</td><td>f64</td></tr></thead><tbody><tr><td>0</td><td>true</td><td>&quot;float32&quot;</td><td>&quot;()&quot;</td><td>123.0</td><td>&quot;float32&quot;</td><td>&quot;(3,)&quot;</td><td>123.0</td><td>&quot;float32&quot;</td><td>&quot;()&quot;</td><td>123.0</td><td>&quot;float32&quot;</td><td>&quot;(3,)&quot;</td><td>123.0</td><td>&quot;bool&quot;</td><td>&quot;()&quot;</td><td>123.0</td><td>&quot;bool&quot;</td><td>&quot;()&quot;</td><td>123.0</td><td>&quot;bool&quot;</td><td>&quot;()&quot;</td><td>123.0</td><td>&quot;uint8&quot;</td><td>&quot;(480, 640, 3)&quot;</td><td>123.0</td><td>&quot;uint8&quot;</td><td>&quot;(480, 640, 3)&quot;</td><td>123.0</td><td>&quot;float32&quot;</td><td>&quot;(480, 640, 1)&quot;</td><td>123.0</td><td>&quot;float32&quot;</td><td>&quot;(512,)&quot;</td><td>123.0</td><td>&quot;string&quot;</td><td>&quot;()&quot;</td><td>123.0</td><td>&quot;float32&quot;</td><td>&quot;(15,)&quot;</td><td>123.0</td><td>&quot;float32&quot;</td><td>&quot;()&quot;</td><td>123.0</td></tr><tr><td>1</td><td>true</td><td>&quot;float32&quot;</td><td>&quot;()&quot;</td><td>103.0</td><td>&quot;float32&quot;</td><td>&quot;(3,)&quot;</td><td>103.0</td><td>&quot;float32&quot;</td><td>&quot;()&quot;</td><td>103.0</td><td>&quot;float32&quot;</td><td>&quot;(3,)&quot;</td><td>103.0</td><td>&quot;bool&quot;</td><td>&quot;()&quot;</td><td>103.0</td><td>&quot;bool&quot;</td><td>&quot;()&quot;</td><td>103.0</td><td>&quot;bool&quot;</td><td>&quot;()&quot;</td><td>103.0</td><td>&quot;uint8&quot;</td><td>&quot;(480, 640, 3)&quot;</td><td>103.0</td><td>&quot;uint8&quot;</td><td>&quot;(480, 640, 3)&quot;</td><td>103.0</td><td>&quot;float32&quot;</td><td>&quot;(480, 640, 1)&quot;</td><td>103.0</td><td>&quot;float32&quot;</td><td>&quot;(512,)&quot;</td><td>103.0</td><td>&quot;string&quot;</td><td>&quot;()&quot;</td><td>103.0</td><td>&quot;float32&quot;</td><td>&quot;(15,)&quot;</td><td>103.0</td><td>&quot;float32&quot;</td><td>&quot;()&quot;</td><td>103.0</td></tr><tr><td>2</td><td>true</td><td>&quot;float32&quot;</td><td>&quot;()&quot;</td><td>110.0</td><td>&quot;float32&quot;</td><td>&quot;(3,)&quot;</td><td>110.0</td><td>&quot;float32&quot;</td><td>&quot;()&quot;</td><td>110.0</td><td>&quot;float32&quot;</td><td>&quot;(3,)&quot;</td><td>110.0</td><td>&quot;bool&quot;</td><td>&quot;()&quot;</td><td>110.0</td><td>&quot;bool&quot;</td><td>&quot;()&quot;</td><td>110.0</td><td>&quot;bool&quot;</td><td>&quot;()&quot;</td><td>110.0</td><td>&quot;uint8&quot;</td><td>&quot;(480, 640, 3)&quot;</td><td>110.0</td><td>&quot;uint8&quot;</td><td>&quot;(480, 640, 3)&quot;</td><td>110.0</td><td>&quot;float32&quot;</td><td>&quot;(480, 640, 1)&quot;</td><td>110.0</td><td>&quot;float32&quot;</td><td>&quot;(512,)&quot;</td><td>110.0</td><td>&quot;string&quot;</td><td>&quot;()&quot;</td><td>110.0</td><td>&quot;float32&quot;</td><td>&quot;(15,)&quot;</td><td>110.0</td><td>&quot;float32&quot;</td><td>&quot;()&quot;</td><td>110.0</td></tr><tr><td>3</td><td>true</td><td>&quot;float32&quot;</td><td>&quot;()&quot;</td><td>118.0</td><td>&quot;float32&quot;</td><td>&quot;(3,)&quot;</td><td>118.0</td><td>&quot;float32&quot;</td><td>&quot;()&quot;</td><td>118.0</td><td>&quot;float32&quot;</td><td>&quot;(3,)&quot;</td><td>118.0</td><td>&quot;bool&quot;</td><td>&quot;()&quot;</td><td>118.0</td><td>&quot;bool&quot;</td><td>&quot;()&quot;</td><td>118.0</td><td>&quot;bool&quot;</td><td>&quot;()&quot;</td><td>118.0</td><td>&quot;uint8&quot;</td><td>&quot;(480, 640, 3)&quot;</td><td>118.0</td><td>&quot;uint8&quot;</td><td>&quot;(480, 640, 3)&quot;</td><td>118.0</td><td>&quot;float32&quot;</td><td>&quot;(480, 640, 1)&quot;</td><td>118.0</td><td>&quot;float32&quot;</td><td>&quot;(512,)&quot;</td><td>118.0</td><td>&quot;string&quot;</td><td>&quot;()&quot;</td><td>118.0</td><td>&quot;float32&quot;</td><td>&quot;(15,)&quot;</td><td>118.0</td><td>&quot;float32&quot;</td><td>&quot;()&quot;</td><td>118.0</td></tr><tr><td>4</td><td>true</td><td>&quot;float32&quot;</td><td>&quot;()&quot;</td><td>84.0</td><td>&quot;float32&quot;</td><td>&quot;(3,)&quot;</td><td>84.0</td><td>&quot;float32&quot;</td><td>&quot;()&quot;</td><td>84.0</td><td>&quot;float32&quot;</td><td>&quot;(3,)&quot;</td><td>84.0</td><td>&quot;bool&quot;</td><td>&quot;()&quot;</td><td>84.0</td><td>&quot;bool&quot;</td><td>&quot;()&quot;</td><td>84.0</td><td>&quot;bool&quot;</td><td>&quot;()&quot;</td><td>84.0</td><td>&quot;uint8&quot;</td><td>&quot;(480, 640, 3)&quot;</td><td>84.0</td><td>&quot;uint8&quot;</td><td>&quot;(480, 640, 3)&quot;</td><td>84.0</td><td>&quot;float32&quot;</td><td>&quot;(480, 640, 1)&quot;</td><td>84.0</td><td>&quot;float32&quot;</td><td>&quot;(512,)&quot;</td><td>84.0</td><td>&quot;string&quot;</td><td>&quot;()&quot;</td><td>84.0</td><td>&quot;float32&quot;</td><td>&quot;(15,)&quot;</td><td>84.0</td><td>&quot;float32&quot;</td><td>&quot;()&quot;</td><td>84.0</td></tr><tr><td>&hellip;</td><td>&hellip;</td><td>&hellip;</td><td>&hellip;</td><td>&hellip;</td><td>&hellip;</td><td>&hellip;</td><td>&hellip;</td><td>&hellip;</td><td>&hellip;</td><td>&hellip;</td><td>&hellip;</td><td>&hellip;</td><td>&hellip;</td><td>&hellip;</td><td>&hellip;</td><td>&hellip;</td><td>&hellip;</td><td>&hellip;</td><td>&hellip;</td><td>&hellip;</td><td>&hellip;</td><td>&hellip;</td><td>&hellip;</td><td>&hellip;</td><td>&hellip;</td><td>&hellip;</td><td>&hellip;</td><td>&hellip;</td><td>&hellip;</td><td>&hellip;</td><td>&hellip;</td><td>&hellip;</td><td>&hellip;</td><td>&hellip;</td><td>&hellip;</td><td>&hellip;</td><td>&hellip;</td><td>&hellip;</td><td>&hellip;</td><td>&hellip;</td><td>&hellip;</td><td>&hellip;</td><td>&hellip;</td></tr><tr><td>7</td><td>true</td><td>&quot;float32&quot;</td><td>&quot;()&quot;</td><td>103.0</td><td>&quot;float32&quot;</td><td>&quot;(3,)&quot;</td><td>103.0</td><td>&quot;float32&quot;</td><td>&quot;()&quot;</td><td>103.0</td><td>&quot;float32&quot;</td><td>&quot;(3,)&quot;</td><td>103.0</td><td>&quot;bool&quot;</td><td>&quot;()&quot;</td><td>103.0</td><td>&quot;bool&quot;</td><td>&quot;()&quot;</td><td>103.0</td><td>&quot;bool&quot;</td><td>&quot;()&quot;</td><td>103.0</td><td>&quot;uint8&quot;</td><td>&quot;(480, 640, 3)&quot;</td><td>103.0</td><td>&quot;uint8&quot;</td><td>&quot;(480, 640, 3)&quot;</td><td>103.0</td><td>&quot;float32&quot;</td><td>&quot;(480, 640, 1)&quot;</td><td>103.0</td><td>&quot;float32&quot;</td><td>&quot;(512,)&quot;</td><td>103.0</td><td>&quot;string&quot;</td><td>&quot;()&quot;</td><td>103.0</td><td>&quot;float32&quot;</td><td>&quot;(15,)&quot;</td><td>103.0</td><td>&quot;float32&quot;</td><td>&quot;()&quot;</td><td>103.0</td></tr><tr><td>8</td><td>true</td><td>&quot;float32&quot;</td><td>&quot;()&quot;</td><td>110.0</td><td>&quot;float32&quot;</td><td>&quot;(3,)&quot;</td><td>110.0</td><td>&quot;float32&quot;</td><td>&quot;()&quot;</td><td>110.0</td><td>&quot;float32&quot;</td><td>&quot;(3,)&quot;</td><td>110.0</td><td>&quot;bool&quot;</td><td>&quot;()&quot;</td><td>110.0</td><td>&quot;bool&quot;</td><td>&quot;()&quot;</td><td>110.0</td><td>&quot;bool&quot;</td><td>&quot;()&quot;</td><td>110.0</td><td>&quot;uint8&quot;</td><td>&quot;(480, 640, 3)&quot;</td><td>110.0</td><td>&quot;uint8&quot;</td><td>&quot;(480, 640, 3)&quot;</td><td>110.0</td><td>&quot;float32&quot;</td><td>&quot;(480, 640, 1)&quot;</td><td>110.0</td><td>&quot;float32&quot;</td><td>&quot;(512,)&quot;</td><td>110.0</td><td>&quot;string&quot;</td><td>&quot;()&quot;</td><td>110.0</td><td>&quot;float32&quot;</td><td>&quot;(15,)&quot;</td><td>110.0</td><td>&quot;float32&quot;</td><td>&quot;()&quot;</td><td>110.0</td></tr><tr><td>9</td><td>true</td><td>&quot;float32&quot;</td><td>&quot;()&quot;</td><td>118.0</td><td>&quot;float32&quot;</td><td>&quot;(3,)&quot;</td><td>118.0</td><td>&quot;float32&quot;</td><td>&quot;()&quot;</td><td>118.0</td><td>&quot;float32&quot;</td><td>&quot;(3,)&quot;</td><td>118.0</td><td>&quot;bool&quot;</td><td>&quot;()&quot;</td><td>118.0</td><td>&quot;bool&quot;</td><td>&quot;()&quot;</td><td>118.0</td><td>&quot;bool&quot;</td><td>&quot;()&quot;</td><td>118.0</td><td>&quot;uint8&quot;</td><td>&quot;(480, 640, 3)&quot;</td><td>118.0</td><td>&quot;uint8&quot;</td><td>&quot;(480, 640, 3)&quot;</td><td>118.0</td><td>&quot;float32&quot;</td><td>&quot;(480, 640, 1)&quot;</td><td>118.0</td><td>&quot;float32&quot;</td><td>&quot;(512,)&quot;</td><td>118.0</td><td>&quot;string&quot;</td><td>&quot;()&quot;</td><td>118.0</td><td>&quot;float32&quot;</td><td>&quot;(15,)&quot;</td><td>118.0</td><td>&quot;float32&quot;</td><td>&quot;()&quot;</td><td>118.0</td></tr><tr><td>10</td><td>true</td><td>&quot;float32&quot;</td><td>&quot;()&quot;</td><td>84.0</td><td>&quot;float32&quot;</td><td>&quot;(3,)&quot;</td><td>84.0</td><td>&quot;float32&quot;</td><td>&quot;()&quot;</td><td>84.0</td><td>&quot;float32&quot;</td><td>&quot;(3,)&quot;</td><td>84.0</td><td>&quot;bool&quot;</td><td>&quot;()&quot;</td><td>84.0</td><td>&quot;bool&quot;</td><td>&quot;()&quot;</td><td>84.0</td><td>&quot;bool&quot;</td><td>&quot;()&quot;</td><td>84.0</td><td>&quot;uint8&quot;</td><td>&quot;(480, 640, 3)&quot;</td><td>84.0</td><td>&quot;uint8&quot;</td><td>&quot;(480, 640, 3)&quot;</td><td>84.0</td><td>&quot;float32&quot;</td><td>&quot;(480, 640, 1)&quot;</td><td>84.0</td><td>&quot;float32&quot;</td><td>&quot;(512,)&quot;</td><td>84.0</td><td>&quot;string&quot;</td><td>&quot;()&quot;</td><td>84.0</td><td>&quot;float32&quot;</td><td>&quot;(15,)&quot;</td><td>84.0</td><td>&quot;float32&quot;</td><td>&quot;()&quot;</td><td>84.0</td></tr><tr><td>11</td><td>true</td><td>&quot;float32&quot;</td><td>&quot;()&quot;</td><td>97.0</td><td>&quot;float32&quot;</td><td>&quot;(3,)&quot;</td><td>97.0</td><td>&quot;float32&quot;</td><td>&quot;()&quot;</td><td>97.0</td><td>&quot;float32&quot;</td><td>&quot;(3,)&quot;</td><td>97.0</td><td>&quot;bool&quot;</td><td>&quot;()&quot;</td><td>97.0</td><td>&quot;bool&quot;</td><td>&quot;()&quot;</td><td>97.0</td><td>&quot;bool&quot;</td><td>&quot;()&quot;</td><td>97.0</td><td>&quot;uint8&quot;</td><td>&quot;(480, 640, 3)&quot;</td><td>97.0</td><td>&quot;uint8&quot;</td><td>&quot;(480, 640, 3)&quot;</td><td>97.0</td><td>&quot;float32&quot;</td><td>&quot;(480, 640, 1)&quot;</td><td>97.0</td><td>&quot;float32&quot;</td><td>&quot;(512,)&quot;</td><td>97.0</td><td>&quot;string&quot;</td><td>&quot;()&quot;</td><td>97.0</td><td>&quot;float32&quot;</td><td>&quot;(15,)&quot;</td><td>97.0</td><td>&quot;float32&quot;</td><td>&quot;()&quot;</td><td>97.0</td></tr></tbody></table></div>"
            ],
            "text/plain": [
              "shape: (12, 44)\n",
              "┌───────────┬──────────┬───────────┬───────────┬───┬───────────┬───────────┬───────────┬───────────┐\n",
              "│ episode_i ┆ Finished ┆ feature_g ┆ feature_g ┆ … ┆ robot_sta ┆ feature_r ┆ feature_r ┆ reward_co │\n",
              "│ d         ┆ ---      ┆ ripper_cl ┆ ripper_cl ┆   ┆ te_count  ┆ eward_typ ┆ eward_sha ┆ unt       │\n",
              "│ ---       ┆ bool     ┆ osedness_ ┆ osedness_ ┆   ┆ ---       ┆ e         ┆ pe        ┆ ---       │\n",
              "│ i64       ┆          ┆ actio…    ┆ actio…    ┆   ┆ f64       ┆ ---       ┆ ---       ┆ f64       │\n",
              "│           ┆          ┆ ---       ┆ ---       ┆   ┆           ┆ str       ┆ str       ┆           │\n",
              "│           ┆          ┆ str       ┆ str       ┆   ┆           ┆           ┆           ┆           │\n",
              "╞═══════════╪══════════╪═══════════╪═══════════╪═══╪═══════════╪═══════════╪═══════════╪═══════════╡\n",
              "│ 0         ┆ true     ┆ float32   ┆ ()        ┆ … ┆ 123.0     ┆ float32   ┆ ()        ┆ 123.0     │\n",
              "│ 1         ┆ true     ┆ float32   ┆ ()        ┆ … ┆ 103.0     ┆ float32   ┆ ()        ┆ 103.0     │\n",
              "│ 2         ┆ true     ┆ float32   ┆ ()        ┆ … ┆ 110.0     ┆ float32   ┆ ()        ┆ 110.0     │\n",
              "│ 3         ┆ true     ┆ float32   ┆ ()        ┆ … ┆ 118.0     ┆ float32   ┆ ()        ┆ 118.0     │\n",
              "│ 4         ┆ true     ┆ float32   ┆ ()        ┆ … ┆ 84.0      ┆ float32   ┆ ()        ┆ 84.0      │\n",
              "│ …         ┆ …        ┆ …         ┆ …         ┆ … ┆ …         ┆ …         ┆ …         ┆ …         │\n",
              "│ 7         ┆ true     ┆ float32   ┆ ()        ┆ … ┆ 103.0     ┆ float32   ┆ ()        ┆ 103.0     │\n",
              "│ 8         ┆ true     ┆ float32   ┆ ()        ┆ … ┆ 110.0     ┆ float32   ┆ ()        ┆ 110.0     │\n",
              "│ 9         ┆ true     ┆ float32   ┆ ()        ┆ … ┆ 118.0     ┆ float32   ┆ ()        ┆ 118.0     │\n",
              "│ 10        ┆ true     ┆ float32   ┆ ()        ┆ … ┆ 84.0      ┆ float32   ┆ ()        ┆ 84.0      │\n",
              "│ 11        ┆ true     ┆ float32   ┆ ()        ┆ … ┆ 97.0      ┆ float32   ┆ ()        ┆ 97.0      │\n",
              "└───────────┴──────────┴───────────┴───────────┴───┴───────────┴───────────┴───────────┴───────────┘"
            ]
          },
          "execution_count": 7,
          "metadata": {},
          "output_type": "execute_result"
        }
      ],
      "source": [
        "# metadata\n",
        "trajectory_metadata = dataset2.get_episode_info()\n",
        "trajectory_metadata"
      ]
    },
    {
      "cell_type": "markdown",
      "metadata": {
        "id": "cB7QVbp6i-Mx"
      },
      "source": [
        "# Google Cloud Platform"
      ]
    },
    {
      "cell_type": "markdown",
      "metadata": {
        "id": "8MIV3MZUjNta"
      },
      "source": [
        "Register google cloud credentials\n",
        "\n",
        "Alternative in non-colab environment, run following command instead:\n",
        "```\n",
        "gcloud auth application-default login   --quiet --no-launch-browser\n",
        "```\n"
      ]
    },
    {
      "cell_type": "code",
      "execution_count": null,
      "metadata": {
        "colab": {
          "base_uri": "https://localhost:8080/"
        },
        "id": "ryd_To6LL3nX",
        "outputId": "d571dfd9-6ffc-4847-e5d2-a455359eefd6"
      },
      "outputs": [],
      "source": [
        "from google.colab import auth\n",
        "PROJECT_ID = \"canvas-rampart-342500\"\n",
        "auth.authenticate_user(project_id=PROJECT_ID)"
      ]
    },
    {
      "cell_type": "code",
      "execution_count": null,
      "metadata": {
        "colab": {
          "base_uri": "https://localhost:8080/"
        },
        "id": "fYM3ExvGL3z7",
        "outputId": "721e97ca-0a90-4e85-af14-3503eb62dc06"
      },
      "outputs": [],
      "source": [
        "! gcloud storage buckets create gs://fog_rtx_test  --location=us-east1"
      ]
    },
    {
      "cell_type": "code",
      "execution_count": null,
      "metadata": {
        "id": "pd94S4VlL32u"
      },
      "outputs": [],
      "source": [
        "dataset = fog_x.dataset.Dataset(\n",
        "    name=\"demo_ds\",\n",
        "    path='gs://fog_rtx_test/',\n",
        ")"
      ]
    },
    {
      "cell_type": "markdown",
      "metadata": {
        "id": "P2RCUMs6knNc"
      },
      "source": [
        "### Known issues\n",
        "\n",
        "1. `export` as rlds format to the cloud directly does not work yet for S3 (known issue for tensorflow Gfile)\n",
        "2. (will fix) automatically check the existence"
      ]
    }
  ],
  "metadata": {
    "colab": {
      "provenance": []
    },
    "kernelspec": {
      "display_name": "Python 3",
      "name": "python3"
    },
    "language_info": {
      "codemirror_mode": {
        "name": "ipython",
        "version": 3
      },
      "file_extension": ".py",
      "mimetype": "text/x-python",
      "name": "python",
      "nbconvert_exporter": "python",
      "pygments_lexer": "ipython3",
      "version": "3.10.12"
    }
  },
  "nbformat": 4,
  "nbformat_minor": 0
}
