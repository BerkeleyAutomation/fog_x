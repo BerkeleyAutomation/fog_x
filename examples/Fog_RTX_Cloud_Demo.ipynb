{
  "nbformat": 4,
  "nbformat_minor": 0,
  "metadata": {
    "colab": {
      "provenance": []
    },
    "kernelspec": {
      "name": "python3",
      "display_name": "Python 3"
    },
    "language_info": {
      "name": "python"
    }
  },
  "cells": [
    {
      "cell_type": "markdown",
      "source": [
        "# Fog-RTX Work With Cloud\n",
        "FogRTX supports a wide range of cloud service providers.\n",
        "\n",
        "### AWS"
      ],
      "metadata": {
        "id": "upgVMgpfdSCk"
      }
    },
    {
      "cell_type": "code",
      "execution_count": null,
      "metadata": {
        "id": "ex7qQ3klf2_y"
      },
      "outputs": [],
      "source": [
        "! git clone https://github.com/KeplerC/fog_x.git\n",
        "! cd fog_x && git checkout cloud && pip install ."
      ]
    },
    {
      "cell_type": "markdown",
      "source": [
        "Install required AWS dependency and configure with your aws credential"
      ],
      "metadata": {
        "id": "TbCXBT0rdgR7"
      }
    },
    {
      "cell_type": "code",
      "source": [
        "! curl \"https://awscli.amazonaws.com/awscli-exe-linux-x86_64.zip\" -o \"awscliv2.zip\"\n",
        "! unzip awscliv2.zip\n",
        "! sudo ./aws/install\n",
        "! aws configure"
      ],
      "metadata": {
        "id": "k4Q0PXALS0Ol"
      },
      "execution_count": null,
      "outputs": []
    },
    {
      "cell_type": "code",
      "source": [
        "# create an AWS bucket named fog-rtx-test-east-1 (anything you want)\n",
        "!aws s3api create-bucket --bucket fog-rtx-test-east-1 --region us-east-1"
      ],
      "metadata": {
        "id": "r-VhhYFBdqit"
      },
      "execution_count": null,
      "outputs": []
    },
    {
      "cell_type": "markdown",
      "source": [
        "Fog-RTX can load from the existing bucket, and add more to it!"
      ],
      "metadata": {
        "id": "ZesCYo2udsei"
      }
    },
    {
      "cell_type": "code",
      "source": [
        "import fog_x\n",
        "\n",
        "dataset = fog_x.dataset.Dataset(\n",
        "    name=\"demo_ds\",\n",
        "    path='s3://fog-rtx-test-east-1',\n",
        ")"
      ],
      "metadata": {
        "colab": {
          "base_uri": "https://localhost:8080/"
        },
        "id": "Il5tj-i1f8bG",
        "outputId": "401bee3b-0807-4a01-e6e8-30a8f9756b48"
      },
      "execution_count": 8,
      "outputs": [
        {
          "output_type": "stream",
          "name": "stderr",
          "text": [
            "INFO:fog_x.database.polars_connector:Prepare to load table demo_ds loaded from s3://fog-rtx-test-east-1//demo_ds.parquet.\n",
            "INFO:fog_x.database.polars_connector:Table demo_ds loaded from s3://fog-rtx-test-east-1//demo_ds.parquet.\n"
          ]
        }
      ]
    },
    {
      "cell_type": "markdown",
      "source": [
        "read from exisitng AWS stored dataset"
      ],
      "metadata": {
        "id": "TArD9Frhd_U8"
      }
    },
    {
      "cell_type": "code",
      "source": [
        "dataset.get_episode_info()"
      ],
      "metadata": {
        "colab": {
          "base_uri": "https://localhost:8080/",
          "height": 244
        },
        "id": "oLMT8ioUd6Km",
        "outputId": "c821cf86-2b3e-4d6a-9b3b-71887e9a8b6f"
      },
      "execution_count": 9,
      "outputs": [
        {
          "output_type": "execute_result",
          "data": {
            "text/plain": [
              "shape: (4, 44)\n",
              "┌───────────┬──────────┬───────────┬───────────┬───┬───────────┬───────────┬───────────┬───────────┐\n",
              "│ episode_i ┆ Finished ┆ feature_g ┆ feature_g ┆ … ┆ robot_sta ┆ feature_r ┆ feature_r ┆ reward_co │\n",
              "│ d         ┆ ---      ┆ ripper_cl ┆ ripper_cl ┆   ┆ te_count  ┆ eward_typ ┆ eward_sha ┆ unt       │\n",
              "│ ---       ┆ bool     ┆ osedness_ ┆ osedness_ ┆   ┆ ---       ┆ e         ┆ pe        ┆ ---       │\n",
              "│ i64       ┆          ┆ actio…    ┆ actio…    ┆   ┆ f64       ┆ ---       ┆ ---       ┆ f64       │\n",
              "│           ┆          ┆ ---       ┆ ---       ┆   ┆           ┆ str       ┆ str       ┆           │\n",
              "│           ┆          ┆ str       ┆ str       ┆   ┆           ┆           ┆           ┆           │\n",
              "╞═══════════╪══════════╪═══════════╪═══════════╪═══╪═══════════╪═══════════╪═══════════╪═══════════╡\n",
              "│ 0         ┆ true     ┆ float32   ┆ ()        ┆ … ┆ 71.0      ┆ float32   ┆ ()        ┆ 71.0      │\n",
              "│ 1         ┆ true     ┆ float32   ┆ ()        ┆ … ┆ 76.0      ┆ float32   ┆ ()        ┆ 76.0      │\n",
              "│ 2         ┆ true     ┆ float32   ┆ ()        ┆ … ┆ 71.0      ┆ float32   ┆ ()        ┆ 71.0      │\n",
              "│ 3         ┆ true     ┆ float32   ┆ ()        ┆ … ┆ 76.0      ┆ float32   ┆ ()        ┆ 76.0      │\n",
              "└───────────┴──────────┴───────────┴───────────┴───┴───────────┴───────────┴───────────┴───────────┘"
            ],
            "text/html": [
              "<div><style>\n",
              ".dataframe > thead > tr,\n",
              ".dataframe > tbody > tr {\n",
              "  text-align: right;\n",
              "  white-space: pre-wrap;\n",
              "}\n",
              "</style>\n",
              "<small>shape: (4, 44)</small><table border=\"1\" class=\"dataframe\"><thead><tr><th>episode_id</th><th>Finished</th><th>feature_gripper_closedness_action_type</th><th>feature_gripper_closedness_action_shape</th><th>gripper_closedness_action_count</th><th>feature_rotation_delta_type</th><th>feature_rotation_delta_shape</th><th>rotation_delta_count</th><th>feature_terminate_episode_type</th><th>feature_terminate_episode_shape</th><th>terminate_episode_count</th><th>feature_world_vector_type</th><th>feature_world_vector_shape</th><th>world_vector_count</th><th>feature_is_first_type</th><th>feature_is_first_shape</th><th>is_first_count</th><th>feature_is_last_type</th><th>feature_is_last_shape</th><th>is_last_count</th><th>feature_is_terminal_type</th><th>feature_is_terminal_shape</th><th>is_terminal_count</th><th>feature_hand_image_type</th><th>feature_hand_image_shape</th><th>hand_image_count</th><th>feature_image_type</th><th>feature_image_shape</th><th>image_count</th><th>feature_image_with_depth_type</th><th>feature_image_with_depth_shape</th><th>image_with_depth_count</th><th>feature_natural_language_embedding_type</th><th>feature_natural_language_embedding_shape</th><th>natural_language_embedding_count</th><th>feature_natural_language_instruction_type</th><th>feature_natural_language_instruction_shape</th><th>natural_language_instruction_count</th><th>feature_robot_state_type</th><th>feature_robot_state_shape</th><th>robot_state_count</th><th>feature_reward_type</th><th>feature_reward_shape</th><th>reward_count</th></tr><tr><td>i64</td><td>bool</td><td>str</td><td>str</td><td>f64</td><td>str</td><td>str</td><td>f64</td><td>str</td><td>str</td><td>f64</td><td>str</td><td>str</td><td>f64</td><td>str</td><td>str</td><td>f64</td><td>str</td><td>str</td><td>f64</td><td>str</td><td>str</td><td>f64</td><td>str</td><td>str</td><td>f64</td><td>str</td><td>str</td><td>f64</td><td>str</td><td>str</td><td>f64</td><td>str</td><td>str</td><td>f64</td><td>str</td><td>str</td><td>f64</td><td>str</td><td>str</td><td>f64</td><td>str</td><td>str</td><td>f64</td></tr></thead><tbody><tr><td>0</td><td>true</td><td>&quot;float32&quot;</td><td>&quot;()&quot;</td><td>71.0</td><td>&quot;float32&quot;</td><td>&quot;(3,)&quot;</td><td>71.0</td><td>&quot;float32&quot;</td><td>&quot;()&quot;</td><td>71.0</td><td>&quot;float32&quot;</td><td>&quot;(3,)&quot;</td><td>71.0</td><td>&quot;bool&quot;</td><td>&quot;()&quot;</td><td>71.0</td><td>&quot;bool&quot;</td><td>&quot;()&quot;</td><td>71.0</td><td>&quot;bool&quot;</td><td>&quot;()&quot;</td><td>71.0</td><td>&quot;uint8&quot;</td><td>&quot;(480, 640, 3)&quot;</td><td>71.0</td><td>&quot;uint8&quot;</td><td>&quot;(480, 640, 3)&quot;</td><td>71.0</td><td>&quot;float32&quot;</td><td>&quot;(480, 640, 1)&quot;</td><td>71.0</td><td>&quot;float32&quot;</td><td>&quot;(512,)&quot;</td><td>71.0</td><td>&quot;string&quot;</td><td>&quot;()&quot;</td><td>71.0</td><td>&quot;float32&quot;</td><td>&quot;(15,)&quot;</td><td>71.0</td><td>&quot;float32&quot;</td><td>&quot;()&quot;</td><td>71.0</td></tr><tr><td>1</td><td>true</td><td>&quot;float32&quot;</td><td>&quot;()&quot;</td><td>76.0</td><td>&quot;float32&quot;</td><td>&quot;(3,)&quot;</td><td>76.0</td><td>&quot;float32&quot;</td><td>&quot;()&quot;</td><td>76.0</td><td>&quot;float32&quot;</td><td>&quot;(3,)&quot;</td><td>76.0</td><td>&quot;bool&quot;</td><td>&quot;()&quot;</td><td>76.0</td><td>&quot;bool&quot;</td><td>&quot;()&quot;</td><td>76.0</td><td>&quot;bool&quot;</td><td>&quot;()&quot;</td><td>76.0</td><td>&quot;uint8&quot;</td><td>&quot;(480, 640, 3)&quot;</td><td>76.0</td><td>&quot;uint8&quot;</td><td>&quot;(480, 640, 3)&quot;</td><td>76.0</td><td>&quot;float32&quot;</td><td>&quot;(480, 640, 1)&quot;</td><td>76.0</td><td>&quot;float32&quot;</td><td>&quot;(512,)&quot;</td><td>76.0</td><td>&quot;string&quot;</td><td>&quot;()&quot;</td><td>76.0</td><td>&quot;float32&quot;</td><td>&quot;(15,)&quot;</td><td>76.0</td><td>&quot;float32&quot;</td><td>&quot;()&quot;</td><td>76.0</td></tr><tr><td>2</td><td>true</td><td>&quot;float32&quot;</td><td>&quot;()&quot;</td><td>71.0</td><td>&quot;float32&quot;</td><td>&quot;(3,)&quot;</td><td>71.0</td><td>&quot;float32&quot;</td><td>&quot;()&quot;</td><td>71.0</td><td>&quot;float32&quot;</td><td>&quot;(3,)&quot;</td><td>71.0</td><td>&quot;bool&quot;</td><td>&quot;()&quot;</td><td>71.0</td><td>&quot;bool&quot;</td><td>&quot;()&quot;</td><td>71.0</td><td>&quot;bool&quot;</td><td>&quot;()&quot;</td><td>71.0</td><td>&quot;uint8&quot;</td><td>&quot;(480, 640, 3)&quot;</td><td>71.0</td><td>&quot;uint8&quot;</td><td>&quot;(480, 640, 3)&quot;</td><td>71.0</td><td>&quot;float32&quot;</td><td>&quot;(480, 640, 1)&quot;</td><td>71.0</td><td>&quot;float32&quot;</td><td>&quot;(512,)&quot;</td><td>71.0</td><td>&quot;string&quot;</td><td>&quot;()&quot;</td><td>71.0</td><td>&quot;float32&quot;</td><td>&quot;(15,)&quot;</td><td>71.0</td><td>&quot;float32&quot;</td><td>&quot;()&quot;</td><td>71.0</td></tr><tr><td>3</td><td>true</td><td>&quot;float32&quot;</td><td>&quot;()&quot;</td><td>76.0</td><td>&quot;float32&quot;</td><td>&quot;(3,)&quot;</td><td>76.0</td><td>&quot;float32&quot;</td><td>&quot;()&quot;</td><td>76.0</td><td>&quot;float32&quot;</td><td>&quot;(3,)&quot;</td><td>76.0</td><td>&quot;bool&quot;</td><td>&quot;()&quot;</td><td>76.0</td><td>&quot;bool&quot;</td><td>&quot;()&quot;</td><td>76.0</td><td>&quot;bool&quot;</td><td>&quot;()&quot;</td><td>76.0</td><td>&quot;uint8&quot;</td><td>&quot;(480, 640, 3)&quot;</td><td>76.0</td><td>&quot;uint8&quot;</td><td>&quot;(480, 640, 3)&quot;</td><td>76.0</td><td>&quot;float32&quot;</td><td>&quot;(480, 640, 1)&quot;</td><td>76.0</td><td>&quot;float32&quot;</td><td>&quot;(512,)&quot;</td><td>76.0</td><td>&quot;string&quot;</td><td>&quot;()&quot;</td><td>76.0</td><td>&quot;float32&quot;</td><td>&quot;(15,)&quot;</td><td>76.0</td><td>&quot;float32&quot;</td><td>&quot;()&quot;</td><td>76.0</td></tr></tbody></table></div>"
            ]
          },
          "metadata": {},
          "execution_count": 9
        }
      ]
    },
    {
      "cell_type": "markdown",
      "source": [
        "add more to the stored dataset"
      ],
      "metadata": {
        "id": "mul7xRzFeDRt"
      }
    },
    {
      "cell_type": "code",
      "source": [
        "dataset.load_rtx_episodes(\n",
        "    name=\"berkeley_autolab_ur5\",\n",
        "    split=\"train[4:10]\",\n",
        ")"
      ],
      "metadata": {
        "colab": {
          "base_uri": "https://localhost:8080/"
        },
        "id": "ivIyifc4f9ih",
        "outputId": "daef546e-c378-45a1-87eb-562d0f92c8f0"
      },
      "execution_count": 10,
      "outputs": [
        {
          "output_type": "stream",
          "name": "stderr",
          "text": [
            "INFO:absl:Load dataset info from gs://gresearch/robotics/berkeley_autolab_ur5/0.1.0\n",
            "INFO:absl:Creating a tf.data.Dataset reading 4 files located in folders: gs://gresearch/robotics/berkeley_autolab_ur5/0.1.0.\n",
            "INFO:absl:Constructing tf.data.Dataset berkeley_autolab_ur5 for split train[4:10], from gs://gresearch/robotics/berkeley_autolab_ur5/0.1.0\n",
            "INFO:fog_x.dataset:{'steps': <_VariantDataset element_spec={'action': {'gripper_closedness_action': TensorSpec(shape=(), dtype=tf.float32, name=None), 'rotation_delta': TensorSpec(shape=(3,), dtype=tf.float32, name=None), 'terminate_episode': TensorSpec(shape=(), dtype=tf.float32, name=None), 'world_vector': TensorSpec(shape=(3,), dtype=tf.float32, name=None)}, 'is_first': TensorSpec(shape=(), dtype=tf.bool, name=None), 'is_last': TensorSpec(shape=(), dtype=tf.bool, name=None), 'is_terminal': TensorSpec(shape=(), dtype=tf.bool, name=None), 'observation': {'hand_image': TensorSpec(shape=(480, 640, 3), dtype=tf.uint8, name=None), 'image': TensorSpec(shape=(480, 640, 3), dtype=tf.uint8, name=None), 'image_with_depth': TensorSpec(shape=(480, 640, 1), dtype=tf.float32, name=None), 'natural_language_embedding': TensorSpec(shape=(512,), dtype=tf.float32, name=None), 'natural_language_instruction': TensorSpec(shape=(), dtype=tf.string, name=None), 'robot_state': TensorSpec(shape=(15,), dtype=tf.float32, name=None)}, 'reward': TensorSpec(shape=(), dtype=tf.float32, name=None)}>}\n",
            "INFO:fog_x.database.db_manager:Closing the episode with metadata {'Finished': True, 'gripper_closedness_action_count': 76, 'rotation_delta_count': 76, 'terminate_episode_count': 76, 'world_vector_count': 76, 'is_first_count': 76, 'is_last_count': 76, 'is_terminal_count': 76, 'hand_image_count': 76, 'image_count': 76, 'image_with_depth_count': 76, 'natural_language_embedding_count': 76, 'natural_language_instruction_count': 76, 'robot_state_count': 76, 'reward_count': 76}\n",
            "INFO:fog_x.dataset:{'steps': <_VariantDataset element_spec={'action': {'gripper_closedness_action': TensorSpec(shape=(), dtype=tf.float32, name=None), 'rotation_delta': TensorSpec(shape=(3,), dtype=tf.float32, name=None), 'terminate_episode': TensorSpec(shape=(), dtype=tf.float32, name=None), 'world_vector': TensorSpec(shape=(3,), dtype=tf.float32, name=None)}, 'is_first': TensorSpec(shape=(), dtype=tf.bool, name=None), 'is_last': TensorSpec(shape=(), dtype=tf.bool, name=None), 'is_terminal': TensorSpec(shape=(), dtype=tf.bool, name=None), 'observation': {'hand_image': TensorSpec(shape=(480, 640, 3), dtype=tf.uint8, name=None), 'image': TensorSpec(shape=(480, 640, 3), dtype=tf.uint8, name=None), 'image_with_depth': TensorSpec(shape=(480, 640, 1), dtype=tf.float32, name=None), 'natural_language_embedding': TensorSpec(shape=(512,), dtype=tf.float32, name=None), 'natural_language_instruction': TensorSpec(shape=(), dtype=tf.string, name=None), 'robot_state': TensorSpec(shape=(15,), dtype=tf.float32, name=None)}, 'reward': TensorSpec(shape=(), dtype=tf.float32, name=None)}>}\n",
            "INFO:fog_x.database.db_manager:Closing the episode with metadata {'Finished': True, 'gripper_closedness_action_count': 123, 'rotation_delta_count': 123, 'terminate_episode_count': 123, 'world_vector_count': 123, 'is_first_count': 123, 'is_last_count': 123, 'is_terminal_count': 123, 'hand_image_count': 123, 'image_count': 123, 'image_with_depth_count': 123, 'natural_language_embedding_count': 123, 'natural_language_instruction_count': 123, 'robot_state_count': 123, 'reward_count': 123}\n",
            "INFO:fog_x.dataset:{'steps': <_VariantDataset element_spec={'action': {'gripper_closedness_action': TensorSpec(shape=(), dtype=tf.float32, name=None), 'rotation_delta': TensorSpec(shape=(3,), dtype=tf.float32, name=None), 'terminate_episode': TensorSpec(shape=(), dtype=tf.float32, name=None), 'world_vector': TensorSpec(shape=(3,), dtype=tf.float32, name=None)}, 'is_first': TensorSpec(shape=(), dtype=tf.bool, name=None), 'is_last': TensorSpec(shape=(), dtype=tf.bool, name=None), 'is_terminal': TensorSpec(shape=(), dtype=tf.bool, name=None), 'observation': {'hand_image': TensorSpec(shape=(480, 640, 3), dtype=tf.uint8, name=None), 'image': TensorSpec(shape=(480, 640, 3), dtype=tf.uint8, name=None), 'image_with_depth': TensorSpec(shape=(480, 640, 1), dtype=tf.float32, name=None), 'natural_language_embedding': TensorSpec(shape=(512,), dtype=tf.float32, name=None), 'natural_language_instruction': TensorSpec(shape=(), dtype=tf.string, name=None), 'robot_state': TensorSpec(shape=(15,), dtype=tf.float32, name=None)}, 'reward': TensorSpec(shape=(), dtype=tf.float32, name=None)}>}\n",
            "INFO:fog_x.database.db_manager:Closing the episode with metadata {'Finished': True, 'gripper_closedness_action_count': 103, 'rotation_delta_count': 103, 'terminate_episode_count': 103, 'world_vector_count': 103, 'is_first_count': 103, 'is_last_count': 103, 'is_terminal_count': 103, 'hand_image_count': 103, 'image_count': 103, 'image_with_depth_count': 103, 'natural_language_embedding_count': 103, 'natural_language_instruction_count': 103, 'robot_state_count': 103, 'reward_count': 103}\n",
            "INFO:fog_x.dataset:{'steps': <_VariantDataset element_spec={'action': {'gripper_closedness_action': TensorSpec(shape=(), dtype=tf.float32, name=None), 'rotation_delta': TensorSpec(shape=(3,), dtype=tf.float32, name=None), 'terminate_episode': TensorSpec(shape=(), dtype=tf.float32, name=None), 'world_vector': TensorSpec(shape=(3,), dtype=tf.float32, name=None)}, 'is_first': TensorSpec(shape=(), dtype=tf.bool, name=None), 'is_last': TensorSpec(shape=(), dtype=tf.bool, name=None), 'is_terminal': TensorSpec(shape=(), dtype=tf.bool, name=None), 'observation': {'hand_image': TensorSpec(shape=(480, 640, 3), dtype=tf.uint8, name=None), 'image': TensorSpec(shape=(480, 640, 3), dtype=tf.uint8, name=None), 'image_with_depth': TensorSpec(shape=(480, 640, 1), dtype=tf.float32, name=None), 'natural_language_embedding': TensorSpec(shape=(512,), dtype=tf.float32, name=None), 'natural_language_instruction': TensorSpec(shape=(), dtype=tf.string, name=None), 'robot_state': TensorSpec(shape=(15,), dtype=tf.float32, name=None)}, 'reward': TensorSpec(shape=(), dtype=tf.float32, name=None)}>}\n",
            "INFO:fog_x.database.db_manager:Closing the episode with metadata {'Finished': True, 'gripper_closedness_action_count': 110, 'rotation_delta_count': 110, 'terminate_episode_count': 110, 'world_vector_count': 110, 'is_first_count': 110, 'is_last_count': 110, 'is_terminal_count': 110, 'hand_image_count': 110, 'image_count': 110, 'image_with_depth_count': 110, 'natural_language_embedding_count': 110, 'natural_language_instruction_count': 110, 'robot_state_count': 110, 'reward_count': 110}\n",
            "INFO:fog_x.dataset:{'steps': <_VariantDataset element_spec={'action': {'gripper_closedness_action': TensorSpec(shape=(), dtype=tf.float32, name=None), 'rotation_delta': TensorSpec(shape=(3,), dtype=tf.float32, name=None), 'terminate_episode': TensorSpec(shape=(), dtype=tf.float32, name=None), 'world_vector': TensorSpec(shape=(3,), dtype=tf.float32, name=None)}, 'is_first': TensorSpec(shape=(), dtype=tf.bool, name=None), 'is_last': TensorSpec(shape=(), dtype=tf.bool, name=None), 'is_terminal': TensorSpec(shape=(), dtype=tf.bool, name=None), 'observation': {'hand_image': TensorSpec(shape=(480, 640, 3), dtype=tf.uint8, name=None), 'image': TensorSpec(shape=(480, 640, 3), dtype=tf.uint8, name=None), 'image_with_depth': TensorSpec(shape=(480, 640, 1), dtype=tf.float32, name=None), 'natural_language_embedding': TensorSpec(shape=(512,), dtype=tf.float32, name=None), 'natural_language_instruction': TensorSpec(shape=(), dtype=tf.string, name=None), 'robot_state': TensorSpec(shape=(15,), dtype=tf.float32, name=None)}, 'reward': TensorSpec(shape=(), dtype=tf.float32, name=None)}>}\n",
            "INFO:fog_x.database.db_manager:Closing the episode with metadata {'Finished': True, 'gripper_closedness_action_count': 118, 'rotation_delta_count': 118, 'terminate_episode_count': 118, 'world_vector_count': 118, 'is_first_count': 118, 'is_last_count': 118, 'is_terminal_count': 118, 'hand_image_count': 118, 'image_count': 118, 'image_with_depth_count': 118, 'natural_language_embedding_count': 118, 'natural_language_instruction_count': 118, 'robot_state_count': 118, 'reward_count': 118}\n",
            "INFO:fog_x.dataset:{'steps': <_VariantDataset element_spec={'action': {'gripper_closedness_action': TensorSpec(shape=(), dtype=tf.float32, name=None), 'rotation_delta': TensorSpec(shape=(3,), dtype=tf.float32, name=None), 'terminate_episode': TensorSpec(shape=(), dtype=tf.float32, name=None), 'world_vector': TensorSpec(shape=(3,), dtype=tf.float32, name=None)}, 'is_first': TensorSpec(shape=(), dtype=tf.bool, name=None), 'is_last': TensorSpec(shape=(), dtype=tf.bool, name=None), 'is_terminal': TensorSpec(shape=(), dtype=tf.bool, name=None), 'observation': {'hand_image': TensorSpec(shape=(480, 640, 3), dtype=tf.uint8, name=None), 'image': TensorSpec(shape=(480, 640, 3), dtype=tf.uint8, name=None), 'image_with_depth': TensorSpec(shape=(480, 640, 1), dtype=tf.float32, name=None), 'natural_language_embedding': TensorSpec(shape=(512,), dtype=tf.float32, name=None), 'natural_language_instruction': TensorSpec(shape=(), dtype=tf.string, name=None), 'robot_state': TensorSpec(shape=(15,), dtype=tf.float32, name=None)}, 'reward': TensorSpec(shape=(), dtype=tf.float32, name=None)}>}\n",
            "INFO:fog_x.database.db_manager:Closing the episode with metadata {'Finished': True, 'gripper_closedness_action_count': 84, 'rotation_delta_count': 84, 'terminate_episode_count': 84, 'world_vector_count': 84, 'is_first_count': 84, 'is_last_count': 84, 'is_terminal_count': 84, 'hand_image_count': 84, 'image_count': 84, 'image_with_depth_count': 84, 'natural_language_embedding_count': 84, 'natural_language_instruction_count': 84, 'robot_state_count': 84, 'reward_count': 84}\n"
          ]
        }
      ]
    },
    {
      "cell_type": "markdown",
      "source": [
        "The data is automatically uploaded to the cloud!\n",
        "We can create a separate reader by"
      ],
      "metadata": {
        "id": "mUneci9XeHsE"
      }
    },
    {
      "cell_type": "code",
      "source": [
        "dataset2 = fog_x.dataset.Dataset(\n",
        "    name=\"demo_ds\",\n",
        "    path='s3://fog-rtx-test-east-1',\n",
        ")"
      ],
      "metadata": {
        "colab": {
          "base_uri": "https://localhost:8080/"
        },
        "id": "cQHIKeNAeSrY",
        "outputId": "27379fd0-3a51-401c-e2b3-099bb7356ba6"
      },
      "execution_count": 11,
      "outputs": [
        {
          "output_type": "stream",
          "name": "stderr",
          "text": [
            "INFO:fog_x.database.polars_connector:Prepare to load table demo_ds loaded from s3://fog-rtx-test-east-1//demo_ds.parquet.\n",
            "INFO:fog_x.database.polars_connector:Table demo_ds loaded from s3://fog-rtx-test-east-1//demo_ds.parquet.\n"
          ]
        }
      ]
    },
    {
      "cell_type": "code",
      "source": [
        "# metadata\n",
        "trajectory_metadata = dataset2.get_episode_info()\n",
        "trajectory_metadata"
      ],
      "metadata": {
        "colab": {
          "base_uri": "https://localhost:8080/",
          "height": 432
        },
        "id": "E4slMiSzf-se",
        "outputId": "9053cc4e-c8e2-4a16-c799-84a08712edd9"
      },
      "execution_count": 12,
      "outputs": [
        {
          "output_type": "execute_result",
          "data": {
            "text/plain": [
              "shape: (10, 44)\n",
              "┌───────────┬──────────┬───────────┬───────────┬───┬───────────┬───────────┬───────────┬───────────┐\n",
              "│ episode_i ┆ Finished ┆ feature_g ┆ feature_g ┆ … ┆ robot_sta ┆ feature_r ┆ feature_r ┆ reward_co │\n",
              "│ d         ┆ ---      ┆ ripper_cl ┆ ripper_cl ┆   ┆ te_count  ┆ eward_typ ┆ eward_sha ┆ unt       │\n",
              "│ ---       ┆ bool     ┆ osedness_ ┆ osedness_ ┆   ┆ ---       ┆ e         ┆ pe        ┆ ---       │\n",
              "│ i64       ┆          ┆ actio…    ┆ actio…    ┆   ┆ f64       ┆ ---       ┆ ---       ┆ f64       │\n",
              "│           ┆          ┆ ---       ┆ ---       ┆   ┆           ┆ str       ┆ str       ┆           │\n",
              "│           ┆          ┆ str       ┆ str       ┆   ┆           ┆           ┆           ┆           │\n",
              "╞═══════════╪══════════╪═══════════╪═══════════╪═══╪═══════════╪═══════════╪═══════════╪═══════════╡\n",
              "│ 0         ┆ true     ┆ float32   ┆ ()        ┆ … ┆ 71.0      ┆ float32   ┆ ()        ┆ 71.0      │\n",
              "│ 1         ┆ true     ┆ float32   ┆ ()        ┆ … ┆ 76.0      ┆ float32   ┆ ()        ┆ 76.0      │\n",
              "│ 2         ┆ true     ┆ float32   ┆ ()        ┆ … ┆ 71.0      ┆ float32   ┆ ()        ┆ 71.0      │\n",
              "│ 3         ┆ true     ┆ float32   ┆ ()        ┆ … ┆ 76.0      ┆ float32   ┆ ()        ┆ 76.0      │\n",
              "│ …         ┆ …        ┆ …         ┆ …         ┆ … ┆ …         ┆ …         ┆ …         ┆ …         │\n",
              "│ 6         ┆ true     ┆ float32   ┆ ()        ┆ … ┆ 110.0     ┆ float32   ┆ ()        ┆ 110.0     │\n",
              "│ 7         ┆ true     ┆ float32   ┆ ()        ┆ … ┆ 118.0     ┆ float32   ┆ ()        ┆ 118.0     │\n",
              "│ 8         ┆ true     ┆ float32   ┆ ()        ┆ … ┆ 84.0      ┆ float32   ┆ ()        ┆ 84.0      │\n",
              "│ 9         ┆ true     ┆ float32   ┆ ()        ┆ … ┆ 97.0      ┆ float32   ┆ ()        ┆ 97.0      │\n",
              "└───────────┴──────────┴───────────┴───────────┴───┴───────────┴───────────┴───────────┴───────────┘"
            ],
            "text/html": [
              "<div><style>\n",
              ".dataframe > thead > tr,\n",
              ".dataframe > tbody > tr {\n",
              "  text-align: right;\n",
              "  white-space: pre-wrap;\n",
              "}\n",
              "</style>\n",
              "<small>shape: (10, 44)</small><table border=\"1\" class=\"dataframe\"><thead><tr><th>episode_id</th><th>Finished</th><th>feature_gripper_closedness_action_type</th><th>feature_gripper_closedness_action_shape</th><th>gripper_closedness_action_count</th><th>feature_rotation_delta_type</th><th>feature_rotation_delta_shape</th><th>rotation_delta_count</th><th>feature_terminate_episode_type</th><th>feature_terminate_episode_shape</th><th>terminate_episode_count</th><th>feature_world_vector_type</th><th>feature_world_vector_shape</th><th>world_vector_count</th><th>feature_is_first_type</th><th>feature_is_first_shape</th><th>is_first_count</th><th>feature_is_last_type</th><th>feature_is_last_shape</th><th>is_last_count</th><th>feature_is_terminal_type</th><th>feature_is_terminal_shape</th><th>is_terminal_count</th><th>feature_hand_image_type</th><th>feature_hand_image_shape</th><th>hand_image_count</th><th>feature_image_type</th><th>feature_image_shape</th><th>image_count</th><th>feature_image_with_depth_type</th><th>feature_image_with_depth_shape</th><th>image_with_depth_count</th><th>feature_natural_language_embedding_type</th><th>feature_natural_language_embedding_shape</th><th>natural_language_embedding_count</th><th>feature_natural_language_instruction_type</th><th>feature_natural_language_instruction_shape</th><th>natural_language_instruction_count</th><th>feature_robot_state_type</th><th>feature_robot_state_shape</th><th>robot_state_count</th><th>feature_reward_type</th><th>feature_reward_shape</th><th>reward_count</th></tr><tr><td>i64</td><td>bool</td><td>str</td><td>str</td><td>f64</td><td>str</td><td>str</td><td>f64</td><td>str</td><td>str</td><td>f64</td><td>str</td><td>str</td><td>f64</td><td>str</td><td>str</td><td>f64</td><td>str</td><td>str</td><td>f64</td><td>str</td><td>str</td><td>f64</td><td>str</td><td>str</td><td>f64</td><td>str</td><td>str</td><td>f64</td><td>str</td><td>str</td><td>f64</td><td>str</td><td>str</td><td>f64</td><td>str</td><td>str</td><td>f64</td><td>str</td><td>str</td><td>f64</td><td>str</td><td>str</td><td>f64</td></tr></thead><tbody><tr><td>0</td><td>true</td><td>&quot;float32&quot;</td><td>&quot;()&quot;</td><td>71.0</td><td>&quot;float32&quot;</td><td>&quot;(3,)&quot;</td><td>71.0</td><td>&quot;float32&quot;</td><td>&quot;()&quot;</td><td>71.0</td><td>&quot;float32&quot;</td><td>&quot;(3,)&quot;</td><td>71.0</td><td>&quot;bool&quot;</td><td>&quot;()&quot;</td><td>71.0</td><td>&quot;bool&quot;</td><td>&quot;()&quot;</td><td>71.0</td><td>&quot;bool&quot;</td><td>&quot;()&quot;</td><td>71.0</td><td>&quot;uint8&quot;</td><td>&quot;(480, 640, 3)&quot;</td><td>71.0</td><td>&quot;uint8&quot;</td><td>&quot;(480, 640, 3)&quot;</td><td>71.0</td><td>&quot;float32&quot;</td><td>&quot;(480, 640, 1)&quot;</td><td>71.0</td><td>&quot;float32&quot;</td><td>&quot;(512,)&quot;</td><td>71.0</td><td>&quot;string&quot;</td><td>&quot;()&quot;</td><td>71.0</td><td>&quot;float32&quot;</td><td>&quot;(15,)&quot;</td><td>71.0</td><td>&quot;float32&quot;</td><td>&quot;()&quot;</td><td>71.0</td></tr><tr><td>1</td><td>true</td><td>&quot;float32&quot;</td><td>&quot;()&quot;</td><td>76.0</td><td>&quot;float32&quot;</td><td>&quot;(3,)&quot;</td><td>76.0</td><td>&quot;float32&quot;</td><td>&quot;()&quot;</td><td>76.0</td><td>&quot;float32&quot;</td><td>&quot;(3,)&quot;</td><td>76.0</td><td>&quot;bool&quot;</td><td>&quot;()&quot;</td><td>76.0</td><td>&quot;bool&quot;</td><td>&quot;()&quot;</td><td>76.0</td><td>&quot;bool&quot;</td><td>&quot;()&quot;</td><td>76.0</td><td>&quot;uint8&quot;</td><td>&quot;(480, 640, 3)&quot;</td><td>76.0</td><td>&quot;uint8&quot;</td><td>&quot;(480, 640, 3)&quot;</td><td>76.0</td><td>&quot;float32&quot;</td><td>&quot;(480, 640, 1)&quot;</td><td>76.0</td><td>&quot;float32&quot;</td><td>&quot;(512,)&quot;</td><td>76.0</td><td>&quot;string&quot;</td><td>&quot;()&quot;</td><td>76.0</td><td>&quot;float32&quot;</td><td>&quot;(15,)&quot;</td><td>76.0</td><td>&quot;float32&quot;</td><td>&quot;()&quot;</td><td>76.0</td></tr><tr><td>2</td><td>true</td><td>&quot;float32&quot;</td><td>&quot;()&quot;</td><td>71.0</td><td>&quot;float32&quot;</td><td>&quot;(3,)&quot;</td><td>71.0</td><td>&quot;float32&quot;</td><td>&quot;()&quot;</td><td>71.0</td><td>&quot;float32&quot;</td><td>&quot;(3,)&quot;</td><td>71.0</td><td>&quot;bool&quot;</td><td>&quot;()&quot;</td><td>71.0</td><td>&quot;bool&quot;</td><td>&quot;()&quot;</td><td>71.0</td><td>&quot;bool&quot;</td><td>&quot;()&quot;</td><td>71.0</td><td>&quot;uint8&quot;</td><td>&quot;(480, 640, 3)&quot;</td><td>71.0</td><td>&quot;uint8&quot;</td><td>&quot;(480, 640, 3)&quot;</td><td>71.0</td><td>&quot;float32&quot;</td><td>&quot;(480, 640, 1)&quot;</td><td>71.0</td><td>&quot;float32&quot;</td><td>&quot;(512,)&quot;</td><td>71.0</td><td>&quot;string&quot;</td><td>&quot;()&quot;</td><td>71.0</td><td>&quot;float32&quot;</td><td>&quot;(15,)&quot;</td><td>71.0</td><td>&quot;float32&quot;</td><td>&quot;()&quot;</td><td>71.0</td></tr><tr><td>3</td><td>true</td><td>&quot;float32&quot;</td><td>&quot;()&quot;</td><td>76.0</td><td>&quot;float32&quot;</td><td>&quot;(3,)&quot;</td><td>76.0</td><td>&quot;float32&quot;</td><td>&quot;()&quot;</td><td>76.0</td><td>&quot;float32&quot;</td><td>&quot;(3,)&quot;</td><td>76.0</td><td>&quot;bool&quot;</td><td>&quot;()&quot;</td><td>76.0</td><td>&quot;bool&quot;</td><td>&quot;()&quot;</td><td>76.0</td><td>&quot;bool&quot;</td><td>&quot;()&quot;</td><td>76.0</td><td>&quot;uint8&quot;</td><td>&quot;(480, 640, 3)&quot;</td><td>76.0</td><td>&quot;uint8&quot;</td><td>&quot;(480, 640, 3)&quot;</td><td>76.0</td><td>&quot;float32&quot;</td><td>&quot;(480, 640, 1)&quot;</td><td>76.0</td><td>&quot;float32&quot;</td><td>&quot;(512,)&quot;</td><td>76.0</td><td>&quot;string&quot;</td><td>&quot;()&quot;</td><td>76.0</td><td>&quot;float32&quot;</td><td>&quot;(15,)&quot;</td><td>76.0</td><td>&quot;float32&quot;</td><td>&quot;()&quot;</td><td>76.0</td></tr><tr><td>4</td><td>true</td><td>&quot;float32&quot;</td><td>&quot;()&quot;</td><td>123.0</td><td>&quot;float32&quot;</td><td>&quot;(3,)&quot;</td><td>123.0</td><td>&quot;float32&quot;</td><td>&quot;()&quot;</td><td>123.0</td><td>&quot;float32&quot;</td><td>&quot;(3,)&quot;</td><td>123.0</td><td>&quot;bool&quot;</td><td>&quot;()&quot;</td><td>123.0</td><td>&quot;bool&quot;</td><td>&quot;()&quot;</td><td>123.0</td><td>&quot;bool&quot;</td><td>&quot;()&quot;</td><td>123.0</td><td>&quot;uint8&quot;</td><td>&quot;(480, 640, 3)&quot;</td><td>123.0</td><td>&quot;uint8&quot;</td><td>&quot;(480, 640, 3)&quot;</td><td>123.0</td><td>&quot;float32&quot;</td><td>&quot;(480, 640, 1)&quot;</td><td>123.0</td><td>&quot;float32&quot;</td><td>&quot;(512,)&quot;</td><td>123.0</td><td>&quot;string&quot;</td><td>&quot;()&quot;</td><td>123.0</td><td>&quot;float32&quot;</td><td>&quot;(15,)&quot;</td><td>123.0</td><td>&quot;float32&quot;</td><td>&quot;()&quot;</td><td>123.0</td></tr><tr><td>5</td><td>true</td><td>&quot;float32&quot;</td><td>&quot;()&quot;</td><td>103.0</td><td>&quot;float32&quot;</td><td>&quot;(3,)&quot;</td><td>103.0</td><td>&quot;float32&quot;</td><td>&quot;()&quot;</td><td>103.0</td><td>&quot;float32&quot;</td><td>&quot;(3,)&quot;</td><td>103.0</td><td>&quot;bool&quot;</td><td>&quot;()&quot;</td><td>103.0</td><td>&quot;bool&quot;</td><td>&quot;()&quot;</td><td>103.0</td><td>&quot;bool&quot;</td><td>&quot;()&quot;</td><td>103.0</td><td>&quot;uint8&quot;</td><td>&quot;(480, 640, 3)&quot;</td><td>103.0</td><td>&quot;uint8&quot;</td><td>&quot;(480, 640, 3)&quot;</td><td>103.0</td><td>&quot;float32&quot;</td><td>&quot;(480, 640, 1)&quot;</td><td>103.0</td><td>&quot;float32&quot;</td><td>&quot;(512,)&quot;</td><td>103.0</td><td>&quot;string&quot;</td><td>&quot;()&quot;</td><td>103.0</td><td>&quot;float32&quot;</td><td>&quot;(15,)&quot;</td><td>103.0</td><td>&quot;float32&quot;</td><td>&quot;()&quot;</td><td>103.0</td></tr><tr><td>6</td><td>true</td><td>&quot;float32&quot;</td><td>&quot;()&quot;</td><td>110.0</td><td>&quot;float32&quot;</td><td>&quot;(3,)&quot;</td><td>110.0</td><td>&quot;float32&quot;</td><td>&quot;()&quot;</td><td>110.0</td><td>&quot;float32&quot;</td><td>&quot;(3,)&quot;</td><td>110.0</td><td>&quot;bool&quot;</td><td>&quot;()&quot;</td><td>110.0</td><td>&quot;bool&quot;</td><td>&quot;()&quot;</td><td>110.0</td><td>&quot;bool&quot;</td><td>&quot;()&quot;</td><td>110.0</td><td>&quot;uint8&quot;</td><td>&quot;(480, 640, 3)&quot;</td><td>110.0</td><td>&quot;uint8&quot;</td><td>&quot;(480, 640, 3)&quot;</td><td>110.0</td><td>&quot;float32&quot;</td><td>&quot;(480, 640, 1)&quot;</td><td>110.0</td><td>&quot;float32&quot;</td><td>&quot;(512,)&quot;</td><td>110.0</td><td>&quot;string&quot;</td><td>&quot;()&quot;</td><td>110.0</td><td>&quot;float32&quot;</td><td>&quot;(15,)&quot;</td><td>110.0</td><td>&quot;float32&quot;</td><td>&quot;()&quot;</td><td>110.0</td></tr><tr><td>7</td><td>true</td><td>&quot;float32&quot;</td><td>&quot;()&quot;</td><td>118.0</td><td>&quot;float32&quot;</td><td>&quot;(3,)&quot;</td><td>118.0</td><td>&quot;float32&quot;</td><td>&quot;()&quot;</td><td>118.0</td><td>&quot;float32&quot;</td><td>&quot;(3,)&quot;</td><td>118.0</td><td>&quot;bool&quot;</td><td>&quot;()&quot;</td><td>118.0</td><td>&quot;bool&quot;</td><td>&quot;()&quot;</td><td>118.0</td><td>&quot;bool&quot;</td><td>&quot;()&quot;</td><td>118.0</td><td>&quot;uint8&quot;</td><td>&quot;(480, 640, 3)&quot;</td><td>118.0</td><td>&quot;uint8&quot;</td><td>&quot;(480, 640, 3)&quot;</td><td>118.0</td><td>&quot;float32&quot;</td><td>&quot;(480, 640, 1)&quot;</td><td>118.0</td><td>&quot;float32&quot;</td><td>&quot;(512,)&quot;</td><td>118.0</td><td>&quot;string&quot;</td><td>&quot;()&quot;</td><td>118.0</td><td>&quot;float32&quot;</td><td>&quot;(15,)&quot;</td><td>118.0</td><td>&quot;float32&quot;</td><td>&quot;()&quot;</td><td>118.0</td></tr><tr><td>8</td><td>true</td><td>&quot;float32&quot;</td><td>&quot;()&quot;</td><td>84.0</td><td>&quot;float32&quot;</td><td>&quot;(3,)&quot;</td><td>84.0</td><td>&quot;float32&quot;</td><td>&quot;()&quot;</td><td>84.0</td><td>&quot;float32&quot;</td><td>&quot;(3,)&quot;</td><td>84.0</td><td>&quot;bool&quot;</td><td>&quot;()&quot;</td><td>84.0</td><td>&quot;bool&quot;</td><td>&quot;()&quot;</td><td>84.0</td><td>&quot;bool&quot;</td><td>&quot;()&quot;</td><td>84.0</td><td>&quot;uint8&quot;</td><td>&quot;(480, 640, 3)&quot;</td><td>84.0</td><td>&quot;uint8&quot;</td><td>&quot;(480, 640, 3)&quot;</td><td>84.0</td><td>&quot;float32&quot;</td><td>&quot;(480, 640, 1)&quot;</td><td>84.0</td><td>&quot;float32&quot;</td><td>&quot;(512,)&quot;</td><td>84.0</td><td>&quot;string&quot;</td><td>&quot;()&quot;</td><td>84.0</td><td>&quot;float32&quot;</td><td>&quot;(15,)&quot;</td><td>84.0</td><td>&quot;float32&quot;</td><td>&quot;()&quot;</td><td>84.0</td></tr><tr><td>9</td><td>true</td><td>&quot;float32&quot;</td><td>&quot;()&quot;</td><td>97.0</td><td>&quot;float32&quot;</td><td>&quot;(3,)&quot;</td><td>97.0</td><td>&quot;float32&quot;</td><td>&quot;()&quot;</td><td>97.0</td><td>&quot;float32&quot;</td><td>&quot;(3,)&quot;</td><td>97.0</td><td>&quot;bool&quot;</td><td>&quot;()&quot;</td><td>97.0</td><td>&quot;bool&quot;</td><td>&quot;()&quot;</td><td>97.0</td><td>&quot;bool&quot;</td><td>&quot;()&quot;</td><td>97.0</td><td>&quot;uint8&quot;</td><td>&quot;(480, 640, 3)&quot;</td><td>97.0</td><td>&quot;uint8&quot;</td><td>&quot;(480, 640, 3)&quot;</td><td>97.0</td><td>&quot;float32&quot;</td><td>&quot;(480, 640, 1)&quot;</td><td>97.0</td><td>&quot;float32&quot;</td><td>&quot;(512,)&quot;</td><td>97.0</td><td>&quot;string&quot;</td><td>&quot;()&quot;</td><td>97.0</td><td>&quot;float32&quot;</td><td>&quot;(15,)&quot;</td><td>97.0</td><td>&quot;float32&quot;</td><td>&quot;()&quot;</td><td>97.0</td></tr></tbody></table></div>"
            ]
          },
          "metadata": {},
          "execution_count": 12
        }
      ]
    },
    {
      "cell_type": "markdown",
      "source": [
        "# Google Cloud Platform"
      ],
      "metadata": {
        "id": "cB7QVbp6i-Mx"
      }
    },
    {
      "cell_type": "markdown",
      "source": [
        "Register google cloud credentials\n",
        "\n",
        "Alternative in non-colab environment, run following command instead:\n",
        "```\n",
        "gcloud auth application-default login   --quiet --no-launch-browser\n",
        "```\n"
      ],
      "metadata": {
        "id": "8MIV3MZUjNta"
      }
    },
    {
      "cell_type": "code",
      "source": [
        "from google.colab import auth\n",
        "PROJECT_ID = \"canvas-rampart-342500\"\n",
        "auth.authenticate_user(project_id=PROJECT_ID)"
      ],
      "metadata": {
        "colab": {
          "base_uri": "https://localhost:8080/"
        },
        "id": "ryd_To6LL3nX",
        "outputId": "d571dfd9-6ffc-4847-e5d2-a455359eefd6"
      },
      "execution_count": 13,
      "outputs": [
        {
          "output_type": "stream",
          "name": "stderr",
          "text": [
            "INFO:google.colab.auth:Failure refreshing credentials: (\"Failed to retrieve http://metadata.google.internal/computeMetadata/v1/instance/service-accounts/default/?recursive=true from the Google Compute Engine metadata service. Status: 404 Response:\\nb''\", <google.auth.transport.requests._Response object at 0x78740cdf70a0>)\n",
            "INFO:google.colab.auth:Failure refreshing credentials: (\"Failed to retrieve http://metadata.google.internal/computeMetadata/v1/instance/service-accounts/default/?recursive=true from the Google Compute Engine metadata service. Status: 404 Response:\\nb''\", <google.auth.transport.requests._Response object at 0x787408338190>)\n"
          ]
        }
      ]
    },
    {
      "cell_type": "code",
      "source": [
        "! gcloud storage buckets create gs://fog_rtx_test  --location=us-east1"
      ],
      "metadata": {
        "colab": {
          "base_uri": "https://localhost:8080/"
        },
        "id": "fYM3ExvGL3z7",
        "outputId": "721e97ca-0a90-4e85-af14-3503eb62dc06"
      },
      "execution_count": 14,
      "outputs": [
        {
          "output_type": "stream",
          "name": "stdout",
          "text": [
            "Creating gs://fog_rtx_test/...\n",
            "\u001b[1;31mERROR:\u001b[0m (gcloud.storage.buckets.create) HTTPError 409: Your previous request to create the named bucket succeeded and you already own it.\n"
          ]
        }
      ]
    },
    {
      "cell_type": "code",
      "source": [
        "dataset = fog_x.dataset.Dataset(\n",
        "    name=\"demo_ds\",\n",
        "    path='gs://fog_rtx_test/',\n",
        ")"
      ],
      "metadata": {
        "id": "pd94S4VlL32u"
      },
      "execution_count": null,
      "outputs": []
    },
    {
      "cell_type": "markdown",
      "source": [
        "### Known issues\n",
        "\n",
        "1. `export` as rlds format to the cloud directly does not work yet for S3 (known issue for tensorflow Gfile)\n",
        "2. (will fix) automatically check the existence"
      ],
      "metadata": {
        "id": "P2RCUMs6knNc"
      }
    },
    {
      "cell_type": "code",
      "source": [],
      "metadata": {
        "id": "QKS5jK-Qk9fN"
      },
      "execution_count": null,
      "outputs": []
    }
  ]
}